{
 "cells": [
  {
   "cell_type": "code",
   "execution_count": 1,
   "metadata": {
    "ExecuteTime": {
     "end_time": "2020-01-07T19:10:12.273282Z",
     "start_time": "2020-01-07T19:10:11.382904Z"
    },
    "scrolled": true
   },
   "outputs": [],
   "source": [
    "import re\n",
    "import pandas as pd\n",
    "import numpy as np\n",
    "import datetime as dt\n",
    "import pickle\n",
    "import seaborn as sns\n",
    "import matplotlib.pyplot as plt\n",
    "import matplotlib\n",
    "from sklearn.linear_model import LinearRegression, Ridge, Lasso, LassoCV, RidgeCV\n",
    "from sklearn.preprocessing import StandardScaler, PolynomialFeatures\n",
    "from sklearn.model_selection import train_test_split\n",
    "from sklearn.metrics import mean_squared_error as mse\n",
    "%matplotlib inline\n",
    "sns.set()\n",
    "sns.set_style({'ytick.bottom': True})\n",
    "from sklearn.model_selection import cross_val_score\n"
   ]
  },
  {
   "cell_type": "code",
   "execution_count": 2,
   "metadata": {
    "ExecuteTime": {
     "end_time": "2020-01-07T19:10:12.286928Z",
     "start_time": "2020-01-07T19:10:12.284317Z"
    }
   },
   "outputs": [],
   "source": [
    "pd.options.display.max_rows = 10"
   ]
  },
  {
   "cell_type": "code",
   "execution_count": 3,
   "metadata": {
    "ExecuteTime": {
     "end_time": "2020-01-07T19:10:12.716439Z",
     "start_time": "2020-01-07T19:10:12.710663Z"
    },
    "scrolled": true
   },
   "outputs": [],
   "source": [
    "def TrainValTest(X, y):\n",
    "    '''\n",
    "    For a set of features and target X, y, perform a 80/20 train/test split, \n",
    "    then further split into training, validation, and test sets (60/20/20).\n",
    "    '''\n",
    "    \n",
    "    # perform train/test split\n",
    "    X_train_val, X_test, y_train_val, y_test = \\\n",
    "        train_test_split(X, y, test_size=0.2, random_state=42)\n",
    "    #split training set again\n",
    "    X_train, X_val, y_train, y_val = train_test_split(X_train_val, y_train_val, test_size=.25, random_state=3)\n",
    "    return X_train, X_val, X_test, y_train, y_val, y_test"
   ]
  },
  {
   "cell_type": "code",
   "execution_count": 4,
   "metadata": {
    "ExecuteTime": {
     "end_time": "2020-01-07T19:10:13.709634Z",
     "start_time": "2020-01-07T19:10:13.676295Z"
    },
    "scrolled": true
   },
   "outputs": [],
   "source": [
    "with open('data/project_2_basecase.pkl', 'rb') as picklefile:\n",
    "    df_base = pickle.load(picklefile)"
   ]
  },
  {
   "cell_type": "markdown",
   "metadata": {},
   "source": [
    "#### Bin low-frequency genres to \"Other\" category"
   ]
  },
  {
   "cell_type": "code",
   "execution_count": 7,
   "metadata": {
    "ExecuteTime": {
     "end_time": "2019-12-19T21:51:03.669764Z",
     "start_time": "2019-12-19T21:51:03.559560Z"
    },
    "scrolled": true
   },
   "outputs": [],
   "source": [
    "df_base['genre'] = df_base.genre.apply(lambda x: ''.join(x.split(',')[:2]))\n",
    "genrecounts = df_base.genre.value_counts()\n",
    "othergenres = list(genrecounts[genrecounts<=60].index)\n",
    "df_base['genre'] = df_base['genre'].replace(othergenres, 'Other')\n",
    "df_base.drop('style', axis=1, inplace=True)\n",
    "df_base=pd.get_dummies(df_base)"
   ]
  },
  {
   "cell_type": "code",
   "execution_count": 8,
   "metadata": {
    "ExecuteTime": {
     "end_time": "2019-12-19T21:51:04.112016Z",
     "start_time": "2019-12-19T21:51:04.076599Z"
    },
    "scrolled": true
   },
   "outputs": [],
   "source": [
    "X_train, X_val, X_test, y_train, y_val, y_test = \\\n",
    "TrainValTest(df_base.drop('median',axis=1), df_base['median'])"
   ]
  },
  {
   "cell_type": "code",
   "execution_count": 9,
   "metadata": {
    "ExecuteTime": {
     "end_time": "2019-12-19T21:51:04.933119Z",
     "start_time": "2019-12-19T21:51:04.837212Z"
    },
    "scrolled": true
   },
   "outputs": [
    {
     "name": "stdout",
     "output_type": "stream",
     "text": [
      "Training score:  0.939467323869293 \n",
      "Validation Score:  0.9036869766117189\n"
     ]
    }
   ],
   "source": [
    "lm = LinearRegression()\n",
    "lm.fit(X_train, y_train)\n",
    "print(\"Training score: \",lm.score(X_train, y_train),\"\\nValidation Score: \",lm.score(X_val,y_val))"
   ]
  },
  {
   "cell_type": "markdown",
   "metadata": {},
   "source": [
    "Wow that's high! I wonder why?"
   ]
  },
  {
   "cell_type": "code",
   "execution_count": 16,
   "metadata": {
    "ExecuteTime": {
     "end_time": "2019-12-19T21:58:33.414849Z",
     "start_time": "2019-12-19T21:58:33.406275Z"
    }
   },
   "outputs": [
    {
     "data": {
      "text/plain": [
       "[(0.9250883232352561, 'lowest'),\n",
       " (0.6022930423721885, 'genre_Electronic Hip Hop'),\n",
       " (0.5340347082565168, 'genre_Other'),\n",
       " (0.527325656414518, 'format_CDr'),\n",
       " (0.47126390093642034, 'genre_Electronic Reggae'),\n",
       " (0.37460631859308363, 'country_Canada'),\n",
       " (0.35930792869497197, 'genre_Electronic Rock'),\n",
       " (0.3570586407594417, 'genre_Reggae'),\n",
       " (0.3460367374442034, 'format_CD'),\n",
       " (0.3459092123211889, 'country_Sweden'),\n",
       " (0.2818880467696525, 'genre_Hip Hop Funk / Soul'),\n",
       " (0.27168759959702565, 'rating'),\n",
       " (0.26634159488522774, 'country_Europe'),\n",
       " (0.2662045070131954, 'comment_num'),\n",
       " (0.26157993507431754, 'genre_Jazz'),\n",
       " (0.25928554330301073, 'country_Belgium'),\n",
       " (0.25522402958824897, 'format_Vinyl'),\n",
       " (0.2243900757833744, 'country_UK & Europe'),\n",
       " (0.20466208556596843, 'highest'),\n",
       " (0.18342298148731112, 'genre_Rock'),\n",
       " (0.15686086261320814, 'genre_Jazz Funk / Soul'),\n",
       " (0.14449490603448045, 'country_Italy'),\n",
       " (0.10632169278032938, 'genre_Hip Hop'),\n",
       " (0.04962539366643635, 'country_France'),\n",
       " (0.04292439475738973, 'ask_price'),\n",
       " (0.04003041450072485, 'country_Germany'),\n",
       " (0.02139501040587153, 'country_Spain'),\n",
       " (0.016496142800240737, 'genre_Pop'),\n",
       " (0.00524719985207317, 'want_num'),\n",
       " (0.004776914378446406, 'num_ratings'),\n",
       " (0.0004618533518208623, 'last_sold'),\n",
       " (-0.0003970616718753095, 'num_for_sale'),\n",
       " (-0.0007740326681189846, 'release_date'),\n",
       " (-0.002688253825922818, 'have_num'),\n",
       " (-0.01188117837243885, 'genre_Electronic Pop'),\n",
       " (-0.03024753071603592, 'link_num'),\n",
       " (-0.08374317924535696, 'genre_Electronic'),\n",
       " (-0.0858949579067884, 'country_UK'),\n",
       " (-0.08923781918566144, 'country_Switzerland'),\n",
       " (-0.08976036040343055, 'country_Netherlands'),\n",
       " (-0.10420508880842641, 'genre_Rock Pop'),\n",
       " (-0.11624829062028277, 'genre_Electronic Jazz'),\n",
       " (-0.13576963582040671, 'country_Other'),\n",
       " (-0.18793906962752, 'country_US'),\n",
       " (-0.20679328548357667, 'genre_Funk / Soul'),\n",
       " (-0.3009471328916323, 'genre_Electronic Funk / Soul'),\n",
       " (-0.3044887912455005, 'format_Other'),\n",
       " (-0.5546053389314173, 'country_Australia'),\n",
       " (-0.5828712876181367, 'country_Japan'),\n",
       " (-0.8149632291852039, 'genre_Jazz Rock'),\n",
       " (-0.8240976322014515, 'format_Cassette'),\n",
       " (-1.6917464979376753, 'genre_Classical')]"
      ]
     },
     "execution_count": 16,
     "metadata": {},
     "output_type": "execute_result"
    }
   ],
   "source": [
    "# mostly attributable to lowest, highest, and rating features\n",
    "sorted(list(zip(lm.coef_, X_train.columns)), reverse=True)"
   ]
  },
  {
   "cell_type": "markdown",
   "metadata": {},
   "source": [
    "The \"lowest\" and \"highest\" features are giving our model too much information about the median--if you have "
   ]
  },
  {
   "cell_type": "code",
   "execution_count": 9,
   "metadata": {
    "ExecuteTime": {
     "end_time": "2019-10-11T02:03:20.795474Z",
     "start_time": "2019-10-11T02:03:20.769324Z"
    },
    "scrolled": true
   },
   "outputs": [
    {
     "name": "stdout",
     "output_type": "stream",
     "text": [
      "Training score:  0.5107146837538736 \n",
      "Validation Score:  0.6303993246414166\n"
     ]
    }
   ],
   "source": [
    "lm2= LinearRegression()\n",
    "lm2.fit(X_train.drop(['highest','lowest'],axis=1), y_train)\n",
    "print(\"Training score: \",lm2.score(X_train.drop(['highest','lowest'], axis=1), y_train),\"\\nValidation Score: \",lm2.score(X_val.drop(['highest','lowest'], axis=1),y_val))"
   ]
  },
  {
   "cell_type": "code",
   "execution_count": 10,
   "metadata": {
    "ExecuteTime": {
     "end_time": "2019-10-11T02:03:20.914510Z",
     "start_time": "2019-10-11T02:03:20.796826Z"
    },
    "scrolled": true
   },
   "outputs": [
    {
     "data": {
      "text/plain": [
       "array([0.45151665, 0.47897333, 0.48348061, 0.46494907, 0.58771434])"
      ]
     },
     "execution_count": 10,
     "metadata": {},
     "output_type": "execute_result"
    }
   ],
   "source": [
    "cross_val_score(lm2, df_base.drop(['median', 'highest','lowest'],axis=1),df_base['median'], cv=5, scoring = 'r2')"
   ]
  },
  {
   "cell_type": "markdown",
   "metadata": {},
   "source": [
    "#### maybe the outliers are making this too hard"
   ]
  },
  {
   "cell_type": "code",
   "execution_count": 21,
   "metadata": {
    "ExecuteTime": {
     "end_time": "2019-10-14T14:44:13.134753Z",
     "start_time": "2019-10-14T14:44:13.127173Z"
    },
    "scrolled": true
   },
   "outputs": [],
   "source": [
    "df2=df_base[(df_base['median']<200)&(df_base['median']>0.15)]"
   ]
  },
  {
   "cell_type": "code",
   "execution_count": 47,
   "metadata": {
    "ExecuteTime": {
     "end_time": "2019-10-14T15:05:00.891255Z",
     "start_time": "2019-10-14T15:05:00.873791Z"
    },
    "scrolled": true
   },
   "outputs": [],
   "source": [
    "X2_train, X2_val, X2_test, y2_train, y2_val, y2_test = \\\n",
    "TrainValTest(df2.drop('median',axis=1), df2['median'])"
   ]
  },
  {
   "cell_type": "code",
   "execution_count": 48,
   "metadata": {
    "ExecuteTime": {
     "end_time": "2019-10-14T15:05:01.275768Z",
     "start_time": "2019-10-14T15:05:01.243790Z"
    },
    "scrolled": true
   },
   "outputs": [
    {
     "name": "stdout",
     "output_type": "stream",
     "text": [
      "Training score:  0.5049143661313207 \n",
      "Validation Score:  0.6029416375783858\n"
     ]
    }
   ],
   "source": [
    "lm2= LinearRegression()\n",
    "lm2.fit(X2_train.drop(['highest','lowest'],axis=1), y2_train)\n",
    "print(\"Training score: \",lm2.score(X2_train.drop(['highest','lowest'], axis=1), y2_train),\"\\nValidation Score: \",lm2.score(X2_val.drop(['highest','lowest'], axis=1),y2_val))"
   ]
  },
  {
   "cell_type": "code",
   "execution_count": 49,
   "metadata": {
    "ExecuteTime": {
     "end_time": "2019-10-14T15:05:01.911961Z",
     "start_time": "2019-10-14T15:05:01.794971Z"
    },
    "scrolled": true
   },
   "outputs": [
    {
     "data": {
      "text/plain": [
       "0.5264008802454783"
      ]
     },
     "execution_count": 49,
     "metadata": {},
     "output_type": "execute_result"
    }
   ],
   "source": [
    "np.mean(cross_val_score(lm2, df2.drop(['median', 'highest','lowest'],axis=1),df2['median'], cv=5, scoring = 'r2'))"
   ]
  },
  {
   "cell_type": "markdown",
   "metadata": {},
   "source": [
    "not bad..."
   ]
  },
  {
   "cell_type": "code",
   "execution_count": 50,
   "metadata": {
    "ExecuteTime": {
     "end_time": "2019-10-14T15:05:02.856108Z",
     "start_time": "2019-10-14T15:05:02.849034Z"
    },
    "scrolled": false
   },
   "outputs": [
    {
     "data": {
      "text/plain": [
       "[(4.594117147924629, 'format_CDr'),\n",
       " (3.5671886713105607, 'country_Germany'),\n",
       " (2.684254534081385, 'genre_Hip Hop'),\n",
       " (2.4358417985892524, 'country_Spain'),\n",
       " (2.4252998109605683, 'genre_Other'),\n",
       " (2.4042062125133077, 'want_num'),\n",
       " (2.2075694922263276, 'country_UK & Europe'),\n",
       " (1.9943577007429933, 'num_for_sale'),\n",
       " (1.8660046891047752, 'format_Other'),\n",
       " (1.2960070864761342, 'genre_Electronic Jazz'),\n",
       " (0.9008771298890508, 'genre_Electronic Pop'),\n",
       " (0.8315541370531605, 'country_Japan'),\n",
       " (0.7722027165034512, 'genre_Jazz Funk / Soul'),\n",
       " (0.7700193612841675, 'genre_Jazz'),\n",
       " (0.689755257434308, 'genre_Pop')]"
      ]
     },
     "execution_count": 50,
     "metadata": {},
     "output_type": "execute_result"
    }
   ],
   "source": [
    "sorted(list(zip(lm2.coef_, X2_train.columns)), reverse=True)[:15]"
   ]
  },
  {
   "cell_type": "code",
   "execution_count": 51,
   "metadata": {
    "ExecuteTime": {
     "end_time": "2019-10-14T15:05:09.405198Z",
     "start_time": "2019-10-14T15:05:04.977810Z"
    },
    "scrolled": true
   },
   "outputs": [
    {
     "data": {
      "text/plain": [
       "RidgeCV(alphas=array([ 10.        ,  11.01123596,  12.02247191,  13.03370787,\n",
       "        14.04494382,  15.05617978,  16.06741573,  17.07865169,\n",
       "        18.08988764,  19.1011236 ,  20.11235955,  21.12359551,\n",
       "        22.13483146,  23.14606742,  24.15730337,  25.16853933,\n",
       "        26.17977528,  27.19101124,  28.20224719,  29.21348315,\n",
       "        30.2247191 ,  31.23595506,  32.24719101,  33.25842697,\n",
       "        34.26966292,  35.28089888,  36.29213483,  37.30337079,\n",
       "        38...\n",
       "        74.71910112,  75.73033708,  76.74157303,  77.75280899,\n",
       "        78.76404494,  79.7752809 ,  80.78651685,  81.79775281,\n",
       "        82.80898876,  83.82022472,  84.83146067,  85.84269663,\n",
       "        86.85393258,  87.86516854,  88.87640449,  89.88764045,\n",
       "        90.8988764 ,  91.91011236,  92.92134831,  93.93258427,\n",
       "        94.94382022,  95.95505618,  96.96629213,  97.97752809,\n",
       "        98.98876404, 100.        ]),\n",
       "        cv=5, fit_intercept=True, gcv_mode=None, normalize=False, scoring=None,\n",
       "        store_cv_values=False)"
      ]
     },
     "execution_count": 51,
     "metadata": {},
     "output_type": "execute_result"
    }
   ],
   "source": [
    "alphavec = np.linspace(10, 100, 90)\n",
    "ridge_model = RidgeCV(alphavec, cv=5)\n",
    "ridge_model.fit(X2_train.drop(['highest','lowest'],axis=1), y2_train)\n"
   ]
  },
  {
   "cell_type": "code",
   "execution_count": 63,
   "metadata": {
    "ExecuteTime": {
     "end_time": "2019-10-14T15:10:23.152175Z",
     "start_time": "2019-10-14T15:10:23.142603Z"
    },
    "scrolled": true
   },
   "outputs": [
    {
     "data": {
      "text/plain": [
       "0.6039850432747542"
      ]
     },
     "execution_count": 63,
     "metadata": {},
     "output_type": "execute_result"
    }
   ],
   "source": [
    "ridge_model.score(X2_val.drop(['highest','lowest'], axis=1), y2_val)"
   ]
  },
  {
   "cell_type": "markdown",
   "metadata": {},
   "source": [
    "#### Can we get away with no information about price at all?"
   ]
  },
  {
   "cell_type": "code",
   "execution_count": 30,
   "metadata": {
    "ExecuteTime": {
     "end_time": "2019-10-14T14:46:28.189126Z",
     "start_time": "2019-10-14T14:46:28.168082Z"
    },
    "scrolled": true
   },
   "outputs": [],
   "source": [
    "with open('data/project_2_styletags.pkl', 'rb') as picklefile:\n",
    "    df_noprices = pickle.load(picklefile)"
   ]
  },
  {
   "cell_type": "code",
   "execution_count": 31,
   "metadata": {
    "ExecuteTime": {
     "end_time": "2019-10-14T14:46:28.477495Z",
     "start_time": "2019-10-14T14:46:28.475497Z"
    },
    "scrolled": true
   },
   "outputs": [],
   "source": [
    "#df_noprices=df_noprices[(df_noprices['median']<100)&(df_noprices['median']>0.15)]"
   ]
  },
  {
   "cell_type": "code",
   "execution_count": 32,
   "metadata": {
    "ExecuteTime": {
     "end_time": "2019-10-14T14:46:28.827342Z",
     "start_time": "2019-10-14T14:46:28.793169Z"
    },
    "scrolled": true
   },
   "outputs": [],
   "source": [
    "X3_train, X3_val, X3_test, y3_train, y3_val, y3_test = \\\n",
    "TrainValTest(df_noprices.drop('median',axis=1), df_noprices['median'])"
   ]
  },
  {
   "cell_type": "code",
   "execution_count": 33,
   "metadata": {
    "ExecuteTime": {
     "end_time": "2019-10-14T14:46:31.305961Z",
     "start_time": "2019-10-14T14:46:31.268622Z"
    },
    "scrolled": true
   },
   "outputs": [
    {
     "name": "stdout",
     "output_type": "stream",
     "text": [
      "Training score:  0.30523870356004734 \n",
      "Validation Score:  0.38096360942657576\n"
     ]
    }
   ],
   "source": [
    "lm3= LinearRegression()\n",
    "lm3.fit(X3_train, y3_train)\n",
    "print(\"Training score: \",lm3.score(X3_train, y3_train),\"\\nValidation Score: \",lm3.score(X3_val,y3_val))"
   ]
  },
  {
   "cell_type": "code",
   "execution_count": 34,
   "metadata": {
    "ExecuteTime": {
     "end_time": "2019-10-14T14:46:33.994088Z",
     "start_time": "2019-10-14T14:46:33.798737Z"
    },
    "scrolled": true
   },
   "outputs": [
    {
     "data": {
      "text/plain": [
       "0.31902836886688063"
      ]
     },
     "execution_count": 34,
     "metadata": {},
     "output_type": "execute_result"
    }
   ],
   "source": [
    "np.mean(cross_val_score(lm3, df_noprices.drop('median',axis=1), df_noprices['median'], cv=5, scoring='r2'))"
   ]
  },
  {
   "cell_type": "markdown",
   "metadata": {},
   "source": [
    "### OK, let's see if we can do better!"
   ]
  },
  {
   "cell_type": "code",
   "execution_count": 66,
   "metadata": {
    "ExecuteTime": {
     "end_time": "2019-10-14T15:14:03.647161Z",
     "start_time": "2019-10-14T15:14:03.629002Z"
    },
    "scrolled": true
   },
   "outputs": [],
   "source": [
    "df3 = df_noprices.copy()\n",
    "df3['want_have_ratio'] = df3['want_num']/df2['have_num']\n",
    "df3['want_have_ratio'].replace(np.inf, 0, inplace=True)\n",
    "df3['want_have_ratio'].replace(np.nan, 0,inplace=True)"
   ]
  },
  {
   "cell_type": "code",
   "execution_count": 67,
   "metadata": {
    "ExecuteTime": {
     "end_time": "2019-10-14T15:14:04.395571Z",
     "start_time": "2019-10-14T15:14:04.356312Z"
    },
    "scrolled": false
   },
   "outputs": [],
   "source": [
    "X4_train, X4_val, X4_test, y4_train, y4_val, y4_test = \\\n",
    "TrainValTest(df3.drop('median',axis=1), df3['median'])"
   ]
  },
  {
   "cell_type": "code",
   "execution_count": 68,
   "metadata": {
    "ExecuteTime": {
     "end_time": "2019-10-14T15:14:05.293447Z",
     "start_time": "2019-10-14T15:14:05.249811Z"
    },
    "scrolled": true
   },
   "outputs": [
    {
     "name": "stdout",
     "output_type": "stream",
     "text": [
      "Training score:  0.3311356183264471 \n",
      "Validation Score:  0.42247590529705903\n"
     ]
    }
   ],
   "source": [
    "lm4= LinearRegression()\n",
    "lm4.fit(X4_train, y4_train)\n",
    "print(\"Training score: \",lm4.score(X4_train, y4_train),\"\\nValidation Score: \",lm4.score(X4_val,y4_val))"
   ]
  },
  {
   "cell_type": "code",
   "execution_count": 69,
   "metadata": {
    "ExecuteTime": {
     "end_time": "2019-10-14T15:14:06.060317Z",
     "start_time": "2019-10-14T15:14:05.840924Z"
    },
    "scrolled": true
   },
   "outputs": [
    {
     "data": {
      "text/plain": [
       "0.3397092022168965"
      ]
     },
     "execution_count": 69,
     "metadata": {},
     "output_type": "execute_result"
    }
   ],
   "source": [
    "np.mean(cross_val_score(lm4, df3.drop('median',axis=1), df3['median'], cv=5,scoring='r2'))"
   ]
  },
  {
   "cell_type": "code",
   "execution_count": 70,
   "metadata": {
    "ExecuteTime": {
     "end_time": "2019-10-14T15:14:06.626047Z",
     "start_time": "2019-10-14T15:14:06.616218Z"
    },
    "scrolled": false
   },
   "outputs": [
    {
     "data": {
      "text/plain": [
       "[(5.971370486080959, 'country_Japan'),\n",
       " (5.821300059397675, 'format_Other'),\n",
       " (2.6863899482033027, 'country_Australia'),\n",
       " (2.5771588245744663, 'rating'),\n",
       " (2.103861336550023, 'Gabber'),\n",
       " (2.0934021448641342, 'country_Switzerland'),\n",
       " (1.5937937981484616, 'Jungle'),\n",
       " (1.4223923302812898, 'Non-Music'),\n",
       " (1.2237145134026444, 'Noise'),\n",
       " (1.1825607299962204, 'want_have_ratio'),\n",
       " (1.1289038337247934, 'Classical'),\n",
       " (1.0705618611499625, 'Experimental'),\n",
       " (1.0571948868739605, 'format_CDr'),\n",
       " (1.004819044318493, 'Rock'),\n",
       " (0.9402327593131624, 'country_Sweden'),\n",
       " (0.92878297976167, 'New Wave'),\n",
       " (0.8615830701400145, 'Psychedelic Rock'),\n",
       " (0.8528928589124305, 'Punk'),\n",
       " (0.810848047448805, 'Acid'),\n",
       " (0.7966609244633538, 'Synth-pop'),\n",
       " (0.764946302439288, 'Blues'),\n",
       " (0.7363445340374248, 'Italodance'),\n",
       " (0.7147425944001823, 'country_Other'),\n",
       " (0.7110688742949256, 'Jazz'),\n",
       " (0.582138457561124, 'comment_num'),\n",
       " (0.5792230920243508, 'Industrial'),\n",
       " (0.5700595429391084, 'Funk'),\n",
       " (0.5688285711182198, 'Brass & Military'),\n",
       " (0.4637274149855639, 'Other_Style'),\n",
       " (0.4590437796219615, 'Indie Rock'),\n",
       " (0.439606189400371, 'link_num'),\n",
       " (0.4373726802474781, 'Minimal'),\n",
       " (0.4320477880943583, 'Dub'),\n",
       " (0.4199534812664987, 'Latin'),\n",
       " (0.3615747870729066, 'Reggae'),\n",
       " (0.33410076058992144, 'Stage & Screen'),\n",
       " (0.2799348372006938, 'UK Garage'),\n",
       " (0.27165356570485333, 'Ambient'),\n",
       " (0.2543363611836127, 'Hard Trance'),\n",
       " (0.1902113138863375, 'Progressive Trance'),\n",
       " (0.18715880822385703, ''),\n",
       " (0.17248719862115738, 'Ballad'),\n",
       " (0.16572877994537205, 'Future Jazz'),\n",
       " (0.16060844643746985, 'country_France'),\n",
       " (0.14625448430986884, 'Leftfield'),\n",
       " (0.08244686762911446, 'IDM'),\n",
       " (0.07200929387487454, 'Soul'),\n",
       " (0.04290903988336581, 'want_num'),\n",
       " (4.8558891903166534e-05, 'last_sold'),\n",
       " (-0.00591584223269748, 'have_num'),\n",
       " (-0.013478590672774873, 'country_UK & Europe'),\n",
       " (-0.016149309142513356, 'num_ratings'),\n",
       " (-0.026743544064751545, 'Downtempo'),\n",
       " (-0.028960658224598812, 'Folk Rock'),\n",
       " (-0.04699145510166858, 'Euro House'),\n",
       " (-0.05197363160115476, 'Drum n Bass'),\n",
       " (-0.05284746700160492, 'Hardcore'),\n",
       " (-0.06521909249520891, 'country_Italy'),\n",
       " (-0.0763049152766029, 'num_for_sale'),\n",
       " (-0.10663431960928826, 'Happy Hardcore'),\n",
       " (-0.10729461556995099, 'release_date'),\n",
       " (-0.1079150752265702, 'Hip Hop'),\n",
       " (-0.1341723429769855, 'Pop'),\n",
       " (-0.14085836097594273, 'Hard House'),\n",
       " (-0.1486397428317443, 'Breaks'),\n",
       " (-0.15257515413494593, 'Electro'),\n",
       " (-0.2927802333972912, 'Garage House'),\n",
       " (-0.3176572860964072, 'Trance'),\n",
       " (-0.3353954789619362, 'Tech House'),\n",
       " (-0.34651416052928075, 'Techno'),\n",
       " (-0.3894658403522622, 'Progressive House'),\n",
       " (-0.4844025371389209, 'Breakbeat'),\n",
       " (-0.5231009059648282, 'Disco'),\n",
       " (-0.5514404368287231, 'Deep House'),\n",
       " (-0.557546648377785, 'Abstract'),\n",
       " (-0.5938911620361089, 'Trip Hop'),\n",
       " (-0.703125456355449, 'FolkWorldCountry'),\n",
       " (-0.7102030660461661, 'House'),\n",
       " (-0.7363328546637742, 'Italo-Disco'),\n",
       " (-0.7846802363396632, 'Pop Rock'),\n",
       " (-0.8190362089498994, 'RnB/Swing'),\n",
       " (-1.0382518216941035, 'country_Belgium'),\n",
       " (-1.056765602303542, 'country_Germany'),\n",
       " (-1.114634915545355, 'Funk / Soul'),\n",
       " (-1.2566955875318842, 'format_Cassette'),\n",
       " (-1.3739432024271796, 'country_Europe'),\n",
       " (-1.3960999072216578, 'country_US'),\n",
       " (-1.4573955068523745, 'country_Spain'),\n",
       " (-1.8980329446483457, 'Alternative Rock'),\n",
       " (-1.944692494521363, 'country_Netherlands'),\n",
       " (-2.0879824065471797, 'country_Canada'),\n",
       " (-2.132917754564884, 'country_UK'),\n",
       " (-2.192826769395555, 'Electronic'),\n",
       " (-2.3753719620313394, 'format_CD'),\n",
       " (-3.246427396701586, 'format_Vinyl'),\n",
       " (-4.354756542472597, \"Children's\")]"
      ]
     },
     "execution_count": 70,
     "metadata": {},
     "output_type": "execute_result"
    }
   ],
   "source": [
    "sorted(list(zip(lm4.coef_, X4_train.columns)),reverse=True)"
   ]
  },
  {
   "cell_type": "code",
   "execution_count": 71,
   "metadata": {
    "ExecuteTime": {
     "end_time": "2019-10-14T15:14:07.185602Z",
     "start_time": "2019-10-14T15:14:07.173269Z"
    },
    "scrolled": true
   },
   "outputs": [],
   "source": [
    "df4=df3.copy()\n",
    "df4['inv_for_sale'] = 1/df4['num_for_sale']\n",
    "df4['inv_for_sale'].replace(np.inf, 0,inplace=True)"
   ]
  },
  {
   "cell_type": "code",
   "execution_count": 72,
   "metadata": {
    "ExecuteTime": {
     "end_time": "2019-10-14T15:14:07.667105Z",
     "start_time": "2019-10-14T15:14:07.631449Z"
    },
    "scrolled": true
   },
   "outputs": [],
   "source": [
    "X5_train, X5_val, X5_test, y5_train, y5_val, y5_test = \\\n",
    "TrainValTest(df4.drop('median',axis=1), df4['median'])"
   ]
  },
  {
   "cell_type": "code",
   "execution_count": 73,
   "metadata": {
    "ExecuteTime": {
     "end_time": "2019-10-14T15:14:08.111557Z",
     "start_time": "2019-10-14T15:14:08.066461Z"
    },
    "scrolled": true
   },
   "outputs": [
    {
     "name": "stdout",
     "output_type": "stream",
     "text": [
      "Training score:  0.33727141398430094 \n",
      "Validation Score:  0.4296893115580549\n"
     ]
    }
   ],
   "source": [
    "lm5= LinearRegression()\n",
    "lm5.fit(X5_train, y5_train)\n",
    "print(\"Training score: \",lm5.score(X5_train, y5_train),\"\\nValidation Score: \",lm5.score(X5_val,y5_val))"
   ]
  },
  {
   "cell_type": "code",
   "execution_count": 74,
   "metadata": {
    "ExecuteTime": {
     "end_time": "2019-10-14T15:14:08.752248Z",
     "start_time": "2019-10-14T15:14:08.501040Z"
    },
    "scrolled": true
   },
   "outputs": [
    {
     "data": {
      "text/plain": [
       "0.34673073802811016"
      ]
     },
     "execution_count": 74,
     "metadata": {},
     "output_type": "execute_result"
    }
   ],
   "source": [
    "np.mean(cross_val_score(lm5, df4.drop('median',axis=1), df4['median'], cv=5,scoring='r2'))"
   ]
  },
  {
   "cell_type": "code",
   "execution_count": 75,
   "metadata": {
    "ExecuteTime": {
     "end_time": "2019-10-14T15:14:09.100955Z",
     "start_time": "2019-10-14T15:14:09.080797Z"
    },
    "scrolled": true
   },
   "outputs": [],
   "source": [
    "df5=df4.copy()\n",
    "df5['inv_have_num'] = 1/df5['have_num']\n",
    "df5['inv_have_num'].replace(np.inf, 0,inplace=True)"
   ]
  },
  {
   "cell_type": "code",
   "execution_count": 76,
   "metadata": {
    "ExecuteTime": {
     "end_time": "2019-10-14T15:14:09.595691Z",
     "start_time": "2019-10-14T15:14:09.558179Z"
    },
    "scrolled": true
   },
   "outputs": [],
   "source": [
    "X6_train, X6_val, X6_test, y6_train, y6_val, y6_test = \\\n",
    "TrainValTest(df5.drop('median',axis=1), df5['median'])\n"
   ]
  },
  {
   "cell_type": "code",
   "execution_count": 77,
   "metadata": {
    "ExecuteTime": {
     "end_time": "2019-10-14T15:14:10.095023Z",
     "start_time": "2019-10-14T15:14:10.048548Z"
    },
    "scrolled": true
   },
   "outputs": [
    {
     "name": "stdout",
     "output_type": "stream",
     "text": [
      "Training score:  0.3398697179374779 \n",
      "Validation Score:  0.4320846373759466\n"
     ]
    }
   ],
   "source": [
    "lm6= LinearRegression()\n",
    "lm6.fit(X6_train, y6_train)\n",
    "print(\"Training score: \",lm6.score(X6_train, y6_train),\"\\nValidation Score: \",lm6.score(X6_val,y6_val))"
   ]
  },
  {
   "cell_type": "code",
   "execution_count": 78,
   "metadata": {
    "ExecuteTime": {
     "end_time": "2019-10-14T15:14:13.412399Z",
     "start_time": "2019-10-14T15:14:13.205415Z"
    },
    "scrolled": true
   },
   "outputs": [
    {
     "data": {
      "text/plain": [
       "0.347778732636383"
      ]
     },
     "execution_count": 78,
     "metadata": {},
     "output_type": "execute_result"
    }
   ],
   "source": [
    "np.mean(cross_val_score(lm6, df5.drop('median',axis=1), df5['median'], cv=5,scoring='r2'))"
   ]
  },
  {
   "cell_type": "code",
   "execution_count": 79,
   "metadata": {
    "ExecuteTime": {
     "end_time": "2019-10-14T15:14:13.565242Z",
     "start_time": "2019-10-14T15:14:13.517488Z"
    },
    "scrolled": true
   },
   "outputs": [],
   "source": [
    "df6=df5.copy()\n",
    "df6['rating_scaled'] = df6['rating']*df6['num_ratings']\n",
    "\n",
    "X7_train, X7_val, X7_test, y7_train, y7_val, y7_test = \\\n",
    "TrainValTest(df6.drop('median',axis=1), df6['median'])"
   ]
  },
  {
   "cell_type": "code",
   "execution_count": 80,
   "metadata": {
    "ExecuteTime": {
     "end_time": "2019-10-14T15:14:14.037362Z",
     "start_time": "2019-10-14T15:14:13.950376Z"
    },
    "scrolled": true
   },
   "outputs": [
    {
     "name": "stdout",
     "output_type": "stream",
     "text": [
      "Training score:  0.343074056826871 \n",
      "Validation Score:  0.4301519802818574\n"
     ]
    }
   ],
   "source": [
    "lm7= LinearRegression()\n",
    "lm7.fit(X7_train, y7_train)\n",
    "print(\"Training score: \",lm7.score(X7_train, y7_train),\"\\nValidation Score: \",lm7.score(X7_val,y7_val))"
   ]
  },
  {
   "cell_type": "code",
   "execution_count": 81,
   "metadata": {
    "ExecuteTime": {
     "end_time": "2019-10-14T15:14:14.668664Z",
     "start_time": "2019-10-14T15:14:14.415959Z"
    },
    "scrolled": true
   },
   "outputs": [
    {
     "data": {
      "text/plain": [
       "0.3499626784079949"
      ]
     },
     "execution_count": 81,
     "metadata": {},
     "output_type": "execute_result"
    }
   ],
   "source": [
    "np.mean(cross_val_score(lm7, df6.drop('median',axis=1), df6['median'], cv=5,scoring='r2'))"
   ]
  },
  {
   "cell_type": "code",
   "execution_count": 82,
   "metadata": {
    "ExecuteTime": {
     "end_time": "2019-10-14T15:14:14.792120Z",
     "start_time": "2019-10-14T15:14:14.742750Z"
    },
    "scrolled": true
   },
   "outputs": [],
   "source": [
    "df7=df6.copy()\n",
    "df7['inv_rating_scaled'] = 1/(df7['rating']*df7['num_ratings'])\n",
    "df7['inv_rating_scaled'].replace(np.inf, 0,inplace=True)\n",
    "\n",
    "X8_train, X8_val, X8_test, y8_train, y8_val, y8_test = \\\n",
    "TrainValTest(df7.drop('median',axis=1), df7['median'])\n"
   ]
  },
  {
   "cell_type": "code",
   "execution_count": 83,
   "metadata": {
    "ExecuteTime": {
     "end_time": "2019-10-14T15:14:15.986332Z",
     "start_time": "2019-10-14T15:14:15.943103Z"
    },
    "scrolled": true
   },
   "outputs": [
    {
     "name": "stdout",
     "output_type": "stream",
     "text": [
      "Training score:  0.3430852151695224 \n",
      "Validation Score:  0.4301414054237418\n"
     ]
    }
   ],
   "source": [
    "lm8= LinearRegression()\n",
    "lm8.fit(X8_train, y8_train)\n",
    "print(\"Training score: \",lm8.score(X8_train, y8_train),\"\\nValidation Score: \",lm8.score(X8_val,y8_val))"
   ]
  },
  {
   "cell_type": "code",
   "execution_count": 84,
   "metadata": {
    "ExecuteTime": {
     "end_time": "2019-10-14T15:14:16.595042Z",
     "start_time": "2019-10-14T15:14:16.380552Z"
    },
    "scrolled": true
   },
   "outputs": [
    {
     "data": {
      "text/plain": [
       "0.3499615252210169"
      ]
     },
     "execution_count": 84,
     "metadata": {},
     "output_type": "execute_result"
    }
   ],
   "source": [
    "np.mean(cross_val_score(lm8, df7.drop('median',axis=1), df7['median'], cv=5,scoring='r2'))"
   ]
  },
  {
   "cell_type": "code",
   "execution_count": 85,
   "metadata": {
    "ExecuteTime": {
     "end_time": "2019-10-14T15:14:20.530496Z",
     "start_time": "2019-10-14T15:14:17.473978Z"
    },
    "scrolled": true
   },
   "outputs": [],
   "source": [
    "poly=PolynomialFeatures()\n",
    "\n",
    "X9_train=poly.fit_transform(X8_train)\n",
    "X9_val = poly.transform(X8_val)\n",
    "X9_test = poly.transform(X8_test)\n",
    "\n",
    "scaler = StandardScaler()\n",
    "X9_tr_sc = scaler.fit_transform(X9_train)\n",
    "X9_val_sc = scaler.transform(X9_val)\n",
    "X9_test_sc = scaler.transform(X9_test)"
   ]
  },
  {
   "cell_type": "code",
   "execution_count": 41,
   "metadata": {
    "ExecuteTime": {
     "end_time": "2019-10-11T00:08:47.716432Z",
     "start_time": "2019-10-11T00:07:49.405702Z"
    },
    "scrolled": true
   },
   "outputs": [
    {
     "name": "stdout",
     "output_type": "stream",
     "text": [
      "Training score:  0.7099890984558402 \n",
      "Validation Score:  -2.1305545802027074e+31\n"
     ]
    }
   ],
   "source": [
    "poly_lm8= LinearRegression()\n",
    "poly_lm8.fit(X9_tr_sc, y8_train)\n",
    "print(\"Training score: \",poly_lm8.score(X9_tr_sc, y8_train),\"\\nValidation Score: \",poly_lm8.score(X9_val,y8_val))"
   ]
  },
  {
   "cell_type": "code",
   "execution_count": 42,
   "metadata": {
    "ExecuteTime": {
     "end_time": "2019-10-11T00:29:43.765173Z",
     "start_time": "2019-10-11T00:08:47.718642Z"
    },
    "scrolled": false
   },
   "outputs": [
    {
     "name": "stderr",
     "output_type": "stream",
     "text": [
      "/home/alex/anaconda3/lib/python3.7/site-packages/sklearn/linear_model/coordinate_descent.py:471: ConvergenceWarning: Objective did not converge. You might want to increase the number of iterations. Duality gap: 238.98914813739248, tolerance: 199.28064250181106\n",
      "  tol, rng, random, positive)\n",
      "/home/alex/anaconda3/lib/python3.7/site-packages/sklearn/linear_model/coordinate_descent.py:471: ConvergenceWarning: Objective did not converge. You might want to increase the number of iterations. Duality gap: 225.20286547858268, tolerance: 199.28064250181106\n",
      "  tol, rng, random, positive)\n",
      "/home/alex/anaconda3/lib/python3.7/site-packages/sklearn/linear_model/coordinate_descent.py:471: ConvergenceWarning: Objective did not converge. You might want to increase the number of iterations. Duality gap: 223.7159834865015, tolerance: 199.28064250181106\n",
      "  tol, rng, random, positive)\n",
      "/home/alex/anaconda3/lib/python3.7/site-packages/sklearn/linear_model/coordinate_descent.py:471: ConvergenceWarning: Objective did not converge. You might want to increase the number of iterations. Duality gap: 578.790572717553, tolerance: 199.28064250181106\n",
      "  tol, rng, random, positive)\n",
      "/home/alex/anaconda3/lib/python3.7/site-packages/sklearn/linear_model/coordinate_descent.py:471: ConvergenceWarning: Objective did not converge. You might want to increase the number of iterations. Duality gap: 1072.827390073333, tolerance: 199.28064250181106\n",
      "  tol, rng, random, positive)\n",
      "/home/alex/anaconda3/lib/python3.7/site-packages/sklearn/linear_model/coordinate_descent.py:471: ConvergenceWarning: Objective did not converge. You might want to increase the number of iterations. Duality gap: 837.5397601386067, tolerance: 199.28064250181106\n",
      "  tol, rng, random, positive)\n",
      "/home/alex/anaconda3/lib/python3.7/site-packages/sklearn/linear_model/coordinate_descent.py:471: ConvergenceWarning: Objective did not converge. You might want to increase the number of iterations. Duality gap: 611.3684040847002, tolerance: 199.28064250181106\n",
      "  tol, rng, random, positive)\n",
      "/home/alex/anaconda3/lib/python3.7/site-packages/sklearn/linear_model/coordinate_descent.py:471: ConvergenceWarning: Objective did not converge. You might want to increase the number of iterations. Duality gap: 381.9357375141699, tolerance: 199.28064250181106\n",
      "  tol, rng, random, positive)\n",
      "/home/alex/anaconda3/lib/python3.7/site-packages/sklearn/linear_model/coordinate_descent.py:471: ConvergenceWarning: Objective did not converge. You might want to increase the number of iterations. Duality gap: 618.8346310995985, tolerance: 199.28064250181106\n",
      "  tol, rng, random, positive)\n",
      "/home/alex/anaconda3/lib/python3.7/site-packages/sklearn/linear_model/coordinate_descent.py:471: ConvergenceWarning: Objective did not converge. You might want to increase the number of iterations. Duality gap: 778.3125968907261, tolerance: 199.28064250181106\n",
      "  tol, rng, random, positive)\n",
      "/home/alex/anaconda3/lib/python3.7/site-packages/sklearn/linear_model/coordinate_descent.py:471: ConvergenceWarning: Objective did not converge. You might want to increase the number of iterations. Duality gap: 307.1258168388158, tolerance: 199.28064250181106\n",
      "  tol, rng, random, positive)\n",
      "/home/alex/anaconda3/lib/python3.7/site-packages/sklearn/linear_model/coordinate_descent.py:471: ConvergenceWarning: Objective did not converge. You might want to increase the number of iterations. Duality gap: 332.0992569832597, tolerance: 199.28064250181106\n",
      "  tol, rng, random, positive)\n",
      "/home/alex/anaconda3/lib/python3.7/site-packages/sklearn/linear_model/coordinate_descent.py:471: ConvergenceWarning: Objective did not converge. You might want to increase the number of iterations. Duality gap: 220.16324960789643, tolerance: 199.28064250181106\n",
      "  tol, rng, random, positive)\n",
      "/home/alex/anaconda3/lib/python3.7/site-packages/sklearn/linear_model/coordinate_descent.py:471: ConvergenceWarning: Objective did not converge. You might want to increase the number of iterations. Duality gap: 656.3484697795939, tolerance: 199.28064250181106\n",
      "  tol, rng, random, positive)\n",
      "/home/alex/anaconda3/lib/python3.7/site-packages/sklearn/linear_model/coordinate_descent.py:471: ConvergenceWarning: Objective did not converge. You might want to increase the number of iterations. Duality gap: 1440.5641595711932, tolerance: 199.28064250181106\n",
      "  tol, rng, random, positive)\n",
      "/home/alex/anaconda3/lib/python3.7/site-packages/sklearn/linear_model/coordinate_descent.py:471: ConvergenceWarning: Objective did not converge. You might want to increase the number of iterations. Duality gap: 2070.6170860952698, tolerance: 199.28064250181106\n",
      "  tol, rng, random, positive)\n",
      "/home/alex/anaconda3/lib/python3.7/site-packages/sklearn/linear_model/coordinate_descent.py:471: ConvergenceWarning: Objective did not converge. You might want to increase the number of iterations. Duality gap: 2754.6691940549063, tolerance: 199.28064250181106\n",
      "  tol, rng, random, positive)\n",
      "/home/alex/anaconda3/lib/python3.7/site-packages/sklearn/linear_model/coordinate_descent.py:471: ConvergenceWarning: Objective did not converge. You might want to increase the number of iterations. Duality gap: 219.30135714740027, tolerance: 192.3154521728938\n",
      "  tol, rng, random, positive)\n",
      "/home/alex/anaconda3/lib/python3.7/site-packages/sklearn/linear_model/coordinate_descent.py:471: ConvergenceWarning: Objective did not converge. You might want to increase the number of iterations. Duality gap: 301.9653872172348, tolerance: 192.3154521728938\n",
      "  tol, rng, random, positive)\n",
      "/home/alex/anaconda3/lib/python3.7/site-packages/sklearn/linear_model/coordinate_descent.py:471: ConvergenceWarning: Objective did not converge. You might want to increase the number of iterations. Duality gap: 298.74250792269595, tolerance: 192.3154521728938\n",
      "  tol, rng, random, positive)\n",
      "/home/alex/anaconda3/lib/python3.7/site-packages/sklearn/linear_model/coordinate_descent.py:471: ConvergenceWarning: Objective did not converge. You might want to increase the number of iterations. Duality gap: 323.363739405293, tolerance: 192.3154521728938\n",
      "  tol, rng, random, positive)\n",
      "/home/alex/anaconda3/lib/python3.7/site-packages/sklearn/linear_model/coordinate_descent.py:471: ConvergenceWarning: Objective did not converge. You might want to increase the number of iterations. Duality gap: 584.7875240657013, tolerance: 192.3154521728938\n",
      "  tol, rng, random, positive)\n",
      "/home/alex/anaconda3/lib/python3.7/site-packages/sklearn/linear_model/coordinate_descent.py:471: ConvergenceWarning: Objective did not converge. You might want to increase the number of iterations. Duality gap: 1118.741328598, tolerance: 192.3154521728938\n",
      "  tol, rng, random, positive)\n",
      "/home/alex/anaconda3/lib/python3.7/site-packages/sklearn/linear_model/coordinate_descent.py:471: ConvergenceWarning: Objective did not converge. You might want to increase the number of iterations. Duality gap: 1678.4632526271744, tolerance: 192.3154521728938\n",
      "  tol, rng, random, positive)\n",
      "/home/alex/anaconda3/lib/python3.7/site-packages/sklearn/linear_model/coordinate_descent.py:471: ConvergenceWarning: Objective did not converge. You might want to increase the number of iterations. Duality gap: 2312.759452626342, tolerance: 192.3154521728938\n",
      "  tol, rng, random, positive)\n",
      "/home/alex/anaconda3/lib/python3.7/site-packages/sklearn/linear_model/coordinate_descent.py:471: ConvergenceWarning: Objective did not converge. You might want to increase the number of iterations. Duality gap: 2438.850801974768, tolerance: 192.3154521728938\n",
      "  tol, rng, random, positive)\n",
      "/home/alex/anaconda3/lib/python3.7/site-packages/sklearn/linear_model/coordinate_descent.py:471: ConvergenceWarning: Objective did not converge. You might want to increase the number of iterations. Duality gap: 4550.394532608683, tolerance: 192.3154521728938\n",
      "  tol, rng, random, positive)\n",
      "/home/alex/anaconda3/lib/python3.7/site-packages/sklearn/linear_model/coordinate_descent.py:471: ConvergenceWarning: Objective did not converge. You might want to increase the number of iterations. Duality gap: 5255.793066945393, tolerance: 192.3154521728938\n",
      "  tol, rng, random, positive)\n",
      "/home/alex/anaconda3/lib/python3.7/site-packages/sklearn/linear_model/coordinate_descent.py:471: ConvergenceWarning: Objective did not converge. You might want to increase the number of iterations. Duality gap: 362.8347107657464, tolerance: 182.9700911545351\n",
      "  tol, rng, random, positive)\n"
     ]
    },
    {
     "name": "stderr",
     "output_type": "stream",
     "text": [
      "/home/alex/anaconda3/lib/python3.7/site-packages/sklearn/linear_model/coordinate_descent.py:471: ConvergenceWarning: Objective did not converge. You might want to increase the number of iterations. Duality gap: 365.2320606849389, tolerance: 182.9700911545351\n",
      "  tol, rng, random, positive)\n",
      "/home/alex/anaconda3/lib/python3.7/site-packages/sklearn/linear_model/coordinate_descent.py:471: ConvergenceWarning: Objective did not converge. You might want to increase the number of iterations. Duality gap: 376.5773810020182, tolerance: 182.9700911545351\n",
      "  tol, rng, random, positive)\n",
      "/home/alex/anaconda3/lib/python3.7/site-packages/sklearn/linear_model/coordinate_descent.py:471: ConvergenceWarning: Objective did not converge. You might want to increase the number of iterations. Duality gap: 307.1754896081984, tolerance: 182.9700911545351\n",
      "  tol, rng, random, positive)\n",
      "/home/alex/anaconda3/lib/python3.7/site-packages/sklearn/linear_model/coordinate_descent.py:471: ConvergenceWarning: Objective did not converge. You might want to increase the number of iterations. Duality gap: 381.95404450176284, tolerance: 182.9700911545351\n",
      "  tol, rng, random, positive)\n",
      "/home/alex/anaconda3/lib/python3.7/site-packages/sklearn/linear_model/coordinate_descent.py:471: ConvergenceWarning: Objective did not converge. You might want to increase the number of iterations. Duality gap: 405.8419328731252, tolerance: 182.9700911545351\n",
      "  tol, rng, random, positive)\n",
      "/home/alex/anaconda3/lib/python3.7/site-packages/sklearn/linear_model/coordinate_descent.py:471: ConvergenceWarning: Objective did not converge. You might want to increase the number of iterations. Duality gap: 317.81063898140565, tolerance: 182.9700911545351\n",
      "  tol, rng, random, positive)\n",
      "/home/alex/anaconda3/lib/python3.7/site-packages/sklearn/linear_model/coordinate_descent.py:471: ConvergenceWarning: Objective did not converge. You might want to increase the number of iterations. Duality gap: 327.11742934118956, tolerance: 182.9700911545351\n",
      "  tol, rng, random, positive)\n",
      "/home/alex/anaconda3/lib/python3.7/site-packages/sklearn/linear_model/coordinate_descent.py:471: ConvergenceWarning: Objective did not converge. You might want to increase the number of iterations. Duality gap: 382.7468151729554, tolerance: 182.9700911545351\n",
      "  tol, rng, random, positive)\n",
      "/home/alex/anaconda3/lib/python3.7/site-packages/sklearn/linear_model/coordinate_descent.py:471: ConvergenceWarning: Objective did not converge. You might want to increase the number of iterations. Duality gap: 484.1718766152626, tolerance: 182.9700911545351\n",
      "  tol, rng, random, positive)\n",
      "/home/alex/anaconda3/lib/python3.7/site-packages/sklearn/linear_model/coordinate_descent.py:471: ConvergenceWarning: Objective did not converge. You might want to increase the number of iterations. Duality gap: 487.55970538174734, tolerance: 182.9700911545351\n",
      "  tol, rng, random, positive)\n",
      "/home/alex/anaconda3/lib/python3.7/site-packages/sklearn/linear_model/coordinate_descent.py:471: ConvergenceWarning: Objective did not converge. You might want to increase the number of iterations. Duality gap: 455.1000597313978, tolerance: 182.9700911545351\n",
      "  tol, rng, random, positive)\n",
      "/home/alex/anaconda3/lib/python3.7/site-packages/sklearn/linear_model/coordinate_descent.py:471: ConvergenceWarning: Objective did not converge. You might want to increase the number of iterations. Duality gap: 435.11633246787824, tolerance: 182.9700911545351\n",
      "  tol, rng, random, positive)\n",
      "/home/alex/anaconda3/lib/python3.7/site-packages/sklearn/linear_model/coordinate_descent.py:471: ConvergenceWarning: Objective did not converge. You might want to increase the number of iterations. Duality gap: 459.3401076475857, tolerance: 182.9700911545351\n",
      "  tol, rng, random, positive)\n",
      "/home/alex/anaconda3/lib/python3.7/site-packages/sklearn/linear_model/coordinate_descent.py:471: ConvergenceWarning: Objective did not converge. You might want to increase the number of iterations. Duality gap: 500.80984594812617, tolerance: 182.9700911545351\n",
      "  tol, rng, random, positive)\n",
      "/home/alex/anaconda3/lib/python3.7/site-packages/sklearn/linear_model/coordinate_descent.py:471: ConvergenceWarning: Objective did not converge. You might want to increase the number of iterations. Duality gap: 622.0473804891808, tolerance: 182.9700911545351\n",
      "  tol, rng, random, positive)\n",
      "/home/alex/anaconda3/lib/python3.7/site-packages/sklearn/linear_model/coordinate_descent.py:471: ConvergenceWarning: Objective did not converge. You might want to increase the number of iterations. Duality gap: 705.7804552811431, tolerance: 182.9700911545351\n",
      "  tol, rng, random, positive)\n",
      "/home/alex/anaconda3/lib/python3.7/site-packages/sklearn/linear_model/coordinate_descent.py:471: ConvergenceWarning: Objective did not converge. You might want to increase the number of iterations. Duality gap: 573.022187471739, tolerance: 182.9700911545351\n",
      "  tol, rng, random, positive)\n",
      "/home/alex/anaconda3/lib/python3.7/site-packages/sklearn/linear_model/coordinate_descent.py:471: ConvergenceWarning: Objective did not converge. You might want to increase the number of iterations. Duality gap: 388.81925554573536, tolerance: 182.9700911545351\n",
      "  tol, rng, random, positive)\n",
      "/home/alex/anaconda3/lib/python3.7/site-packages/sklearn/linear_model/coordinate_descent.py:471: ConvergenceWarning: Objective did not converge. You might want to increase the number of iterations. Duality gap: 512.9241816903232, tolerance: 182.9700911545351\n",
      "  tol, rng, random, positive)\n",
      "/home/alex/anaconda3/lib/python3.7/site-packages/sklearn/linear_model/coordinate_descent.py:471: ConvergenceWarning: Objective did not converge. You might want to increase the number of iterations. Duality gap: 794.0547608030029, tolerance: 182.9700911545351\n",
      "  tol, rng, random, positive)\n",
      "/home/alex/anaconda3/lib/python3.7/site-packages/sklearn/linear_model/coordinate_descent.py:471: ConvergenceWarning: Objective did not converge. You might want to increase the number of iterations. Duality gap: 265.8870962681249, tolerance: 188.44040695472165\n",
      "  tol, rng, random, positive)\n",
      "/home/alex/anaconda3/lib/python3.7/site-packages/sklearn/linear_model/coordinate_descent.py:471: ConvergenceWarning: Objective did not converge. You might want to increase the number of iterations. Duality gap: 208.85676382808015, tolerance: 188.44040695472165\n",
      "  tol, rng, random, positive)\n",
      "/home/alex/anaconda3/lib/python3.7/site-packages/sklearn/linear_model/coordinate_descent.py:471: ConvergenceWarning: Objective did not converge. You might want to increase the number of iterations. Duality gap: 209.55789992283098, tolerance: 188.44040695472165\n",
      "  tol, rng, random, positive)\n",
      "/home/alex/anaconda3/lib/python3.7/site-packages/sklearn/linear_model/coordinate_descent.py:471: ConvergenceWarning: Objective did not converge. You might want to increase the number of iterations. Duality gap: 246.72106237139087, tolerance: 188.44040695472165\n",
      "  tol, rng, random, positive)\n",
      "/home/alex/anaconda3/lib/python3.7/site-packages/sklearn/linear_model/coordinate_descent.py:471: ConvergenceWarning: Objective did not converge. You might want to increase the number of iterations. Duality gap: 271.49160190240946, tolerance: 188.44040695472165\n",
      "  tol, rng, random, positive)\n",
      "/home/alex/anaconda3/lib/python3.7/site-packages/sklearn/linear_model/coordinate_descent.py:471: ConvergenceWarning: Objective did not converge. You might want to increase the number of iterations. Duality gap: 272.43334322958253, tolerance: 188.44040695472165\n",
      "  tol, rng, random, positive)\n",
      "/home/alex/anaconda3/lib/python3.7/site-packages/sklearn/linear_model/coordinate_descent.py:471: ConvergenceWarning: Objective did not converge. You might want to increase the number of iterations. Duality gap: 228.04082457709592, tolerance: 188.44040695472165\n",
      "  tol, rng, random, positive)\n",
      "/home/alex/anaconda3/lib/python3.7/site-packages/sklearn/linear_model/coordinate_descent.py:471: ConvergenceWarning: Objective did not converge. You might want to increase the number of iterations. Duality gap: 313.67866816127207, tolerance: 188.44040695472165\n",
      "  tol, rng, random, positive)\n",
      "/home/alex/anaconda3/lib/python3.7/site-packages/sklearn/linear_model/coordinate_descent.py:471: ConvergenceWarning: Objective did not converge. You might want to increase the number of iterations. Duality gap: 727.4002402868355, tolerance: 188.44040695472165\n",
      "  tol, rng, random, positive)\n"
     ]
    },
    {
     "name": "stderr",
     "output_type": "stream",
     "text": [
      "/home/alex/anaconda3/lib/python3.7/site-packages/sklearn/linear_model/coordinate_descent.py:471: ConvergenceWarning: Objective did not converge. You might want to increase the number of iterations. Duality gap: 366.7021679392783, tolerance: 188.44040695472165\n",
      "  tol, rng, random, positive)\n",
      "/home/alex/anaconda3/lib/python3.7/site-packages/sklearn/linear_model/coordinate_descent.py:471: ConvergenceWarning: Objective did not converge. You might want to increase the number of iterations. Duality gap: 522.4083829971496, tolerance: 188.44040695472165\n",
      "  tol, rng, random, positive)\n",
      "/home/alex/anaconda3/lib/python3.7/site-packages/sklearn/linear_model/coordinate_descent.py:471: ConvergenceWarning: Objective did not converge. You might want to increase the number of iterations. Duality gap: 1655.8829025097657, tolerance: 188.44040695472165\n",
      "  tol, rng, random, positive)\n",
      "/home/alex/anaconda3/lib/python3.7/site-packages/sklearn/linear_model/coordinate_descent.py:471: ConvergenceWarning: Objective did not converge. You might want to increase the number of iterations. Duality gap: 1356.172533191042, tolerance: 188.44040695472165\n",
      "  tol, rng, random, positive)\n",
      "/home/alex/anaconda3/lib/python3.7/site-packages/sklearn/linear_model/coordinate_descent.py:471: ConvergenceWarning: Objective did not converge. You might want to increase the number of iterations. Duality gap: 1070.6070370674715, tolerance: 188.44040695472165\n",
      "  tol, rng, random, positive)\n",
      "/home/alex/anaconda3/lib/python3.7/site-packages/sklearn/linear_model/coordinate_descent.py:471: ConvergenceWarning: Objective did not converge. You might want to increase the number of iterations. Duality gap: 1468.49864061462, tolerance: 188.44040695472165\n",
      "  tol, rng, random, positive)\n",
      "/home/alex/anaconda3/lib/python3.7/site-packages/sklearn/linear_model/coordinate_descent.py:471: ConvergenceWarning: Objective did not converge. You might want to increase the number of iterations. Duality gap: 332.40103637287393, tolerance: 188.44040695472165\n",
      "  tol, rng, random, positive)\n",
      "/home/alex/anaconda3/lib/python3.7/site-packages/sklearn/linear_model/coordinate_descent.py:471: ConvergenceWarning: Objective did not converge. You might want to increase the number of iterations. Duality gap: 314.43854088842636, tolerance: 188.44040695472165\n",
      "  tol, rng, random, positive)\n",
      "/home/alex/anaconda3/lib/python3.7/site-packages/sklearn/linear_model/coordinate_descent.py:471: ConvergenceWarning: Objective did not converge. You might want to increase the number of iterations. Duality gap: 352.47078968788264, tolerance: 188.44040695472165\n",
      "  tol, rng, random, positive)\n",
      "/home/alex/anaconda3/lib/python3.7/site-packages/sklearn/linear_model/coordinate_descent.py:471: ConvergenceWarning: Objective did not converge. You might want to increase the number of iterations. Duality gap: 515.2954484922811, tolerance: 188.44040695472165\n",
      "  tol, rng, random, positive)\n",
      "/home/alex/anaconda3/lib/python3.7/site-packages/sklearn/linear_model/coordinate_descent.py:471: ConvergenceWarning: Objective did not converge. You might want to increase the number of iterations. Duality gap: 395.7623426009086, tolerance: 188.44040695472165\n",
      "  tol, rng, random, positive)\n",
      "/home/alex/anaconda3/lib/python3.7/site-packages/sklearn/linear_model/coordinate_descent.py:471: ConvergenceWarning: Objective did not converge. You might want to increase the number of iterations. Duality gap: 228.8641571754124, tolerance: 186.5696125835239\n",
      "  tol, rng, random, positive)\n",
      "/home/alex/anaconda3/lib/python3.7/site-packages/sklearn/linear_model/coordinate_descent.py:471: ConvergenceWarning: Objective did not converge. You might want to increase the number of iterations. Duality gap: 192.35925274365582, tolerance: 186.5696125835239\n",
      "  tol, rng, random, positive)\n",
      "/home/alex/anaconda3/lib/python3.7/site-packages/sklearn/linear_model/coordinate_descent.py:471: ConvergenceWarning: Objective did not converge. You might want to increase the number of iterations. Duality gap: 234.94414115068503, tolerance: 186.5696125835239\n",
      "  tol, rng, random, positive)\n",
      "/home/alex/anaconda3/lib/python3.7/site-packages/sklearn/linear_model/coordinate_descent.py:471: ConvergenceWarning: Objective did not converge. You might want to increase the number of iterations. Duality gap: 267.5399970782455, tolerance: 186.5696125835239\n",
      "  tol, rng, random, positive)\n",
      "/home/alex/anaconda3/lib/python3.7/site-packages/sklearn/linear_model/coordinate_descent.py:471: ConvergenceWarning: Objective did not converge. You might want to increase the number of iterations. Duality gap: 313.82920052763075, tolerance: 186.5696125835239\n",
      "  tol, rng, random, positive)\n",
      "/home/alex/anaconda3/lib/python3.7/site-packages/sklearn/linear_model/coordinate_descent.py:471: ConvergenceWarning: Objective did not converge. You might want to increase the number of iterations. Duality gap: 400.4770582014462, tolerance: 186.5696125835239\n",
      "  tol, rng, random, positive)\n",
      "/home/alex/anaconda3/lib/python3.7/site-packages/sklearn/linear_model/coordinate_descent.py:471: ConvergenceWarning: Objective did not converge. You might want to increase the number of iterations. Duality gap: 440.00060352194123, tolerance: 186.5696125835239\n",
      "  tol, rng, random, positive)\n",
      "/home/alex/anaconda3/lib/python3.7/site-packages/sklearn/linear_model/coordinate_descent.py:471: ConvergenceWarning: Objective did not converge. You might want to increase the number of iterations. Duality gap: 509.38858130492736, tolerance: 186.5696125835239\n",
      "  tol, rng, random, positive)\n",
      "/home/alex/anaconda3/lib/python3.7/site-packages/sklearn/linear_model/coordinate_descent.py:471: ConvergenceWarning: Objective did not converge. You might want to increase the number of iterations. Duality gap: 511.57760803424753, tolerance: 186.5696125835239\n",
      "  tol, rng, random, positive)\n",
      "/home/alex/anaconda3/lib/python3.7/site-packages/sklearn/linear_model/coordinate_descent.py:471: ConvergenceWarning: Objective did not converge. You might want to increase the number of iterations. Duality gap: 822.9705736401957, tolerance: 186.5696125835239\n",
      "  tol, rng, random, positive)\n",
      "/home/alex/anaconda3/lib/python3.7/site-packages/sklearn/linear_model/coordinate_descent.py:471: ConvergenceWarning: Objective did not converge. You might want to increase the number of iterations. Duality gap: 872.2670237446437, tolerance: 186.5696125835239\n",
      "  tol, rng, random, positive)\n",
      "/home/alex/anaconda3/lib/python3.7/site-packages/sklearn/linear_model/coordinate_descent.py:471: ConvergenceWarning: Objective did not converge. You might want to increase the number of iterations. Duality gap: 845.4330493793823, tolerance: 186.5696125835239\n",
      "  tol, rng, random, positive)\n",
      "/home/alex/anaconda3/lib/python3.7/site-packages/sklearn/linear_model/coordinate_descent.py:471: ConvergenceWarning: Objective did not converge. You might want to increase the number of iterations. Duality gap: 657.8302592358086, tolerance: 186.5696125835239\n",
      "  tol, rng, random, positive)\n",
      "/home/alex/anaconda3/lib/python3.7/site-packages/sklearn/linear_model/coordinate_descent.py:471: ConvergenceWarning: Objective did not converge. You might want to increase the number of iterations. Duality gap: 593.5664666770026, tolerance: 186.5696125835239\n",
      "  tol, rng, random, positive)\n",
      "/home/alex/anaconda3/lib/python3.7/site-packages/sklearn/linear_model/coordinate_descent.py:471: ConvergenceWarning: Objective did not converge. You might want to increase the number of iterations. Duality gap: 676.6581584271044, tolerance: 186.5696125835239\n",
      "  tol, rng, random, positive)\n",
      "/home/alex/anaconda3/lib/python3.7/site-packages/sklearn/linear_model/coordinate_descent.py:471: ConvergenceWarning: Objective did not converge. You might want to increase the number of iterations. Duality gap: 569.9392714825226, tolerance: 186.5696125835239\n",
      "  tol, rng, random, positive)\n",
      "/home/alex/anaconda3/lib/python3.7/site-packages/sklearn/linear_model/coordinate_descent.py:471: ConvergenceWarning: Objective did not converge. You might want to increase the number of iterations. Duality gap: 589.2212938675657, tolerance: 186.5696125835239\n",
      "  tol, rng, random, positive)\n",
      "/home/alex/anaconda3/lib/python3.7/site-packages/sklearn/linear_model/coordinate_descent.py:471: ConvergenceWarning: Objective did not converge. You might want to increase the number of iterations. Duality gap: 473.7702721541282, tolerance: 186.5696125835239\n",
      "  tol, rng, random, positive)\n"
     ]
    },
    {
     "name": "stderr",
     "output_type": "stream",
     "text": [
      "/home/alex/anaconda3/lib/python3.7/site-packages/sklearn/linear_model/coordinate_descent.py:471: ConvergenceWarning: Objective did not converge. You might want to increase the number of iterations. Duality gap: 698.5636827282142, tolerance: 186.5696125835239\n",
      "  tol, rng, random, positive)\n",
      "/home/alex/anaconda3/lib/python3.7/site-packages/sklearn/linear_model/coordinate_descent.py:471: ConvergenceWarning: Objective did not converge. You might want to increase the number of iterations. Duality gap: 880.0142293232493, tolerance: 186.5696125835239\n",
      "  tol, rng, random, positive)\n",
      "/home/alex/anaconda3/lib/python3.7/site-packages/sklearn/linear_model/coordinate_descent.py:471: ConvergenceWarning: Objective did not converge. You might want to increase the number of iterations. Duality gap: 798.7518672076985, tolerance: 186.5696125835239\n",
      "  tol, rng, random, positive)\n",
      "/home/alex/anaconda3/lib/python3.7/site-packages/sklearn/linear_model/coordinate_descent.py:475: ConvergenceWarning: Objective did not converge. You might want to increase the number of iterations. Duality gap: 620.0803914980497, tolerance: 237.4000696389406\n",
      "  positive)\n"
     ]
    },
    {
     "data": {
      "text/plain": [
       "LassoCV(alphas=None, copy_X=True, cv=5, eps=0.001, fit_intercept=True,\n",
       "        max_iter=1000, n_alphas=100, n_jobs=None, normalize=False,\n",
       "        positive=False, precompute='auto', random_state=None,\n",
       "        selection='cyclic', tol=0.0001, verbose=False)"
      ]
     },
     "execution_count": 42,
     "metadata": {},
     "output_type": "execute_result"
    }
   ],
   "source": [
    "lasso_model = LassoCV(cv=5)\n",
    "lasso_model.fit(X9_tr_sc, y8_train)"
   ]
  },
  {
   "cell_type": "code",
   "execution_count": 43,
   "metadata": {
    "ExecuteTime": {
     "end_time": "2019-10-11T00:29:44.042544Z",
     "start_time": "2019-10-11T00:29:43.767440Z"
    },
    "scrolled": true
   },
   "outputs": [
    {
     "data": {
      "text/plain": [
       "[<matplotlib.lines.Line2D at 0x7fdb80929630>,\n",
       " <matplotlib.lines.Line2D at 0x7fdb809297b8>,\n",
       " <matplotlib.lines.Line2D at 0x7fdb80929940>,\n",
       " <matplotlib.lines.Line2D at 0x7fdb80929ac8>,\n",
       " <matplotlib.lines.Line2D at 0x7fdb80929c50>]"
      ]
     },
     "execution_count": 43,
     "metadata": {},
     "output_type": "execute_result"
    },
    {
     "data": {
      "image/png": "[encoded data removed]",
      "text/plain": [
       "<Figure size 432x288 with 1 Axes>"
      ]
     },
     "metadata": {
      "needs_background": "light"
     },
     "output_type": "display_data"
    }
   ],
   "source": [
    "plt.plot(lasso_model.alphas_, lasso_model.mse_path_)"
   ]
  },
  {
   "cell_type": "code",
   "execution_count": 83,
   "metadata": {
    "ExecuteTime": {
     "end_time": "2019-10-11T01:55:25.935978Z",
     "start_time": "2019-10-11T01:55:25.850912Z"
    }
   },
   "outputs": [
    {
     "data": {
      "text/plain": [
       "[(3.456645719670963, 'rating want_num'),\n",
       " (2.59501321247965, 'link_num want_have_ratio'),\n",
       " (1.3869082340505217, 'want_num inv_for_sale'),\n",
       " (1.158411226664472, 'want_have_ratio rating_scaled'),\n",
       " (0.8842717467926604, 'num_ratings want_have_ratio'),\n",
       " (0.8271302637017305, 'want_num Indie Rock'),\n",
       " (0.7769084516501096, 'inv_have_num rating_scaled'),\n",
       " (0.7423841644216214, 'want_num format_CDr'),\n",
       " (0.706267815751362, 'rating^2'),\n",
       " (0.5517071550850854, 'format_Other Hard Trance'),\n",
       " (0.528894686318862, 'comment_num want_have_ratio'),\n",
       " (0.5228739254016703, 'country_Belgium Non-Music'),\n",
       " (0.5032560075671217, 'country_US want_have_ratio'),\n",
       " (0.487926749765403, 'rating inv_for_sale'),\n",
       " (0.47990544780589023, 'Reggae want_have_ratio'),\n",
       " (0.4678126563900108, ' want_have_ratio'),\n",
       " (0.4665762260754584, 'want_num country_France'),\n",
       " (0.45279974101128495, 'Other_Style want_have_ratio'),\n",
       " (0.4335402352228653, 'Rock want_have_ratio'),\n",
       " (0.4270662616293774, 'Funk want_have_ratio'),\n",
       " (0.4265635702498312, 'want_num inv_rating_scaled'),\n",
       " (0.4072157190296248, 'want_num Experimental'),\n",
       " (0.3922475670309026, 'format_Cassette country_Japan'),\n",
       " (0.3864964399416292, 'want_num Noise'),\n",
       " (0.38436301424459623, 'link_num country_Other'),\n",
       " (0.37604053657395276, 'format_Other want_have_ratio'),\n",
       " (0.37401009268769625, 'Pop want_have_ratio'),\n",
       " (0.3690622127297361, 'country_Australia '),\n",
       " (0.36357458878173304, 'Noise want_have_ratio'),\n",
       " (0.3559169292525771, 'format_Other Noise'),\n",
       " (0.3536911905780389, 'Classical want_have_ratio'),\n",
       " (0.3436911512390707, 'link_num country_Australia'),\n",
       " (0.3419494373985152, 'comment_num Punk'),\n",
       " (0.33473772182754824, 'want_num Gabber'),\n",
       " (0.33466865714505156, 'format_Vinyl Rock'),\n",
       " (0.32417542359213325, 'country_Italy want_have_ratio'),\n",
       " (0.31179802018188074, 'want_num Rock'),\n",
       " (0.29957484780221016, 'Abstract want_have_ratio'),\n",
       " (0.267301555266749, 'want_num format_Other'),\n",
       " (0.2659199442332018, 'format_CD want_have_ratio'),\n",
       " (0.2620824811618819, 'Other_Style inv_for_sale'),\n",
       " (0.2567353276029951, 'Stage & Screen Future Jazz'),\n",
       " (0.25047050626518513, 'format_Cassette country_Australia'),\n",
       " (0.24481798362724, 'format_Vinyl Jazz'),\n",
       " (0.24239920099650847, 'num_for_sale^2'),\n",
       " (0.2329969538532938, 'Blues want_have_ratio'),\n",
       " (0.2241906812917926, 'Deep House Acid'),\n",
       " (0.22341754100100275, 'country_Other Gabber'),\n",
       " (0.22037457150801432, 'country_Other Psychedelic Rock'),\n",
       " (0.21735670569107568, 'want_num Ambient'),\n",
       " (0.2138726163089523, 'country_Japan Jazz'),\n",
       " (0.21359990389226602, 'Punk want_have_ratio'),\n",
       " (0.21119456497216973, 'country_Japan'),\n",
       " (0.20717069808642993, 'want_num Synth-pop'),\n",
       " (0.19275866561598504, 'country_UK & Europe New Wave'),\n",
       " (0.18963307044411162, 'comment_num country_Japan'),\n",
       " (0.18618054202502696, 'comment_num country_France'),\n",
       " (0.18582055043265208, 'format_Other Ambient'),\n",
       " (0.17961436887533438, 'want_num Industrial'),\n",
       " (0.16827791204143788, 'Experimental Indie Rock'),\n",
       " (0.1610276824230507, 'Industrial want_have_ratio'),\n",
       " (0.1590696887102312, 'country_Netherlands Acid'),\n",
       " (0.15721089810043376, 'Experimental want_have_ratio'),\n",
       " (0.15164321635716194, 'House IDM'),\n",
       " (0.15115475218008895, 'want_num country_UK & Europe'),\n",
       " (0.1511128580059538, 'Abstract Psychedelic Rock'),\n",
       " (0.14704263742897697, 'link_num Psychedelic Rock'),\n",
       " (0.13947725230143704, 'country_Switzerland Rock'),\n",
       " (0.13823397591019587, 'country_Sweden inv_for_sale'),\n",
       " (0.13673410199828537, 'want_num Jazz'),\n",
       " (0.1291468762109362, 'country_Japan^2'),\n",
       " (0.12799459080688466, 'country_Other House'),\n",
       " (0.12444522549094252, 'want_num New Wave'),\n",
       " (0.11581110570344695, 'Hip Hop want_have_ratio'),\n",
       " (0.11513601225172812, 'format_Other country_US'),\n",
       " (0.1140792970922168, 'country_Japan inv_have_num'),\n",
       " (0.11239479909653596, 'Pop Rock Psychedelic Rock'),\n",
       " (0.10886622244482723, 'format_Vinyl Classical'),\n",
       " (0.10364105191357573, 'link_num Jungle'),\n",
       " (0.10066947124105062, 'country_UK & Europe Synth-pop'),\n",
       " (0.09942295177466633, 'want_num Italodance'),\n",
       " (0.09735487167128155, 'last_sold country_Japan'),\n",
       " (0.0969688108568156, 'country_Other want_have_ratio'),\n",
       " (0.09481121676282252, 'want_num Leftfield'),\n",
       " (0.08938435102509042, 'format_Other Electronic'),\n",
       " (0.07961995822780261, 'Experimental inv_for_sale'),\n",
       " (0.0781661557960927, 'comment_num format_Other'),\n",
       " (0.07680430090922788, 'country_Canada Hardcore'),\n",
       " (0.0762431678086504, 'country_UK & Europe want_have_ratio'),\n",
       " (0.07526303743486844, 'country_Japan IDM'),\n",
       " (0.06909155173687509, 'country_Sweden want_have_ratio'),\n",
       " (0.06617815380317897, 'country_Sweden Minimal'),\n",
       " (0.06605249423850817, 'format_CDr '),\n",
       " (0.0652324298550838, 'Gabber want_have_ratio'),\n",
       " (0.06423313920927774, 'Indie Rock Folk Rock'),\n",
       " (0.06113803184962498, 'Leftfield want_have_ratio'),\n",
       " (0.060710527198139026, 'format_CDr Experimental'),\n",
       " (0.05915141366052391, 'format_CDr country_Germany'),\n",
       " (0.05699912117234844, 'format_Vinyl Experimental'),\n",
       " (0.05667903275930222, 'format_Other Industrial'),\n",
       " (0.05655820084696387, 'country_Belgium New Wave'),\n",
       " (0.05091973386778988, 'comment_num House'),\n",
       " (0.050619690171963924, 'Rock inv_for_sale'),\n",
       " (0.04978496343706809, 'country_Australia Hardcore'),\n",
       " (0.04966066012278435, 'want_num IDM'),\n",
       " (0.04746480996018787, 'Synth-pop rating_scaled'),\n",
       " (0.047449887249243886, 'comment_num Hip Hop'),\n",
       " (0.047372338284023006, 'want_num Latin'),\n",
       " (0.046906501970921353, 'country_Italy Rock'),\n",
       " (0.044917251417209945, 'country_US inv_for_sale'),\n",
       " (0.04157350210996629, 'country_Germany Rock'),\n",
       " (0.04137069672915933, 'Techno IDM'),\n",
       " (0.04030799454853457, 'country_Sweden Experimental'),\n",
       " (0.0401491869547643, 'link_num Minimal'),\n",
       " (0.036434287385308135, 'country_Japan Stage & Screen'),\n",
       " (0.036397897661595166, 'country_Switzerland inv_rating_scaled'),\n",
       " (0.03566725120215745, 'Acid Other_Style'),\n",
       " (0.03259491166225534, 'Synth-pop Minimal'),\n",
       " (0.03106039116420879, 'want_num Folk Rock'),\n",
       " (0.030576300834944687, 'format_CDr Pop'),\n",
       " (0.029706841606021325, 'country_Australia Non-Music'),\n",
       " (0.029648422782921527, 'Latin Trance'),\n",
       " (0.02662831960115964, 'comment_num inv_rating_scaled'),\n",
       " (0.02323754720333041, 'country_Other Punk'),\n",
       " (0.022906313264645792, 'country_Italy Classical'),\n",
       " (0.02287441251029582, 'rating Synth-pop'),\n",
       " (0.021293465875351213, 'Experimental Folk Rock'),\n",
       " (0.020309685538173392, 'Techno Hard Trance'),\n",
       " (0.019872313024454438, 'Ambient want_have_ratio'),\n",
       " (0.018849315640192002, 'Non-Music Techno'),\n",
       " (0.018337822431026274, 'comment_num inv_for_sale'),\n",
       " (0.016420022047350213, 'country_Other Acid'),\n",
       " (0.015291944509126493, 'country_Switzerland Experimental'),\n",
       " (0.015283581399193839, 'Psychedelic Rock want_have_ratio'),\n",
       " (0.014080733837168428, 'format_Vinyl Synth-pop'),\n",
       " (0.013514622220744383, 'comment_num format_Cassette'),\n",
       " (0.010037899030354982, 'Acid Happy Hardcore'),\n",
       " (0.01000610305107737, 'country_Other Euro House'),\n",
       " (0.007688942391370905, 'country_Japan Electro'),\n",
       " (0.006376425120610624, 'country_Canada Psychedelic Rock'),\n",
       " (0.005371021697786095, 'country_Japan inv_rating_scaled'),\n",
       " (0.004502885987074168, 'Techno Disco'),\n",
       " (0.0029943711622483957, 'country_Belgium Synth-pop'),\n",
       " (0.0010034866881285633, 'country_Japan House'),\n",
       " (0.0007162303092430218, 'want_num country_Sweden'),\n",
       " (0.00043386125032632994, 'country_Germany Noise'),\n",
       " (0.00010085888302329541, 'Synth-pop inv_for_sale'),\n",
       " (2.5195149068127083e-05, 'format_Other Acid'),\n",
       " (7.255605996648904e-07, 'Non-Music Acid'),\n",
       " (6.373553497035896e-12, 'format_Other Happy Hardcore'),\n",
       " (6.330365390673739e-12, 'Non-Music Happy Hardcore'),\n",
       " (2.137353260656818e-15, 'format_Other Gabber'),\n",
       " (-0.0, 'want_num^2'),\n",
       " (-0.0, 'want_num rating_scaled'),\n",
       " (0.0, 'want_num inv_have_num'),\n",
       " (0.0, 'want_num format_Vinyl'),\n",
       " (0.0, 'want_num format_CD'),\n",
       " (0.0, 'want_num country_US'),\n",
       " (-0.0, 'want_num country_UK'),\n",
       " (0.0, 'want_num country_Switzerland'),\n",
       " (0.0, 'want_num country_Spain'),\n",
       " (-0.0, 'want_num country_Other'),\n",
       " (0.0, 'want_num country_Netherlands'),\n",
       " (0.0, 'want_num country_Japan'),\n",
       " (0.0, 'want_num country_Italy'),\n",
       " (0.0, 'want_num country_Germany'),\n",
       " (-0.0, 'want_num country_Europe'),\n",
       " (-0.0, 'want_num country_Canada'),\n",
       " (-0.0, 'want_num country_Belgium'),\n",
       " (0.0, 'want_num country_Australia'),\n",
       " (0.0, 'want_num UK Garage'),\n",
       " (0.0, 'want_num Trip Hop'),\n",
       " (-0.0, 'want_num Tech House'),\n",
       " (-0.0, 'want_num Stage & Screen'),\n",
       " (0.0, 'want_num Soul'),\n",
       " (-0.0, 'want_num RnB/Swing'),\n",
       " (0.0, 'want_num Reggae'),\n",
       " (0.0, 'want_num Punk'),\n",
       " (-0.0, 'want_num Psychedelic Rock'),\n",
       " (-0.0, 'want_num Progressive Trance'),\n",
       " (0.0, 'want_num Progressive House'),\n",
       " (0.0, 'want_num Pop Rock'),\n",
       " (-0.0, 'want_num Pop'),\n",
       " (0.0, 'want_num Other_Style'),\n",
       " (0.0, 'want_num Non-Music'),\n",
       " (0.0, 'want_num Minimal'),\n",
       " (0.0, 'want_num Jungle'),\n",
       " (0.0, 'want_num Hip Hop'),\n",
       " (0.0, 'want_num Hardcore'),\n",
       " (-0.0, 'want_num Hard Trance'),\n",
       " (-0.0, 'want_num Hard House'),\n",
       " (-0.0, 'want_num Happy Hardcore'),\n",
       " (-0.0, 'want_num Garage House'),\n",
       " (0.0, 'want_num Future Jazz'),\n",
       " (-0.0, 'want_num Funk / Soul'),\n",
       " (-0.0, 'want_num Funk'),\n",
       " (-0.0, 'want_num FolkWorldCountry'),\n",
       " (0.0, 'want_num Euro House'),\n",
       " (-0.0, 'want_num Electro'),\n",
       " (0.0, 'want_num Dub'),\n",
       " (0.0, 'want_num Drum n Bass'),\n",
       " (0.0, 'want_num Downtempo'),\n",
       " (0.0, 'want_num Classical'),\n",
       " (-0.0, \"want_num Children's\"),\n",
       " (0.0, 'want_num Breaks'),\n",
       " (-0.0, 'want_num Breakbeat'),\n",
       " (0.0, 'want_num Brass & Military'),\n",
       " (0.0, 'want_num Blues'),\n",
       " (0.0, 'want_num Ballad'),\n",
       " (0.0, 'want_num Alternative Rock'),\n",
       " (0.0, 'want_num Acid'),\n",
       " (0.0, 'want_num Abstract'),\n",
       " (0.0, 'want_num '),\n",
       " (0.0, 'want_num'),\n",
       " (-0.0, 'want_have_ratio inv_rating_scaled'),\n",
       " (-0.0, 'want_have_ratio inv_for_sale'),\n",
       " (0.0, 'want_have_ratio'),\n",
       " (-0.0, 'release_date^2'),\n",
       " (0.0, 'release_date want_num'),\n",
       " (0.0, 'release_date want_have_ratio'),\n",
       " (-0.0, 'release_date rating_scaled'),\n",
       " (-0.0, 'release_date inv_rating_scaled'),\n",
       " (-0.0, 'release_date inv_have_num'),\n",
       " (0.0, 'release_date inv_for_sale'),\n",
       " (0.0, 'release_date format_Vinyl'),\n",
       " (0.0, 'release_date format_Other'),\n",
       " (-0.0, 'release_date format_Cassette'),\n",
       " (-0.0, 'release_date format_CDr'),\n",
       " (-0.0, 'release_date format_CD'),\n",
       " (-0.0, 'release_date country_US'),\n",
       " (-0.0, 'release_date country_UK & Europe'),\n",
       " (-0.0, 'release_date country_UK'),\n",
       " (0.0, 'release_date country_Switzerland'),\n",
       " (0.0, 'release_date country_Sweden'),\n",
       " (0.0, 'release_date country_Spain'),\n",
       " (0.0, 'release_date country_Other'),\n",
       " (-0.0, 'release_date country_Netherlands'),\n",
       " (0.0, 'release_date country_Japan'),\n",
       " (0.0, 'release_date country_Italy'),\n",
       " (0.0, 'release_date country_Germany'),\n",
       " (0.0, 'release_date country_France'),\n",
       " (-0.0, 'release_date country_Europe'),\n",
       " (-0.0, 'release_date country_Canada'),\n",
       " (0.0, 'release_date country_Belgium'),\n",
       " (-0.0, 'release_date country_Australia'),\n",
       " (-0.0, 'release_date UK Garage'),\n",
       " (-0.0, 'release_date Trip Hop'),\n",
       " (-0.0, 'release_date Trance'),\n",
       " (-0.0, 'release_date Techno'),\n",
       " (-0.0, 'release_date Tech House'),\n",
       " (0.0, 'release_date Synth-pop'),\n",
       " (0.0, 'release_date Stage & Screen'),\n",
       " (-0.0, 'release_date Soul'),\n",
       " (0.0, 'release_date Rock'),\n",
       " (-0.0, 'release_date RnB/Swing'),\n",
       " (-0.0, 'release_date Reggae'),\n",
       " (-0.0, 'release_date Punk'),\n",
       " (0.0, 'release_date Psychedelic Rock'),\n",
       " (-0.0, 'release_date Progressive Trance'),\n",
       " (-0.0, 'release_date Progressive House'),\n",
       " (-0.0, 'release_date Pop Rock'),\n",
       " (-0.0, 'release_date Pop'),\n",
       " (0.0, 'release_date Other_Style'),\n",
       " (0.0, 'release_date Non-Music'),\n",
       " (-0.0, 'release_date Noise'),\n",
       " (0.0, 'release_date New Wave'),\n",
       " (0.0, 'release_date Minimal'),\n",
       " (-0.0, 'release_date Leftfield'),\n",
       " (0.0, 'release_date Latin'),\n",
       " (0.0, 'release_date Jungle'),\n",
       " (0.0, 'release_date Jazz'),\n",
       " (-0.0, 'release_date Italodance'),\n",
       " (-0.0, 'release_date Italo-Disco'),\n",
       " (0.0, 'release_date Industrial'),\n",
       " (-0.0, 'release_date Indie Rock'),\n",
       " (-0.0, 'release_date IDM'),\n",
       " (-0.0, 'release_date House'),\n",
       " (-0.0, 'release_date Hip Hop'),\n",
       " (-0.0, 'release_date Hardcore'),\n",
       " (-0.0, 'release_date Hard Trance'),\n",
       " (-0.0, 'release_date Hard House'),\n",
       " (-0.0, 'release_date Happy Hardcore'),\n",
       " (-0.0, 'release_date Garage House'),\n",
       " (0.0, 'release_date Gabber'),\n",
       " (-0.0, 'release_date Future Jazz'),\n",
       " (-0.0, 'release_date Funk / Soul'),\n",
       " (0.0, 'release_date Funk'),\n",
       " (0.0, 'release_date FolkWorldCountry'),\n",
       " (-0.0, 'release_date Folk Rock'),\n",
       " (0.0, 'release_date Experimental'),\n",
       " (-0.0, 'release_date Euro House'),\n",
       " (-0.0, 'release_date Electronic'),\n",
       " (-0.0, 'release_date Electro'),\n",
       " (-0.0, 'release_date Dub'),\n",
       " (-0.0, 'release_date Drum n Bass'),\n",
       " (-0.0, 'release_date Downtempo'),\n",
       " (0.0, 'release_date Disco'),\n",
       " (-0.0, 'release_date Deep House'),\n",
       " (0.0, 'release_date Classical'),\n",
       " (-0.0, \"release_date Children's\"),\n",
       " (-0.0, 'release_date Breaks'),\n",
       " (-0.0, 'release_date Breakbeat'),\n",
       " (0.0, 'release_date Brass & Military'),\n",
       " (0.0, 'release_date Blues'),\n",
       " (-0.0, 'release_date Ballad'),\n",
       " (-0.0, 'release_date Ambient'),\n",
       " (-0.0, 'release_date Alternative Rock'),\n",
       " (-0.0, 'release_date Acid'),\n",
       " (-0.0, 'release_date Abstract'),\n",
       " (-0.0, 'release_date '),\n",
       " (-0.0, 'rating_scaled^2'),\n",
       " (0.0, 'rating_scaled inv_rating_scaled'),\n",
       " (-0.0, 'rating_scaled'),\n",
       " (0.0, 'rating want_have_ratio'),\n",
       " (0.0, 'rating release_date'),\n",
       " (-0.0, 'rating rating_scaled'),\n",
       " (0.0, 'rating format_Vinyl'),\n",
       " (0.0, 'rating format_Other'),\n",
       " (-0.0, 'rating format_Cassette'),\n",
       " (-0.0, 'rating format_CDr'),\n",
       " (-0.0, 'rating format_CD'),\n",
       " (-0.0, 'rating country_US'),\n",
       " (-0.0, 'rating country_UK & Europe'),\n",
       " (-0.0, 'rating country_UK'),\n",
       " (0.0, 'rating country_Switzerland'),\n",
       " (0.0, 'rating country_Sweden'),\n",
       " (0.0, 'rating country_Spain'),\n",
       " (0.0, 'rating country_Other'),\n",
       " (-0.0, 'rating country_Netherlands'),\n",
       " (0.0, 'rating country_Japan'),\n",
       " (0.0, 'rating country_Italy'),\n",
       " (0.0, 'rating country_Germany'),\n",
       " (0.0, 'rating country_France'),\n",
       " (-0.0, 'rating country_Europe'),\n",
       " (-0.0, 'rating country_Canada'),\n",
       " (0.0, 'rating country_Belgium'),\n",
       " (-0.0, 'rating country_Australia'),\n",
       " (-0.0, 'rating UK Garage'),\n",
       " (-0.0, 'rating Trip Hop'),\n",
       " (-0.0, 'rating Trance'),\n",
       " (-0.0, 'rating Techno'),\n",
       " (-0.0, 'rating Tech House'),\n",
       " (0.0, 'rating Stage & Screen'),\n",
       " (-0.0, 'rating Soul'),\n",
       " (0.0, 'rating Rock'),\n",
       " (-0.0, 'rating RnB/Swing'),\n",
       " (-0.0, 'rating Reggae'),\n",
       " (-0.0, 'rating Punk'),\n",
       " (0.0, 'rating Psychedelic Rock'),\n",
       " (-0.0, 'rating Progressive Trance'),\n",
       " (-0.0, 'rating Progressive House'),\n",
       " (-0.0, 'rating Pop Rock'),\n",
       " (-0.0, 'rating Pop'),\n",
       " (0.0, 'rating Other_Style'),\n",
       " (0.0, 'rating Non-Music'),\n",
       " (-0.0, 'rating Noise'),\n",
       " (0.0, 'rating New Wave'),\n",
       " (0.0, 'rating Minimal'),\n",
       " (-0.0, 'rating Leftfield'),\n",
       " (0.0, 'rating Latin'),\n",
       " (0.0, 'rating Jungle'),\n",
       " (0.0, 'rating Jazz'),\n",
       " (-0.0, 'rating Italodance'),\n",
       " (-0.0, 'rating Italo-Disco'),\n",
       " (0.0, 'rating Industrial'),\n",
       " (-0.0, 'rating Indie Rock'),\n",
       " (-0.0, 'rating IDM'),\n",
       " (-0.0, 'rating House'),\n",
       " (-0.0, 'rating Hip Hop'),\n",
       " (-0.0, 'rating Hardcore'),\n",
       " (-0.0, 'rating Hard Trance'),\n",
       " (-0.0, 'rating Hard House'),\n",
       " (-0.0, 'rating Happy Hardcore'),\n",
       " (-0.0, 'rating Garage House'),\n",
       " (0.0, 'rating Gabber'),\n",
       " (-0.0, 'rating Future Jazz'),\n",
       " (-0.0, 'rating Funk / Soul'),\n",
       " (0.0, 'rating Funk'),\n",
       " (0.0, 'rating FolkWorldCountry'),\n",
       " (-0.0, 'rating Folk Rock'),\n",
       " (0.0, 'rating Experimental'),\n",
       " (-0.0, 'rating Euro House'),\n",
       " (-0.0, 'rating Electronic'),\n",
       " (-0.0, 'rating Electro'),\n",
       " (-0.0, 'rating Dub'),\n",
       " (-0.0, 'rating Drum n Bass'),\n",
       " (-0.0, 'rating Downtempo'),\n",
       " (0.0, 'rating Disco'),\n",
       " (-0.0, 'rating Deep House'),\n",
       " (0.0, 'rating Classical'),\n",
       " (-0.0, \"rating Children's\"),\n",
       " (-0.0, 'rating Breaks'),\n",
       " (-0.0, 'rating Breakbeat'),\n",
       " (0.0, 'rating Brass & Military'),\n",
       " (0.0, 'rating Blues'),\n",
       " (-0.0, 'rating Ballad'),\n",
       " (-0.0, 'rating Ambient'),\n",
       " (-0.0, 'rating Alternative Rock'),\n",
       " (-0.0, 'rating Acid'),\n",
       " (-0.0, 'rating Abstract'),\n",
       " (-0.0, 'rating '),\n",
       " (0.0, 'rating'),\n",
       " (-0.0, 'num_ratings^2'),\n",
       " (-0.0, 'num_ratings want_num'),\n",
       " (-0.0, 'num_ratings release_date'),\n",
       " (-0.0, 'num_ratings rating_scaled'),\n",
       " (-0.0, 'num_ratings rating'),\n",
       " (-0.0, 'num_ratings inv_rating_scaled'),\n",
       " (0.0, 'num_ratings inv_have_num'),\n",
       " (0.0, 'num_ratings inv_for_sale'),\n",
       " (-0.0, 'num_ratings format_Vinyl'),\n",
       " (0.0, 'num_ratings format_Other'),\n",
       " (0.0, 'num_ratings format_Cassette'),\n",
       " (-0.0, 'num_ratings format_CD'),\n",
       " (-0.0, 'num_ratings country_US'),\n",
       " (-0.0, 'num_ratings country_UK & Europe'),\n",
       " (-0.0, 'num_ratings country_UK'),\n",
       " (-0.0, 'num_ratings country_Switzerland'),\n",
       " (0.0, 'num_ratings country_Sweden'),\n",
       " (0.0, 'num_ratings country_Spain'),\n",
       " (-0.0, 'num_ratings country_Other'),\n",
       " (-0.0, 'num_ratings country_Netherlands'),\n",
       " (0.0, 'num_ratings country_Japan'),\n",
       " (0.0, 'num_ratings country_Italy'),\n",
       " (0.0, 'num_ratings country_Germany'),\n",
       " (-0.0, 'num_ratings country_France'),\n",
       " (-0.0, 'num_ratings country_Europe'),\n",
       " (-0.0, 'num_ratings country_Canada'),\n",
       " (-0.0, 'num_ratings country_Belgium'),\n",
       " (0.0, 'num_ratings country_Australia'),\n",
       " (-0.0, 'num_ratings UK Garage'),\n",
       " (-0.0, 'num_ratings Trip Hop'),\n",
       " (-0.0, 'num_ratings Trance'),\n",
       " (-0.0, 'num_ratings Techno'),\n",
       " (-0.0, 'num_ratings Tech House'),\n",
       " (0.0, 'num_ratings Synth-pop'),\n",
       " (-0.0, 'num_ratings Stage & Screen'),\n",
       " (0.0, 'num_ratings Soul'),\n",
       " (-0.0, 'num_ratings Rock'),\n",
       " (0.0, 'num_ratings RnB/Swing'),\n",
       " (-0.0, 'num_ratings Reggae'),\n",
       " (-0.0, 'num_ratings Punk'),\n",
       " (-0.0, 'num_ratings Psychedelic Rock'),\n",
       " (-0.0, 'num_ratings Progressive Trance'),\n",
       " (-0.0, 'num_ratings Progressive House'),\n",
       " (0.0, 'num_ratings Pop Rock'),\n",
       " (-0.0, 'num_ratings Pop'),\n",
       " (-0.0, 'num_ratings Other_Style'),\n",
       " (0.0, 'num_ratings Non-Music'),\n",
       " (-0.0, 'num_ratings Noise'),\n",
       " (0.0, 'num_ratings New Wave'),\n",
       " (-0.0, 'num_ratings Minimal'),\n",
       " (-0.0, 'num_ratings Leftfield'),\n",
       " (-0.0, 'num_ratings Latin'),\n",
       " (-0.0, 'num_ratings Jungle'),\n",
       " (0.0, 'num_ratings Jazz'),\n",
       " (0.0, 'num_ratings Italodance'),\n",
       " (-0.0, 'num_ratings Italo-Disco'),\n",
       " (0.0, 'num_ratings Industrial'),\n",
       " (-0.0, 'num_ratings Indie Rock'),\n",
       " (0.0, 'num_ratings IDM'),\n",
       " (0.0, 'num_ratings House'),\n",
       " (-0.0, 'num_ratings Hip Hop'),\n",
       " (-0.0, 'num_ratings Hardcore'),\n",
       " (-0.0, 'num_ratings Hard Trance'),\n",
       " (-0.0, 'num_ratings Hard House'),\n",
       " (-0.0, 'num_ratings Happy Hardcore'),\n",
       " (-0.0, 'num_ratings Garage House'),\n",
       " (-0.0, 'num_ratings Gabber'),\n",
       " (0.0, 'num_ratings Future Jazz'),\n",
       " (-0.0, 'num_ratings Funk / Soul'),\n",
       " (-0.0, 'num_ratings Funk'),\n",
       " (-0.0, 'num_ratings FolkWorldCountry'),\n",
       " (0.0, 'num_ratings Folk Rock'),\n",
       " (-0.0, 'num_ratings Experimental'),\n",
       " (-0.0, 'num_ratings Euro House'),\n",
       " (-0.0, 'num_ratings Electronic'),\n",
       " (-0.0, 'num_ratings Electro'),\n",
       " (-0.0, 'num_ratings Dub'),\n",
       " (-0.0, 'num_ratings Drum n Bass'),\n",
       " (-0.0, 'num_ratings Downtempo'),\n",
       " (-0.0, 'num_ratings Disco'),\n",
       " (-0.0, 'num_ratings Deep House'),\n",
       " (-0.0, 'num_ratings Classical'),\n",
       " (-0.0, \"num_ratings Children's\"),\n",
       " (-0.0, 'num_ratings Breaks'),\n",
       " (-0.0, 'num_ratings Breakbeat'),\n",
       " (0.0, 'num_ratings Brass & Military'),\n",
       " (0.0, 'num_ratings Blues'),\n",
       " (0.0, 'num_ratings Ballad'),\n",
       " (-0.0, 'num_ratings Ambient'),\n",
       " (-0.0, 'num_ratings Alternative Rock'),\n",
       " (-0.0, 'num_ratings Acid'),\n",
       " (0.0, 'num_ratings Abstract'),\n",
       " (-0.0, 'num_ratings '),\n",
       " (-0.0, 'num_ratings'),\n",
       " (-0.0, 'num_for_sale want_have_ratio'),\n",
       " (-0.0, 'num_for_sale release_date'),\n",
       " (0.0, 'num_for_sale rating_scaled'),\n",
       " (0.0, 'num_for_sale num_ratings'),\n",
       " (-0.0, 'num_for_sale inv_rating_scaled'),\n",
       " (-0.0, 'num_for_sale format_Vinyl'),\n",
       " (-0.0, 'num_for_sale format_Other'),\n",
       " (-0.0, 'num_for_sale format_Cassette'),\n",
       " (-0.0, 'num_for_sale format_CDr'),\n",
       " (0.0, 'num_for_sale country_UK & Europe'),\n",
       " (-0.0, 'num_for_sale country_UK'),\n",
       " (-0.0, 'num_for_sale country_Switzerland'),\n",
       " (-0.0, 'num_for_sale country_Sweden'),\n",
       " (0.0, 'num_for_sale country_Spain'),\n",
       " (-0.0, 'num_for_sale country_Netherlands'),\n",
       " (0.0, 'num_for_sale country_Japan'),\n",
       " (-0.0, 'num_for_sale country_Italy'),\n",
       " (0.0, 'num_for_sale country_Germany'),\n",
       " (-0.0, 'num_for_sale country_France'),\n",
       " (0.0, 'num_for_sale country_Europe'),\n",
       " (-0.0, 'num_for_sale country_Canada'),\n",
       " (-0.0, 'num_for_sale country_Belgium'),\n",
       " (-0.0, 'num_for_sale country_Australia'),\n",
       " (-0.0, 'num_for_sale UK Garage'),\n",
       " (-0.0, 'num_for_sale Trip Hop'),\n",
       " (-0.0, 'num_for_sale Trance'),\n",
       " (-0.0, 'num_for_sale Techno'),\n",
       " (0.0, 'num_for_sale Tech House'),\n",
       " (0.0, 'num_for_sale Synth-pop'),\n",
       " (0.0, 'num_for_sale Stage & Screen'),\n",
       " (0.0, 'num_for_sale Soul'),\n",
       " (-0.0, 'num_for_sale Rock'),\n",
       " (-0.0, 'num_for_sale RnB/Swing'),\n",
       " (-0.0, 'num_for_sale Reggae'),\n",
       " (-0.0, 'num_for_sale Punk'),\n",
       " (-0.0, 'num_for_sale Psychedelic Rock'),\n",
       " (-0.0, 'num_for_sale Progressive Trance'),\n",
       " (0.0, 'num_for_sale Progressive House'),\n",
       " (-0.0, 'num_for_sale Pop Rock'),\n",
       " (0.0, 'num_for_sale Pop'),\n",
       " (-0.0, 'num_for_sale Other_Style'),\n",
       " (0.0, 'num_for_sale Non-Music'),\n",
       " (-0.0, 'num_for_sale Noise'),\n",
       " (-0.0, 'num_for_sale New Wave'),\n",
       " (0.0, 'num_for_sale Minimal'),\n",
       " (-0.0, 'num_for_sale Leftfield'),\n",
       " (-0.0, 'num_for_sale Latin'),\n",
       " (0.0, 'num_for_sale Jungle'),\n",
       " (-0.0, 'num_for_sale Jazz'),\n",
       " (-0.0, 'num_for_sale Italodance'),\n",
       " (-0.0, 'num_for_sale Italo-Disco'),\n",
       " (-0.0, 'num_for_sale Industrial'),\n",
       " (-0.0, 'num_for_sale IDM'),\n",
       " (0.0, 'num_for_sale House'),\n",
       " (-0.0, 'num_for_sale Hip Hop'),\n",
       " (-0.0, 'num_for_sale Hardcore'),\n",
       " (-0.0, 'num_for_sale Hard Trance'),\n",
       " (-0.0, 'num_for_sale Hard House'),\n",
       " (-0.0, 'num_for_sale Happy Hardcore'),\n",
       " (-0.0, 'num_for_sale Garage House'),\n",
       " (-0.0, 'num_for_sale Gabber'),\n",
       " (0.0, 'num_for_sale Future Jazz'),\n",
       " (0.0, 'num_for_sale Funk / Soul'),\n",
       " (0.0, 'num_for_sale Funk'),\n",
       " (0.0, 'num_for_sale FolkWorldCountry'),\n",
       " (0.0, 'num_for_sale Folk Rock'),\n",
       " (-0.0, 'num_for_sale Experimental'),\n",
       " (-0.0, 'num_for_sale Euro House'),\n",
       " (0.0, 'num_for_sale Electronic'),\n",
       " (-0.0, 'num_for_sale Electro'),\n",
       " (-0.0, 'num_for_sale Dub'),\n",
       " (-0.0, 'num_for_sale Drum n Bass'),\n",
       " (-0.0, 'num_for_sale Downtempo'),\n",
       " (0.0, 'num_for_sale Disco'),\n",
       " (0.0, 'num_for_sale Deep House'),\n",
       " (-0.0, 'num_for_sale Classical'),\n",
       " (-0.0, \"num_for_sale Children's\"),\n",
       " (-0.0, 'num_for_sale Breaks'),\n",
       " (-0.0, 'num_for_sale Breakbeat'),\n",
       " (0.0, 'num_for_sale Brass & Military'),\n",
       " (-0.0, 'num_for_sale Blues'),\n",
       " (0.0, 'num_for_sale Ballad'),\n",
       " (0.0, 'num_for_sale Ambient'),\n",
       " (-0.0, 'num_for_sale Alternative Rock'),\n",
       " (-0.0, 'num_for_sale Acid'),\n",
       " (-0.0, 'num_for_sale Abstract'),\n",
       " (-0.0, 'num_for_sale '),\n",
       " (-0.0, 'num_for_sale'),\n",
       " (0.0, 'link_num release_date'),\n",
       " (0.0, 'link_num rating'),\n",
       " (-0.0, 'link_num num_ratings'),\n",
       " (-0.0, 'link_num num_for_sale'),\n",
       " (0.0, 'link_num inv_rating_scaled'),\n",
       " (-0.0, 'link_num inv_have_num'),\n",
       " (0.0, 'link_num inv_for_sale'),\n",
       " (0.0, 'link_num format_Vinyl'),\n",
       " (0.0, 'link_num format_Other'),\n",
       " (0.0, 'link_num format_Cassette'),\n",
       " (-0.0, 'link_num format_CDr'),\n",
       " (-0.0, 'link_num format_CD'),\n",
       " (0.0, 'link_num country_US'),\n",
       " (-0.0, 'link_num country_UK & Europe'),\n",
       " (-0.0, 'link_num country_UK'),\n",
       " (0.0, 'link_num country_Switzerland'),\n",
       " (0.0, 'link_num country_Sweden'),\n",
       " (0.0, 'link_num country_Spain'),\n",
       " (-0.0, 'link_num country_Netherlands'),\n",
       " (0.0, 'link_num country_Japan'),\n",
       " (-0.0, 'link_num country_Italy'),\n",
       " (0.0, 'link_num country_Germany'),\n",
       " (-0.0, 'link_num country_France'),\n",
       " (-0.0, 'link_num country_Europe'),\n",
       " (-0.0, 'link_num country_Canada'),\n",
       " (-0.0, 'link_num country_Belgium'),\n",
       " (-0.0, 'link_num UK Garage'),\n",
       " (-0.0, 'link_num Trip Hop'),\n",
       " (-0.0, 'link_num Tech House'),\n",
       " (0.0, 'link_num Synth-pop'),\n",
       " (0.0, 'link_num Stage & Screen'),\n",
       " (-0.0, 'link_num Soul'),\n",
       " (0.0, 'link_num Rock'),\n",
       " (-0.0, 'link_num RnB/Swing'),\n",
       " (-0.0, 'link_num Reggae'),\n",
       " (0.0, 'link_num Punk'),\n",
       " (-0.0, 'link_num Progressive Trance'),\n",
       " (-0.0, 'link_num Progressive House'),\n",
       " (0.0, 'link_num Pop Rock'),\n",
       " (-0.0, 'link_num Pop'),\n",
       " (-0.0, 'link_num Other_Style'),\n",
       " (0.0, 'link_num Non-Music'),\n",
       " (0.0, 'link_num Noise'),\n",
       " (0.0, 'link_num New Wave'),\n",
       " (-0.0, 'link_num Leftfield'),\n",
       " (-0.0, 'link_num Latin'),\n",
       " (0.0, 'link_num Jazz'),\n",
       " (-0.0, 'link_num Italodance'),\n",
       " (-0.0, 'link_num Italo-Disco'),\n",
       " (0.0, 'link_num Industrial'),\n",
       " (-0.0, 'link_num Indie Rock'),\n",
       " (0.0, 'link_num IDM'),\n",
       " (-0.0, 'link_num House'),\n",
       " (-0.0, 'link_num Hip Hop'),\n",
       " (-0.0, 'link_num Hardcore'),\n",
       " (-0.0, 'link_num Hard Trance'),\n",
       " (-0.0, 'link_num Hard House'),\n",
       " (-0.0, 'link_num Happy Hardcore'),\n",
       " (-0.0, 'link_num Garage House'),\n",
       " (0.0, 'link_num Gabber'),\n",
       " (0.0, 'link_num Future Jazz'),\n",
       " (-0.0, 'link_num Funk'),\n",
       " (-0.0, 'link_num FolkWorldCountry'),\n",
       " (0.0, 'link_num Folk Rock'),\n",
       " (0.0, 'link_num Experimental'),\n",
       " (-0.0, 'link_num Euro House'),\n",
       " (-0.0, 'link_num Electro'),\n",
       " (-0.0, 'link_num Dub'),\n",
       " (-0.0, 'link_num Drum n Bass'),\n",
       " (-0.0, 'link_num Downtempo'),\n",
       " (-0.0, 'link_num Disco'),\n",
       " (-0.0, 'link_num Deep House'),\n",
       " (-0.0, 'link_num Classical'),\n",
       " (-0.0, \"link_num Children's\"),\n",
       " (-0.0, 'link_num Breaks'),\n",
       " (-0.0, 'link_num Breakbeat'),\n",
       " (0.0, 'link_num Brass & Military'),\n",
       " (0.0, 'link_num Blues'),\n",
       " (-0.0, 'link_num Ballad'),\n",
       " (-0.0, 'link_num Ambient'),\n",
       " (-0.0, 'link_num Alternative Rock'),\n",
       " (-0.0, 'link_num Acid'),\n",
       " (-0.0, 'link_num Abstract'),\n",
       " (-0.0, 'link_num '),\n",
       " (0.0, 'link_num'),\n",
       " (0.0, 'last_sold^2'),\n",
       " (0.0, 'last_sold want_num'),\n",
       " (0.0, 'last_sold want_have_ratio'),\n",
       " (-0.0, 'last_sold rating_scaled'),\n",
       " (0.0, 'last_sold rating'),\n",
       " (-0.0, 'last_sold num_ratings'),\n",
       " (-0.0, 'last_sold num_for_sale'),\n",
       " (0.0, 'last_sold link_num'),\n",
       " (-0.0, 'last_sold inv_rating_scaled'),\n",
       " (-0.0, 'last_sold inv_have_num'),\n",
       " (0.0, 'last_sold inv_for_sale'),\n",
       " (0.0, 'last_sold format_Vinyl'),\n",
       " (0.0, 'last_sold format_Other'),\n",
       " (-0.0, 'last_sold format_Cassette'),\n",
       " (-0.0, 'last_sold format_CDr'),\n",
       " (-0.0, 'last_sold format_CD'),\n",
       " (-0.0, 'last_sold country_US'),\n",
       " (-0.0, 'last_sold country_UK & Europe'),\n",
       " (-0.0, 'last_sold country_UK'),\n",
       " (0.0, 'last_sold country_Switzerland'),\n",
       " (0.0, 'last_sold country_Sweden'),\n",
       " (0.0, 'last_sold country_Spain'),\n",
       " (0.0, 'last_sold country_Other'),\n",
       " (-0.0, 'last_sold country_Netherlands'),\n",
       " (0.0, 'last_sold country_Italy'),\n",
       " (0.0, 'last_sold country_Germany'),\n",
       " (0.0, 'last_sold country_France'),\n",
       " (-0.0, 'last_sold country_Europe'),\n",
       " (-0.0, 'last_sold country_Canada'),\n",
       " (0.0, 'last_sold country_Belgium'),\n",
       " (-0.0, 'last_sold country_Australia'),\n",
       " (-0.0, 'last_sold UK Garage'),\n",
       " (-0.0, 'last_sold Trip Hop'),\n",
       " (-0.0, 'last_sold Trance'),\n",
       " (-0.0, 'last_sold Techno'),\n",
       " (-0.0, 'last_sold Tech House'),\n",
       " (0.0, 'last_sold Synth-pop'),\n",
       " (0.0, 'last_sold Stage & Screen'),\n",
       " (-0.0, 'last_sold Soul'),\n",
       " (0.0, 'last_sold Rock'),\n",
       " (-0.0, 'last_sold RnB/Swing'),\n",
       " (-0.0, 'last_sold Reggae'),\n",
       " (-0.0, 'last_sold Punk'),\n",
       " (0.0, 'last_sold Psychedelic Rock'),\n",
       " (-0.0, 'last_sold Progressive Trance'),\n",
       " (-0.0, 'last_sold Progressive House'),\n",
       " (-0.0, 'last_sold Pop Rock'),\n",
       " (-0.0, 'last_sold Pop'),\n",
       " (0.0, 'last_sold Other_Style'),\n",
       " (0.0, 'last_sold Non-Music'),\n",
       " (-0.0, 'last_sold Noise'),\n",
       " (0.0, 'last_sold New Wave'),\n",
       " (0.0, 'last_sold Minimal'),\n",
       " (-0.0, 'last_sold Leftfield'),\n",
       " (0.0, 'last_sold Latin'),\n",
       " (0.0, 'last_sold Jungle'),\n",
       " (0.0, 'last_sold Jazz'),\n",
       " (-0.0, 'last_sold Italodance'),\n",
       " (-0.0, 'last_sold Italo-Disco'),\n",
       " (0.0, 'last_sold Industrial'),\n",
       " (-0.0, 'last_sold Indie Rock'),\n",
       " (-0.0, 'last_sold IDM'),\n",
       " (-0.0, 'last_sold House'),\n",
       " (-0.0, 'last_sold Hip Hop'),\n",
       " (-0.0, 'last_sold Hardcore'),\n",
       " (-0.0, 'last_sold Hard Trance'),\n",
       " (-0.0, 'last_sold Hard House'),\n",
       " (-0.0, 'last_sold Happy Hardcore'),\n",
       " (-0.0, 'last_sold Garage House'),\n",
       " (0.0, 'last_sold Gabber'),\n",
       " (-0.0, 'last_sold Future Jazz'),\n",
       " (-0.0, 'last_sold Funk / Soul'),\n",
       " (0.0, 'last_sold Funk'),\n",
       " (0.0, 'last_sold FolkWorldCountry'),\n",
       " (-0.0, 'last_sold Folk Rock'),\n",
       " (0.0, 'last_sold Experimental'),\n",
       " (-0.0, 'last_sold Euro House'),\n",
       " (-0.0, 'last_sold Electronic'),\n",
       " (-0.0, 'last_sold Electro'),\n",
       " (-0.0, 'last_sold Dub'),\n",
       " (-0.0, 'last_sold Drum n Bass'),\n",
       " (-0.0, 'last_sold Downtempo'),\n",
       " (0.0, 'last_sold Disco'),\n",
       " (-0.0, 'last_sold Deep House'),\n",
       " (0.0, 'last_sold Classical'),\n",
       " (-0.0, \"last_sold Children's\"),\n",
       " (-0.0, 'last_sold Breaks'),\n",
       " (-0.0, 'last_sold Breakbeat'),\n",
       " (0.0, 'last_sold Brass & Military'),\n",
       " (0.0, 'last_sold Blues'),\n",
       " (-0.0, 'last_sold Ballad'),\n",
       " (-0.0, 'last_sold Ambient'),\n",
       " (-0.0, 'last_sold Alternative Rock'),\n",
       " (-0.0, 'last_sold Acid'),\n",
       " (-0.0, 'last_sold Abstract'),\n",
       " (-0.0, 'last_sold '),\n",
       " (0.0, 'last_sold'),\n",
       " (0.0, 'inv_rating_scaled^2'),\n",
       " (-0.0, 'inv_rating_scaled'),\n",
       " (-0.0, 'inv_have_num^2'),\n",
       " (-0.0, 'inv_have_num inv_rating_scaled'),\n",
       " (-0.0, 'inv_have_num'),\n",
       " (-0.0, 'inv_for_sale^2'),\n",
       " (0.0, 'inv_for_sale rating_scaled'),\n",
       " (-0.0, 'inv_for_sale inv_rating_scaled'),\n",
       " (0.0, 'inv_for_sale inv_have_num'),\n",
       " (0.0, 'inv_for_sale'),\n",
       " (-0.0, 'have_num^2'),\n",
       " (-0.0, 'have_num want_num'),\n",
       " (0.0, 'have_num want_have_ratio'),\n",
       " (-0.0, 'have_num release_date'),\n",
       " (-0.0, 'have_num rating_scaled'),\n",
       " (-0.0, 'have_num rating'),\n",
       " (-0.0, 'have_num num_ratings'),\n",
       " (0.0, 'have_num num_for_sale'),\n",
       " (-0.0, 'have_num link_num'),\n",
       " (-0.0, 'have_num last_sold'),\n",
       " (-0.0, 'have_num inv_rating_scaled'),\n",
       " (0.0, 'have_num inv_have_num'),\n",
       " (0.0, 'have_num inv_for_sale'),\n",
       " (-0.0, 'have_num format_Vinyl'),\n",
       " (0.0, 'have_num format_Other'),\n",
       " (0.0, 'have_num format_Cassette'),\n",
       " (-0.0, 'have_num format_CDr'),\n",
       " (-0.0, 'have_num country_UK & Europe'),\n",
       " (-0.0, 'have_num country_UK'),\n",
       " (0.0, 'have_num country_Switzerland'),\n",
       " (0.0, 'have_num country_Sweden'),\n",
       " (0.0, 'have_num country_Spain'),\n",
       " (-0.0, 'have_num country_Other'),\n",
       " (-0.0, 'have_num country_Netherlands'),\n",
       " (-0.0, 'have_num country_Japan'),\n",
       " (-0.0, 'have_num country_Italy'),\n",
       " (0.0, 'have_num country_Germany'),\n",
       " (-0.0, 'have_num country_France'),\n",
       " (-0.0, 'have_num country_Europe'),\n",
       " (-0.0, 'have_num country_Canada'),\n",
       " (-0.0, 'have_num country_Belgium'),\n",
       " (-0.0, 'have_num country_Australia'),\n",
       " (0.0, 'have_num UK Garage'),\n",
       " (-0.0, 'have_num Trip Hop'),\n",
       " (-0.0, 'have_num Trance'),\n",
       " (-0.0, 'have_num Techno'),\n",
       " (-0.0, 'have_num Tech House'),\n",
       " (0.0, 'have_num Synth-pop'),\n",
       " (-0.0, 'have_num Stage & Screen'),\n",
       " (0.0, 'have_num Soul'),\n",
       " (-0.0, 'have_num Rock'),\n",
       " (0.0, 'have_num RnB/Swing'),\n",
       " (-0.0, 'have_num Reggae'),\n",
       " (-0.0, 'have_num Punk'),\n",
       " (-0.0, 'have_num Progressive Trance'),\n",
       " (0.0, 'have_num Progressive House'),\n",
       " (0.0, 'have_num Pop Rock'),\n",
       " (-0.0, 'have_num Pop'),\n",
       " (-0.0, 'have_num Other_Style'),\n",
       " (0.0, 'have_num Non-Music'),\n",
       " (-0.0, 'have_num New Wave'),\n",
       " (-0.0, 'have_num Minimal'),\n",
       " (-0.0, 'have_num Leftfield'),\n",
       " (-0.0, 'have_num Latin'),\n",
       " (-0.0, 'have_num Jungle'),\n",
       " (-0.0, 'have_num Jazz'),\n",
       " (-0.0, 'have_num Italodance'),\n",
       " (-0.0, 'have_num Italo-Disco'),\n",
       " (-0.0, 'have_num Industrial'),\n",
       " (0.0, 'have_num IDM'),\n",
       " (0.0, 'have_num House'),\n",
       " (-0.0, 'have_num Hip Hop'),\n",
       " (-0.0, 'have_num Hardcore'),\n",
       " (-0.0, 'have_num Hard Trance'),\n",
       " (-0.0, 'have_num Hard House'),\n",
       " (-0.0, 'have_num Happy Hardcore'),\n",
       " (-0.0, 'have_num Garage House'),\n",
       " (-0.0, 'have_num Gabber'),\n",
       " (0.0, 'have_num Future Jazz'),\n",
       " (-0.0, 'have_num Funk / Soul'),\n",
       " (-0.0, 'have_num Funk'),\n",
       " (-0.0, 'have_num FolkWorldCountry'),\n",
       " (0.0, 'have_num Folk Rock'),\n",
       " (-0.0, 'have_num Experimental'),\n",
       " (-0.0, 'have_num Euro House'),\n",
       " (-0.0, 'have_num Electronic'),\n",
       " (-0.0, 'have_num Electro'),\n",
       " (-0.0, 'have_num Dub'),\n",
       " (-0.0, 'have_num Drum n Bass'),\n",
       " (-0.0, 'have_num Downtempo'),\n",
       " (0.0, 'have_num Disco'),\n",
       " (0.0, 'have_num Deep House'),\n",
       " (-0.0, 'have_num Classical'),\n",
       " (-0.0, \"have_num Children's\"),\n",
       " (-0.0, 'have_num Breaks'),\n",
       " (-0.0, 'have_num Breakbeat'),\n",
       " (0.0, 'have_num Brass & Military'),\n",
       " (-0.0, 'have_num Blues'),\n",
       " (0.0, 'have_num Ballad'),\n",
       " (0.0, 'have_num Ambient'),\n",
       " (-0.0, 'have_num Alternative Rock'),\n",
       " (-0.0, 'have_num Acid'),\n",
       " (0.0, 'have_num Abstract'),\n",
       " (-0.0, 'have_num '),\n",
       " (-0.0, 'have_num'),\n",
       " (0.0, 'format_Vinyl^2'),\n",
       " (0.0, 'format_Vinyl want_have_ratio'),\n",
       " (-0.0, 'format_Vinyl rating_scaled'),\n",
       " (-0.0, 'format_Vinyl inv_rating_scaled'),\n",
       " (0.0, 'format_Vinyl inv_for_sale'),\n",
       " (-0.0, 'format_Vinyl country_US'),\n",
       " (0.0, 'format_Vinyl country_UK & Europe'),\n",
       " (-0.0, 'format_Vinyl country_UK'),\n",
       " (0.0, 'format_Vinyl country_Switzerland'),\n",
       " (0.0, 'format_Vinyl country_Sweden'),\n",
       " (-0.0, 'format_Vinyl country_Spain'),\n",
       " (0.0, 'format_Vinyl country_Other'),\n",
       " (-0.0, 'format_Vinyl country_Netherlands'),\n",
       " (0.0, 'format_Vinyl country_Japan'),\n",
       " (0.0, 'format_Vinyl country_Italy'),\n",
       " (0.0, 'format_Vinyl country_Germany'),\n",
       " (-0.0, 'format_Vinyl country_France'),\n",
       " (0.0, 'format_Vinyl country_Europe'),\n",
       " (-0.0, 'format_Vinyl country_Canada'),\n",
       " (0.0, 'format_Vinyl country_Belgium'),\n",
       " (0.0, 'format_Vinyl country_Australia'),\n",
       " (-0.0, 'format_Vinyl UK Garage'),\n",
       " (-0.0, 'format_Vinyl Trip Hop'),\n",
       " (-0.0, 'format_Vinyl Trance'),\n",
       " (-0.0, 'format_Vinyl Techno'),\n",
       " (-0.0, 'format_Vinyl Tech House'),\n",
       " (-0.0, 'format_Vinyl Stage & Screen'),\n",
       " (-0.0, 'format_Vinyl Soul'),\n",
       " (-0.0, 'format_Vinyl RnB/Swing'),\n",
       " (0.0, 'format_Vinyl Reggae'),\n",
       " (0.0, 'format_Vinyl Punk'),\n",
       " (0.0, 'format_Vinyl Psychedelic Rock'),\n",
       " (-0.0, 'format_Vinyl Progressive Trance'),\n",
       " (-0.0, 'format_Vinyl Progressive House'),\n",
       " (-0.0, 'format_Vinyl Pop'),\n",
       " (0.0, 'format_Vinyl Other_Style'),\n",
       " (0.0, 'format_Vinyl Non-Music'),\n",
       " (0.0, 'format_Vinyl Noise'),\n",
       " (0.0, 'format_Vinyl New Wave'),\n",
       " (0.0, 'format_Vinyl Minimal'),\n",
       " (0.0, 'format_Vinyl Leftfield'),\n",
       " (-0.0, 'format_Vinyl Latin'),\n",
       " (0.0, 'format_Vinyl Jungle'),\n",
       " (-0.0, 'format_Vinyl Italodance'),\n",
       " (-0.0, 'format_Vinyl Italo-Disco'),\n",
       " (0.0, 'format_Vinyl Industrial'),\n",
       " (0.0, 'format_Vinyl Indie Rock'),\n",
       " (-0.0, 'format_Vinyl IDM'),\n",
       " (-0.0, 'format_Vinyl House'),\n",
       " (-0.0, 'format_Vinyl Hip Hop'),\n",
       " (-0.0, 'format_Vinyl Hardcore'),\n",
       " (-0.0, 'format_Vinyl Hard Trance'),\n",
       " (-0.0, 'format_Vinyl Hard House'),\n",
       " (-0.0, 'format_Vinyl Happy Hardcore'),\n",
       " (-0.0, 'format_Vinyl Garage House'),\n",
       " (-0.0, 'format_Vinyl Gabber'),\n",
       " (-0.0, 'format_Vinyl Future Jazz'),\n",
       " (-0.0, 'format_Vinyl Funk / Soul'),\n",
       " (0.0, 'format_Vinyl Funk'),\n",
       " (0.0, 'format_Vinyl FolkWorldCountry'),\n",
       " (0.0, 'format_Vinyl Folk Rock'),\n",
       " (-0.0, 'format_Vinyl Euro House'),\n",
       " (-0.0, 'format_Vinyl Electro'),\n",
       " (0.0, 'format_Vinyl Dub'),\n",
       " (-0.0, 'format_Vinyl Drum n Bass'),\n",
       " (0.0, 'format_Vinyl Downtempo'),\n",
       " (0.0, 'format_Vinyl Disco'),\n",
       " (-0.0, 'format_Vinyl Deep House'),\n",
       " (-0.0, \"format_Vinyl Children's\"),\n",
       " (-0.0, 'format_Vinyl Breaks'),\n",
       " (-0.0, 'format_Vinyl Breakbeat'),\n",
       " (0.0, 'format_Vinyl Brass & Military'),\n",
       " (0.0, 'format_Vinyl Blues'),\n",
       " (0.0, 'format_Vinyl Ballad'),\n",
       " (0.0, 'format_Vinyl Ambient'),\n",
       " (0.0, 'format_Vinyl Alternative Rock'),\n",
       " (-0.0, 'format_Vinyl Acid'),\n",
       " (0.0, 'format_Vinyl Abstract'),\n",
       " (-0.0, 'format_Vinyl '),\n",
       " (0.0, 'format_Vinyl'),\n",
       " (0.0, 'format_Other^2'),\n",
       " (0.0, 'format_Other rating_scaled'),\n",
       " (-0.0, 'format_Other inv_rating_scaled'),\n",
       " (-0.0, 'format_Other inv_have_num'),\n",
       " (-0.0, 'format_Other inv_for_sale'),\n",
       " (0.0, 'format_Other format_Vinyl'),\n",
       " (-0.0, 'format_Other country_UK & Europe'),\n",
       " (-0.0, 'format_Other country_UK'),\n",
       " (0.0, 'format_Other country_Switzerland'),\n",
       " (0.0, 'format_Other country_Sweden'),\n",
       " (0.0, 'format_Other country_Spain'),\n",
       " (-0.0, 'format_Other country_Other'),\n",
       " (0.0, 'format_Other country_Netherlands'),\n",
       " (0.0, 'format_Other country_Japan'),\n",
       " (-0.0, 'format_Other country_Italy'),\n",
       " (-0.0, 'format_Other country_Germany'),\n",
       " (0.0, 'format_Other country_France'),\n",
       " (0.0, 'format_Other country_Europe'),\n",
       " (0.0, 'format_Other country_Canada'),\n",
       " (0.0, 'format_Other country_Belgium'),\n",
       " (-0.0, 'format_Other country_Australia'),\n",
       " (0.0, 'format_Other UK Garage'),\n",
       " (-0.0, 'format_Other Trip Hop'),\n",
       " (-0.0, 'format_Other Trance'),\n",
       " (0.0, 'format_Other Techno'),\n",
       " (-0.0, 'format_Other Tech House'),\n",
       " (0.0, 'format_Other Synth-pop'),\n",
       " (0.0, 'format_Other Stage & Screen'),\n",
       " (0.0, 'format_Other Soul'),\n",
       " (0.0, 'format_Other Rock'),\n",
       " (0.0, 'format_Other RnB/Swing'),\n",
       " (-0.0, 'format_Other Reggae'),\n",
       " (-0.0, 'format_Other Punk'),\n",
       " (-0.0, 'format_Other Psychedelic Rock'),\n",
       " (-0.0, 'format_Other Progressive Trance'),\n",
       " (0.0, 'format_Other Progressive House'),\n",
       " (-0.0, 'format_Other Pop Rock'),\n",
       " (-0.0, 'format_Other Pop'),\n",
       " (0.0, 'format_Other Other_Style'),\n",
       " (-0.0, 'format_Other Non-Music'),\n",
       " (-0.0, 'format_Other New Wave'),\n",
       " (-0.0, 'format_Other Minimal'),\n",
       " (-0.0, 'format_Other Leftfield'),\n",
       " (0.0, 'format_Other Latin'),\n",
       " (0.0, 'format_Other Jungle'),\n",
       " (-0.0, 'format_Other Jazz'),\n",
       " (0.0, 'format_Other Italodance'),\n",
       " (0.0, 'format_Other Italo-Disco'),\n",
       " (0.0, 'format_Other IDM'),\n",
       " ...]"
      ]
     },
     "execution_count": 83,
     "metadata": {},
     "output_type": "execute_result"
    }
   ],
   "source": [
    "sorted(list(zip(lasso_model.coef_, poly.get_feature_names(X8_train.columns))),reverse=True)"
   ]
  },
  {
   "cell_type": "code",
   "execution_count": 1,
   "metadata": {
    "ExecuteTime": {
     "end_time": "2019-12-19T21:48:15.627348Z",
     "start_time": "2019-12-19T21:48:15.549913Z"
    }
   },
   "outputs": [
    {
     "ename": "NameError",
     "evalue": "name 'pd' is not defined",
     "output_type": "error",
     "traceback": [
      "\u001b[0;31m---------------------------------------------------------------------------\u001b[0m",
      "\u001b[0;31mNameError\u001b[0m                                 Traceback (most recent call last)",
      "\u001b[0;32m<ipython-input-1-cffb9c89b26f>\u001b[0m in \u001b[0;36m<module>\u001b[0;34m\u001b[0m\n\u001b[0;32m----> 1\u001b[0;31m \u001b[0mpd\u001b[0m\u001b[0;34m.\u001b[0m\u001b[0mdescribe_option\u001b[0m\u001b[0;34m(\u001b[0m\u001b[0;34m)\u001b[0m\u001b[0;34m\u001b[0m\u001b[0;34m\u001b[0m\u001b[0m\n\u001b[0m",
      "\u001b[0;31mNameError\u001b[0m: name 'pd' is not defined"
     ]
    }
   ],
   "source": [
    "pd.describe_option()"
   ]
  },
  {
   "cell_type": "code",
   "execution_count": 81,
   "metadata": {
    "ExecuteTime": {
     "end_time": "2019-10-11T01:51:41.713303Z",
     "start_time": "2019-10-11T01:51:41.682571Z"
    },
    "scrolled": true
   },
   "outputs": [
    {
     "data": {
      "text/plain": [
       "0.39236867576003437"
      ]
     },
     "execution_count": 81,
     "metadata": {},
     "output_type": "execute_result"
    }
   ],
   "source": [
    "lasso_model.score(X9_test_sc,y8_test)"
   ]
  },
  {
   "cell_type": "code",
   "execution_count": 60,
   "metadata": {
    "ExecuteTime": {
     "end_time": "2019-10-11T01:40:30.569976Z",
     "start_time": "2019-10-11T00:43:56.648713Z"
    },
    "scrolled": false
   },
   "outputs": [
    {
     "name": "stderr",
     "output_type": "stream",
     "text": [
      "/home/alex/anaconda3/lib/python3.7/site-packages/sklearn/linear_model/coordinate_descent.py:471: ConvergenceWarning: Objective did not converge. You might want to increase the number of iterations. Duality gap: 198.77457580389455, tolerance: 163.6808309497272\n",
      "  tol, rng, random, positive)\n",
      "/home/alex/anaconda3/lib/python3.7/site-packages/sklearn/linear_model/coordinate_descent.py:471: ConvergenceWarning: Objective did not converge. You might want to increase the number of iterations. Duality gap: 252.66493825311773, tolerance: 163.6808309497272\n",
      "  tol, rng, random, positive)\n",
      "/home/alex/anaconda3/lib/python3.7/site-packages/sklearn/linear_model/coordinate_descent.py:471: ConvergenceWarning: Objective did not converge. You might want to increase the number of iterations. Duality gap: 232.55703401134815, tolerance: 163.6808309497272\n",
      "  tol, rng, random, positive)\n",
      "/home/alex/anaconda3/lib/python3.7/site-packages/sklearn/linear_model/coordinate_descent.py:471: ConvergenceWarning: Objective did not converge. You might want to increase the number of iterations. Duality gap: 236.95488398050657, tolerance: 163.6808309497272\n",
      "  tol, rng, random, positive)\n",
      "/home/alex/anaconda3/lib/python3.7/site-packages/sklearn/linear_model/coordinate_descent.py:471: ConvergenceWarning: Objective did not converge. You might want to increase the number of iterations. Duality gap: 229.56847871269565, tolerance: 163.6808309497272\n",
      "  tol, rng, random, positive)\n",
      "/home/alex/anaconda3/lib/python3.7/site-packages/sklearn/linear_model/coordinate_descent.py:471: ConvergenceWarning: Objective did not converge. You might want to increase the number of iterations. Duality gap: 245.47536753473105, tolerance: 163.6808309497272\n",
      "  tol, rng, random, positive)\n",
      "/home/alex/anaconda3/lib/python3.7/site-packages/sklearn/linear_model/coordinate_descent.py:471: ConvergenceWarning: Objective did not converge. You might want to increase the number of iterations. Duality gap: 265.381798446062, tolerance: 163.6808309497272\n",
      "  tol, rng, random, positive)\n",
      "/home/alex/anaconda3/lib/python3.7/site-packages/sklearn/linear_model/coordinate_descent.py:471: ConvergenceWarning: Objective did not converge. You might want to increase the number of iterations. Duality gap: 287.6843355144374, tolerance: 163.6808309497272\n",
      "  tol, rng, random, positive)\n",
      "/home/alex/anaconda3/lib/python3.7/site-packages/sklearn/linear_model/coordinate_descent.py:471: ConvergenceWarning: Objective did not converge. You might want to increase the number of iterations. Duality gap: 313.8611874875496, tolerance: 163.6808309497272\n",
      "  tol, rng, random, positive)\n",
      "/home/alex/anaconda3/lib/python3.7/site-packages/sklearn/linear_model/coordinate_descent.py:471: ConvergenceWarning: Objective did not converge. You might want to increase the number of iterations. Duality gap: 241.10394133121008, tolerance: 163.6808309497272\n",
      "  tol, rng, random, positive)\n",
      "/home/alex/anaconda3/lib/python3.7/site-packages/sklearn/linear_model/coordinate_descent.py:471: ConvergenceWarning: Objective did not converge. You might want to increase the number of iterations. Duality gap: 239.4619765089592, tolerance: 163.6808309497272\n",
      "  tol, rng, random, positive)\n",
      "/home/alex/anaconda3/lib/python3.7/site-packages/sklearn/linear_model/coordinate_descent.py:471: ConvergenceWarning: Objective did not converge. You might want to increase the number of iterations. Duality gap: 348.90748003072804, tolerance: 163.6808309497272\n",
      "  tol, rng, random, positive)\n",
      "/home/alex/anaconda3/lib/python3.7/site-packages/sklearn/linear_model/coordinate_descent.py:471: ConvergenceWarning: Objective did not converge. You might want to increase the number of iterations. Duality gap: 618.0628315215581, tolerance: 163.6808309497272\n",
      "  tol, rng, random, positive)\n",
      "/home/alex/anaconda3/lib/python3.7/site-packages/sklearn/linear_model/coordinate_descent.py:471: ConvergenceWarning: Objective did not converge. You might want to increase the number of iterations. Duality gap: 922.1540183980251, tolerance: 163.6808309497272\n",
      "  tol, rng, random, positive)\n",
      "/home/alex/anaconda3/lib/python3.7/site-packages/sklearn/linear_model/coordinate_descent.py:471: ConvergenceWarning: Objective did not converge. You might want to increase the number of iterations. Duality gap: 872.429724569316, tolerance: 163.6808309497272\n",
      "  tol, rng, random, positive)\n",
      "/home/alex/anaconda3/lib/python3.7/site-packages/sklearn/linear_model/coordinate_descent.py:471: ConvergenceWarning: Objective did not converge. You might want to increase the number of iterations. Duality gap: 414.75726306415163, tolerance: 163.6808309497272\n",
      "  tol, rng, random, positive)\n",
      "/home/alex/anaconda3/lib/python3.7/site-packages/sklearn/linear_model/coordinate_descent.py:471: ConvergenceWarning: Objective did not converge. You might want to increase the number of iterations. Duality gap: 553.1387875996297, tolerance: 163.6808309497272\n",
      "  tol, rng, random, positive)\n",
      "/home/alex/anaconda3/lib/python3.7/site-packages/sklearn/linear_model/coordinate_descent.py:471: ConvergenceWarning: Objective did not converge. You might want to increase the number of iterations. Duality gap: 660.4836536565563, tolerance: 163.6808309497272\n",
      "  tol, rng, random, positive)\n",
      "/home/alex/anaconda3/lib/python3.7/site-packages/sklearn/linear_model/coordinate_descent.py:471: ConvergenceWarning: Objective did not converge. You might want to increase the number of iterations. Duality gap: 919.6618782137521, tolerance: 163.6808309497272\n",
      "  tol, rng, random, positive)\n",
      "/home/alex/anaconda3/lib/python3.7/site-packages/sklearn/linear_model/coordinate_descent.py:471: ConvergenceWarning: Objective did not converge. You might want to increase the number of iterations. Duality gap: 1060.4493091075565, tolerance: 163.6808309497272\n",
      "  tol, rng, random, positive)\n",
      "/home/alex/anaconda3/lib/python3.7/site-packages/sklearn/linear_model/coordinate_descent.py:471: ConvergenceWarning: Objective did not converge. You might want to increase the number of iterations. Duality gap: 1221.3592323329067, tolerance: 163.6808309497272\n",
      "  tol, rng, random, positive)\n",
      "/home/alex/anaconda3/lib/python3.7/site-packages/sklearn/linear_model/coordinate_descent.py:471: ConvergenceWarning: Objective did not converge. You might want to increase the number of iterations. Duality gap: 1150.3155287763802, tolerance: 163.6808309497272\n",
      "  tol, rng, random, positive)\n",
      "/home/alex/anaconda3/lib/python3.7/site-packages/sklearn/linear_model/coordinate_descent.py:471: ConvergenceWarning: Objective did not converge. You might want to increase the number of iterations. Duality gap: 810.3687731971731, tolerance: 163.6808309497272\n",
      "  tol, rng, random, positive)\n",
      "/home/alex/anaconda3/lib/python3.7/site-packages/sklearn/linear_model/coordinate_descent.py:471: ConvergenceWarning: Objective did not converge. You might want to increase the number of iterations. Duality gap: 1308.6133434859803, tolerance: 163.6808309497272\n",
      "  tol, rng, random, positive)\n",
      "/home/alex/anaconda3/lib/python3.7/site-packages/sklearn/linear_model/coordinate_descent.py:471: ConvergenceWarning: Objective did not converge. You might want to increase the number of iterations. Duality gap: 1413.0590178673156, tolerance: 163.6808309497272\n",
      "  tol, rng, random, positive)\n",
      "/home/alex/anaconda3/lib/python3.7/site-packages/sklearn/linear_model/coordinate_descent.py:471: ConvergenceWarning: Objective did not converge. You might want to increase the number of iterations. Duality gap: 224.98859584890306, tolerance: 159.69633869731405\n",
      "  tol, rng, random, positive)\n",
      "/home/alex/anaconda3/lib/python3.7/site-packages/sklearn/linear_model/coordinate_descent.py:471: ConvergenceWarning: Objective did not converge. You might want to increase the number of iterations. Duality gap: 180.56644579034764, tolerance: 159.69633869731405\n",
      "  tol, rng, random, positive)\n",
      "/home/alex/anaconda3/lib/python3.7/site-packages/sklearn/linear_model/coordinate_descent.py:471: ConvergenceWarning: Objective did not converge. You might want to increase the number of iterations. Duality gap: 458.7963978330954, tolerance: 159.69633869731405\n",
      "  tol, rng, random, positive)\n",
      "/home/alex/anaconda3/lib/python3.7/site-packages/sklearn/linear_model/coordinate_descent.py:471: ConvergenceWarning: Objective did not converge. You might want to increase the number of iterations. Duality gap: 777.4716627432499, tolerance: 159.69633869731405\n",
      "  tol, rng, random, positive)\n"
     ]
    },
    {
     "name": "stderr",
     "output_type": "stream",
     "text": [
      "/home/alex/anaconda3/lib/python3.7/site-packages/sklearn/linear_model/coordinate_descent.py:471: ConvergenceWarning: Objective did not converge. You might want to increase the number of iterations. Duality gap: 224.50732929073274, tolerance: 159.69633869731405\n",
      "  tol, rng, random, positive)\n",
      "/home/alex/anaconda3/lib/python3.7/site-packages/sklearn/linear_model/coordinate_descent.py:471: ConvergenceWarning: Objective did not converge. You might want to increase the number of iterations. Duality gap: 311.7137056895299, tolerance: 159.69633869731405\n",
      "  tol, rng, random, positive)\n",
      "/home/alex/anaconda3/lib/python3.7/site-packages/sklearn/linear_model/coordinate_descent.py:471: ConvergenceWarning: Objective did not converge. You might want to increase the number of iterations. Duality gap: 360.2673550519394, tolerance: 159.69633869731405\n",
      "  tol, rng, random, positive)\n",
      "/home/alex/anaconda3/lib/python3.7/site-packages/sklearn/linear_model/coordinate_descent.py:471: ConvergenceWarning: Objective did not converge. You might want to increase the number of iterations. Duality gap: 447.48873783869203, tolerance: 159.69633869731405\n",
      "  tol, rng, random, positive)\n",
      "/home/alex/anaconda3/lib/python3.7/site-packages/sklearn/linear_model/coordinate_descent.py:471: ConvergenceWarning: Objective did not converge. You might want to increase the number of iterations. Duality gap: 460.9388429953251, tolerance: 159.69633869731405\n",
      "  tol, rng, random, positive)\n",
      "/home/alex/anaconda3/lib/python3.7/site-packages/sklearn/linear_model/coordinate_descent.py:471: ConvergenceWarning: Objective did not converge. You might want to increase the number of iterations. Duality gap: 375.2401425833814, tolerance: 159.69633869731405\n",
      "  tol, rng, random, positive)\n",
      "/home/alex/anaconda3/lib/python3.7/site-packages/sklearn/linear_model/coordinate_descent.py:471: ConvergenceWarning: Objective did not converge. You might want to increase the number of iterations. Duality gap: 537.2850712835789, tolerance: 159.69633869731405\n",
      "  tol, rng, random, positive)\n",
      "/home/alex/anaconda3/lib/python3.7/site-packages/sklearn/linear_model/coordinate_descent.py:471: ConvergenceWarning: Objective did not converge. You might want to increase the number of iterations. Duality gap: 437.0489113602089, tolerance: 159.69633869731405\n",
      "  tol, rng, random, positive)\n",
      "/home/alex/anaconda3/lib/python3.7/site-packages/sklearn/linear_model/coordinate_descent.py:471: ConvergenceWarning: Objective did not converge. You might want to increase the number of iterations. Duality gap: 531.0456839791732, tolerance: 159.69633869731405\n",
      "  tol, rng, random, positive)\n",
      "/home/alex/anaconda3/lib/python3.7/site-packages/sklearn/linear_model/coordinate_descent.py:471: ConvergenceWarning: Objective did not converge. You might want to increase the number of iterations. Duality gap: 772.5349714658223, tolerance: 159.69633869731405\n",
      "  tol, rng, random, positive)\n",
      "/home/alex/anaconda3/lib/python3.7/site-packages/sklearn/linear_model/coordinate_descent.py:471: ConvergenceWarning: Objective did not converge. You might want to increase the number of iterations. Duality gap: 822.0594171062694, tolerance: 159.69633869731405\n",
      "  tol, rng, random, positive)\n",
      "/home/alex/anaconda3/lib/python3.7/site-packages/sklearn/linear_model/coordinate_descent.py:471: ConvergenceWarning: Objective did not converge. You might want to increase the number of iterations. Duality gap: 187.14270195760764, tolerance: 154.95896738880975\n",
      "  tol, rng, random, positive)\n",
      "/home/alex/anaconda3/lib/python3.7/site-packages/sklearn/linear_model/coordinate_descent.py:471: ConvergenceWarning: Objective did not converge. You might want to increase the number of iterations. Duality gap: 231.6727742481744, tolerance: 154.95896738880975\n",
      "  tol, rng, random, positive)\n",
      "/home/alex/anaconda3/lib/python3.7/site-packages/sklearn/linear_model/coordinate_descent.py:471: ConvergenceWarning: Objective did not converge. You might want to increase the number of iterations. Duality gap: 280.7934264995856, tolerance: 154.95896738880975\n",
      "  tol, rng, random, positive)\n",
      "/home/alex/anaconda3/lib/python3.7/site-packages/sklearn/linear_model/coordinate_descent.py:471: ConvergenceWarning: Objective did not converge. You might want to increase the number of iterations. Duality gap: 214.76529944030335, tolerance: 154.95896738880975\n",
      "  tol, rng, random, positive)\n",
      "/home/alex/anaconda3/lib/python3.7/site-packages/sklearn/linear_model/coordinate_descent.py:471: ConvergenceWarning: Objective did not converge. You might want to increase the number of iterations. Duality gap: 262.6092626976315, tolerance: 154.95896738880975\n",
      "  tol, rng, random, positive)\n",
      "/home/alex/anaconda3/lib/python3.7/site-packages/sklearn/linear_model/coordinate_descent.py:471: ConvergenceWarning: Objective did not converge. You might want to increase the number of iterations. Duality gap: 316.0658360782545, tolerance: 154.95896738880975\n",
      "  tol, rng, random, positive)\n",
      "/home/alex/anaconda3/lib/python3.7/site-packages/sklearn/linear_model/coordinate_descent.py:471: ConvergenceWarning: Objective did not converge. You might want to increase the number of iterations. Duality gap: 369.86368292733096, tolerance: 154.95896738880975\n",
      "  tol, rng, random, positive)\n",
      "/home/alex/anaconda3/lib/python3.7/site-packages/sklearn/linear_model/coordinate_descent.py:471: ConvergenceWarning: Objective did not converge. You might want to increase the number of iterations. Duality gap: 429.31416396261193, tolerance: 154.95896738880975\n",
      "  tol, rng, random, positive)\n",
      "/home/alex/anaconda3/lib/python3.7/site-packages/sklearn/linear_model/coordinate_descent.py:471: ConvergenceWarning: Objective did not converge. You might want to increase the number of iterations. Duality gap: 495.5461402632063, tolerance: 154.95896738880975\n",
      "  tol, rng, random, positive)\n",
      "/home/alex/anaconda3/lib/python3.7/site-packages/sklearn/linear_model/coordinate_descent.py:471: ConvergenceWarning: Objective did not converge. You might want to increase the number of iterations. Duality gap: 565.4452495910227, tolerance: 154.95896738880975\n",
      "  tol, rng, random, positive)\n",
      "/home/alex/anaconda3/lib/python3.7/site-packages/sklearn/linear_model/coordinate_descent.py:471: ConvergenceWarning: Objective did not converge. You might want to increase the number of iterations. Duality gap: 753.0643229736015, tolerance: 154.95896738880975\n",
      "  tol, rng, random, positive)\n",
      "/home/alex/anaconda3/lib/python3.7/site-packages/sklearn/linear_model/coordinate_descent.py:471: ConvergenceWarning: Objective did not converge. You might want to increase the number of iterations. Duality gap: 865.181594643509, tolerance: 154.95896738880975\n",
      "  tol, rng, random, positive)\n",
      "/home/alex/anaconda3/lib/python3.7/site-packages/sklearn/linear_model/coordinate_descent.py:471: ConvergenceWarning: Objective did not converge. You might want to increase the number of iterations. Duality gap: 908.0435887771891, tolerance: 154.95896738880975\n",
      "  tol, rng, random, positive)\n",
      "/home/alex/anaconda3/lib/python3.7/site-packages/sklearn/linear_model/coordinate_descent.py:471: ConvergenceWarning: Objective did not converge. You might want to increase the number of iterations. Duality gap: 1059.277775484079, tolerance: 154.95896738880975\n",
      "  tol, rng, random, positive)\n",
      "/home/alex/anaconda3/lib/python3.7/site-packages/sklearn/linear_model/coordinate_descent.py:471: ConvergenceWarning: Objective did not converge. You might want to increase the number of iterations. Duality gap: 1333.231873168028, tolerance: 154.95896738880975\n",
      "  tol, rng, random, positive)\n",
      "/home/alex/anaconda3/lib/python3.7/site-packages/sklearn/linear_model/coordinate_descent.py:471: ConvergenceWarning: Objective did not converge. You might want to increase the number of iterations. Duality gap: 1336.2114664604305, tolerance: 154.95896738880975\n",
      "  tol, rng, random, positive)\n",
      "/home/alex/anaconda3/lib/python3.7/site-packages/sklearn/linear_model/coordinate_descent.py:471: ConvergenceWarning: Objective did not converge. You might want to increase the number of iterations. Duality gap: 2061.1752214583103, tolerance: 154.95896738880975\n",
      "  tol, rng, random, positive)\n",
      "/home/alex/anaconda3/lib/python3.7/site-packages/sklearn/linear_model/coordinate_descent.py:471: ConvergenceWarning: Objective did not converge. You might want to increase the number of iterations. Duality gap: 2325.2404584279284, tolerance: 154.95896738880975\n",
      "  tol, rng, random, positive)\n"
     ]
    },
    {
     "name": "stderr",
     "output_type": "stream",
     "text": [
      "/home/alex/anaconda3/lib/python3.7/site-packages/sklearn/linear_model/coordinate_descent.py:471: ConvergenceWarning: Objective did not converge. You might want to increase the number of iterations. Duality gap: 2506.463300007861, tolerance: 154.95896738880975\n",
      "  tol, rng, random, positive)\n",
      "/home/alex/anaconda3/lib/python3.7/site-packages/sklearn/linear_model/coordinate_descent.py:471: ConvergenceWarning: Objective did not converge. You might want to increase the number of iterations. Duality gap: 2562.240710768616, tolerance: 154.95896738880975\n",
      "  tol, rng, random, positive)\n",
      "/home/alex/anaconda3/lib/python3.7/site-packages/sklearn/linear_model/coordinate_descent.py:471: ConvergenceWarning: Objective did not converge. You might want to increase the number of iterations. Duality gap: 2903.8950260413694, tolerance: 154.95896738880975\n",
      "  tol, rng, random, positive)\n",
      "/home/alex/anaconda3/lib/python3.7/site-packages/sklearn/linear_model/coordinate_descent.py:471: ConvergenceWarning: Objective did not converge. You might want to increase the number of iterations. Duality gap: 205.12821724527748, tolerance: 162.6502271030423\n",
      "  tol, rng, random, positive)\n",
      "/home/alex/anaconda3/lib/python3.7/site-packages/sklearn/linear_model/coordinate_descent.py:471: ConvergenceWarning: Objective did not converge. You might want to increase the number of iterations. Duality gap: 170.79103524063248, tolerance: 162.6502271030423\n",
      "  tol, rng, random, positive)\n",
      "/home/alex/anaconda3/lib/python3.7/site-packages/sklearn/linear_model/coordinate_descent.py:471: ConvergenceWarning: Objective did not converge. You might want to increase the number of iterations. Duality gap: 183.18347560736584, tolerance: 162.6502271030423\n",
      "  tol, rng, random, positive)\n",
      "/home/alex/anaconda3/lib/python3.7/site-packages/sklearn/linear_model/coordinate_descent.py:471: ConvergenceWarning: Objective did not converge. You might want to increase the number of iterations. Duality gap: 195.33323271921836, tolerance: 162.6502271030423\n",
      "  tol, rng, random, positive)\n",
      "/home/alex/anaconda3/lib/python3.7/site-packages/sklearn/linear_model/coordinate_descent.py:471: ConvergenceWarning: Objective did not converge. You might want to increase the number of iterations. Duality gap: 198.6105173280812, tolerance: 162.6502271030423\n",
      "  tol, rng, random, positive)\n",
      "/home/alex/anaconda3/lib/python3.7/site-packages/sklearn/linear_model/coordinate_descent.py:471: ConvergenceWarning: Objective did not converge. You might want to increase the number of iterations. Duality gap: 201.02960466837976, tolerance: 162.6502271030423\n",
      "  tol, rng, random, positive)\n",
      "/home/alex/anaconda3/lib/python3.7/site-packages/sklearn/linear_model/coordinate_descent.py:471: ConvergenceWarning: Objective did not converge. You might want to increase the number of iterations. Duality gap: 342.899442945607, tolerance: 162.6502271030423\n",
      "  tol, rng, random, positive)\n",
      "/home/alex/anaconda3/lib/python3.7/site-packages/sklearn/linear_model/coordinate_descent.py:471: ConvergenceWarning: Objective did not converge. You might want to increase the number of iterations. Duality gap: 200.55839383561397, tolerance: 162.6502271030423\n",
      "  tol, rng, random, positive)\n",
      "/home/alex/anaconda3/lib/python3.7/site-packages/sklearn/linear_model/coordinate_descent.py:471: ConvergenceWarning: Objective did not converge. You might want to increase the number of iterations. Duality gap: 277.63941428321414, tolerance: 162.6502271030423\n",
      "  tol, rng, random, positive)\n",
      "/home/alex/anaconda3/lib/python3.7/site-packages/sklearn/linear_model/coordinate_descent.py:471: ConvergenceWarning: Objective did not converge. You might want to increase the number of iterations. Duality gap: 526.6640336412238, tolerance: 162.6502271030423\n",
      "  tol, rng, random, positive)\n",
      "/home/alex/anaconda3/lib/python3.7/site-packages/sklearn/linear_model/coordinate_descent.py:471: ConvergenceWarning: Objective did not converge. You might want to increase the number of iterations. Duality gap: 794.905594421376, tolerance: 162.6502271030423\n",
      "  tol, rng, random, positive)\n",
      "/home/alex/anaconda3/lib/python3.7/site-packages/sklearn/linear_model/coordinate_descent.py:471: ConvergenceWarning: Objective did not converge. You might want to increase the number of iterations. Duality gap: 1004.2014377916348, tolerance: 162.6502271030423\n",
      "  tol, rng, random, positive)\n",
      "/home/alex/anaconda3/lib/python3.7/site-packages/sklearn/linear_model/coordinate_descent.py:471: ConvergenceWarning: Objective did not converge. You might want to increase the number of iterations. Duality gap: 1178.1580613547703, tolerance: 162.6502271030423\n",
      "  tol, rng, random, positive)\n",
      "/home/alex/anaconda3/lib/python3.7/site-packages/sklearn/linear_model/coordinate_descent.py:471: ConvergenceWarning: Objective did not converge. You might want to increase the number of iterations. Duality gap: 1383.7326338676503, tolerance: 162.6502271030423\n",
      "  tol, rng, random, positive)\n",
      "/home/alex/anaconda3/lib/python3.7/site-packages/sklearn/linear_model/coordinate_descent.py:471: ConvergenceWarning: Objective did not converge. You might want to increase the number of iterations. Duality gap: 1578.9616700836923, tolerance: 162.6502271030423\n",
      "  tol, rng, random, positive)\n",
      "/home/alex/anaconda3/lib/python3.7/site-packages/sklearn/linear_model/coordinate_descent.py:471: ConvergenceWarning: Objective did not converge. You might want to increase the number of iterations. Duality gap: 1824.7418790672673, tolerance: 162.6502271030423\n",
      "  tol, rng, random, positive)\n",
      "/home/alex/anaconda3/lib/python3.7/site-packages/sklearn/linear_model/coordinate_descent.py:471: ConvergenceWarning: Objective did not converge. You might want to increase the number of iterations. Duality gap: 608.8219569353387, tolerance: 162.6502271030423\n",
      "  tol, rng, random, positive)\n",
      "/home/alex/anaconda3/lib/python3.7/site-packages/sklearn/linear_model/coordinate_descent.py:471: ConvergenceWarning: Objective did not converge. You might want to increase the number of iterations. Duality gap: 218.31145642959746, tolerance: 156.1288639707728\n",
      "  tol, rng, random, positive)\n",
      "/home/alex/anaconda3/lib/python3.7/site-packages/sklearn/linear_model/coordinate_descent.py:471: ConvergenceWarning: Objective did not converge. You might want to increase the number of iterations. Duality gap: 259.3055282806745, tolerance: 156.1288639707728\n",
      "  tol, rng, random, positive)\n",
      "/home/alex/anaconda3/lib/python3.7/site-packages/sklearn/linear_model/coordinate_descent.py:471: ConvergenceWarning: Objective did not converge. You might want to increase the number of iterations. Duality gap: 183.33627328189323, tolerance: 156.1288639707728\n",
      "  tol, rng, random, positive)\n",
      "/home/alex/anaconda3/lib/python3.7/site-packages/sklearn/linear_model/coordinate_descent.py:471: ConvergenceWarning: Objective did not converge. You might want to increase the number of iterations. Duality gap: 515.9591172662331, tolerance: 156.1288639707728\n",
      "  tol, rng, random, positive)\n",
      "/home/alex/anaconda3/lib/python3.7/site-packages/sklearn/linear_model/coordinate_descent.py:471: ConvergenceWarning: Objective did not converge. You might want to increase the number of iterations. Duality gap: 943.6014829573687, tolerance: 156.1288639707728\n",
      "  tol, rng, random, positive)\n",
      "/home/alex/anaconda3/lib/python3.7/site-packages/sklearn/linear_model/coordinate_descent.py:471: ConvergenceWarning: Objective did not converge. You might want to increase the number of iterations. Duality gap: 1036.7931063016877, tolerance: 156.1288639707728\n",
      "  tol, rng, random, positive)\n",
      "/home/alex/anaconda3/lib/python3.7/site-packages/sklearn/linear_model/coordinate_descent.py:471: ConvergenceWarning: Objective did not converge. You might want to increase the number of iterations. Duality gap: 1414.4841563127702, tolerance: 156.1288639707728\n",
      "  tol, rng, random, positive)\n",
      "/home/alex/anaconda3/lib/python3.7/site-packages/sklearn/linear_model/coordinate_descent.py:471: ConvergenceWarning: Objective did not converge. You might want to increase the number of iterations. Duality gap: 1419.8777063845191, tolerance: 156.1288639707728\n",
      "  tol, rng, random, positive)\n",
      "/home/alex/anaconda3/lib/python3.7/site-packages/sklearn/linear_model/coordinate_descent.py:471: ConvergenceWarning: Objective did not converge. You might want to increase the number of iterations. Duality gap: 1584.352431224077, tolerance: 156.1288639707728\n",
      "  tol, rng, random, positive)\n"
     ]
    },
    {
     "name": "stderr",
     "output_type": "stream",
     "text": [
      "/home/alex/anaconda3/lib/python3.7/site-packages/sklearn/linear_model/coordinate_descent.py:471: ConvergenceWarning: Objective did not converge. You might want to increase the number of iterations. Duality gap: 2699.5486753457226, tolerance: 156.1288639707728\n",
      "  tol, rng, random, positive)\n",
      "/home/alex/anaconda3/lib/python3.7/site-packages/sklearn/linear_model/coordinate_descent.py:471: ConvergenceWarning: Objective did not converge. You might want to increase the number of iterations. Duality gap: 2617.951994903153, tolerance: 156.1288639707728\n",
      "  tol, rng, random, positive)\n",
      "/home/alex/anaconda3/lib/python3.7/site-packages/sklearn/linear_model/coordinate_descent.py:471: ConvergenceWarning: Objective did not converge. You might want to increase the number of iterations. Duality gap: 2258.7547379374155, tolerance: 156.1288639707728\n",
      "  tol, rng, random, positive)\n",
      "/home/alex/anaconda3/lib/python3.7/site-packages/sklearn/linear_model/coordinate_descent.py:471: ConvergenceWarning: Objective did not converge. You might want to increase the number of iterations. Duality gap: 2068.4901403808035, tolerance: 156.1288639707728\n",
      "  tol, rng, random, positive)\n",
      "/home/alex/anaconda3/lib/python3.7/site-packages/sklearn/linear_model/coordinate_descent.py:471: ConvergenceWarning: Objective did not converge. You might want to increase the number of iterations. Duality gap: 164.9331049314933, tolerance: 159.91730193054792\n",
      "  tol, rng, random, positive)\n",
      "/home/alex/anaconda3/lib/python3.7/site-packages/sklearn/linear_model/coordinate_descent.py:471: ConvergenceWarning: Objective did not converge. You might want to increase the number of iterations. Duality gap: 173.08423386176582, tolerance: 159.91730193054792\n",
      "  tol, rng, random, positive)\n",
      "/home/alex/anaconda3/lib/python3.7/site-packages/sklearn/linear_model/coordinate_descent.py:471: ConvergenceWarning: Objective did not converge. You might want to increase the number of iterations. Duality gap: 162.59744992654305, tolerance: 159.91730193054792\n",
      "  tol, rng, random, positive)\n",
      "/home/alex/anaconda3/lib/python3.7/site-packages/sklearn/linear_model/coordinate_descent.py:471: ConvergenceWarning: Objective did not converge. You might want to increase the number of iterations. Duality gap: 164.58789534692187, tolerance: 159.91730193054792\n",
      "  tol, rng, random, positive)\n",
      "/home/alex/anaconda3/lib/python3.7/site-packages/sklearn/linear_model/coordinate_descent.py:471: ConvergenceWarning: Objective did not converge. You might want to increase the number of iterations. Duality gap: 172.1579096778878, tolerance: 159.91730193054792\n",
      "  tol, rng, random, positive)\n",
      "/home/alex/anaconda3/lib/python3.7/site-packages/sklearn/linear_model/coordinate_descent.py:471: ConvergenceWarning: Objective did not converge. You might want to increase the number of iterations. Duality gap: 186.9666069400264, tolerance: 159.91730193054792\n",
      "  tol, rng, random, positive)\n",
      "/home/alex/anaconda3/lib/python3.7/site-packages/sklearn/linear_model/coordinate_descent.py:471: ConvergenceWarning: Objective did not converge. You might want to increase the number of iterations. Duality gap: 199.29258535878034, tolerance: 159.91730193054792\n",
      "  tol, rng, random, positive)\n",
      "/home/alex/anaconda3/lib/python3.7/site-packages/sklearn/linear_model/coordinate_descent.py:471: ConvergenceWarning: Objective did not converge. You might want to increase the number of iterations. Duality gap: 214.78734536201227, tolerance: 159.91730193054792\n",
      "  tol, rng, random, positive)\n",
      "/home/alex/anaconda3/lib/python3.7/site-packages/sklearn/linear_model/coordinate_descent.py:471: ConvergenceWarning: Objective did not converge. You might want to increase the number of iterations. Duality gap: 226.37917412852403, tolerance: 159.91730193054792\n",
      "  tol, rng, random, positive)\n",
      "/home/alex/anaconda3/lib/python3.7/site-packages/sklearn/linear_model/coordinate_descent.py:471: ConvergenceWarning: Objective did not converge. You might want to increase the number of iterations. Duality gap: 237.62984107562806, tolerance: 159.91730193054792\n",
      "  tol, rng, random, positive)\n",
      "/home/alex/anaconda3/lib/python3.7/site-packages/sklearn/linear_model/coordinate_descent.py:471: ConvergenceWarning: Objective did not converge. You might want to increase the number of iterations. Duality gap: 335.24881192162866, tolerance: 159.91730193054792\n",
      "  tol, rng, random, positive)\n",
      "/home/alex/anaconda3/lib/python3.7/site-packages/sklearn/linear_model/coordinate_descent.py:471: ConvergenceWarning: Objective did not converge. You might want to increase the number of iterations. Duality gap: 244.65752364287619, tolerance: 159.91730193054792\n",
      "  tol, rng, random, positive)\n",
      "/home/alex/anaconda3/lib/python3.7/site-packages/sklearn/linear_model/coordinate_descent.py:471: ConvergenceWarning: Objective did not converge. You might want to increase the number of iterations. Duality gap: 268.19798134162556, tolerance: 159.91730193054792\n",
      "  tol, rng, random, positive)\n",
      "/home/alex/anaconda3/lib/python3.7/site-packages/sklearn/linear_model/coordinate_descent.py:471: ConvergenceWarning: Objective did not converge. You might want to increase the number of iterations. Duality gap: 293.84521398635115, tolerance: 159.91730193054792\n",
      "  tol, rng, random, positive)\n",
      "/home/alex/anaconda3/lib/python3.7/site-packages/sklearn/linear_model/coordinate_descent.py:471: ConvergenceWarning: Objective did not converge. You might want to increase the number of iterations. Duality gap: 309.41817790898494, tolerance: 159.91730193054792\n",
      "  tol, rng, random, positive)\n",
      "/home/alex/anaconda3/lib/python3.7/site-packages/sklearn/linear_model/coordinate_descent.py:471: ConvergenceWarning: Objective did not converge. You might want to increase the number of iterations. Duality gap: 265.9541429585661, tolerance: 159.91730193054792\n",
      "  tol, rng, random, positive)\n",
      "/home/alex/anaconda3/lib/python3.7/site-packages/sklearn/linear_model/coordinate_descent.py:471: ConvergenceWarning: Objective did not converge. You might want to increase the number of iterations. Duality gap: 352.79652924940456, tolerance: 159.91730193054792\n",
      "  tol, rng, random, positive)\n",
      "/home/alex/anaconda3/lib/python3.7/site-packages/sklearn/linear_model/coordinate_descent.py:471: ConvergenceWarning: Objective did not converge. You might want to increase the number of iterations. Duality gap: 302.77171732560964, tolerance: 159.91730193054792\n",
      "  tol, rng, random, positive)\n",
      "/home/alex/anaconda3/lib/python3.7/site-packages/sklearn/linear_model/coordinate_descent.py:471: ConvergenceWarning: Objective did not converge. You might want to increase the number of iterations. Duality gap: 306.5096990755992, tolerance: 159.91730193054792\n",
      "  tol, rng, random, positive)\n",
      "/home/alex/anaconda3/lib/python3.7/site-packages/sklearn/linear_model/coordinate_descent.py:471: ConvergenceWarning: Objective did not converge. You might want to increase the number of iterations. Duality gap: 210.48529286542907, tolerance: 159.91730193054792\n",
      "  tol, rng, random, positive)\n",
      "/home/alex/anaconda3/lib/python3.7/site-packages/sklearn/linear_model/coordinate_descent.py:471: ConvergenceWarning: Objective did not converge. You might want to increase the number of iterations. Duality gap: 329.6010905278381, tolerance: 159.91730193054792\n",
      "  tol, rng, random, positive)\n",
      "/home/alex/anaconda3/lib/python3.7/site-packages/sklearn/linear_model/coordinate_descent.py:471: ConvergenceWarning: Objective did not converge. You might want to increase the number of iterations. Duality gap: 329.3829164793715, tolerance: 159.91730193054792\n",
      "  tol, rng, random, positive)\n",
      "/home/alex/anaconda3/lib/python3.7/site-packages/sklearn/linear_model/coordinate_descent.py:471: ConvergenceWarning: Objective did not converge. You might want to increase the number of iterations. Duality gap: 277.9343708498636, tolerance: 159.91730193054792\n",
      "  tol, rng, random, positive)\n",
      "/home/alex/anaconda3/lib/python3.7/site-packages/sklearn/linear_model/coordinate_descent.py:471: ConvergenceWarning: Objective did not converge. You might want to increase the number of iterations. Duality gap: 492.710202191025, tolerance: 159.91730193054792\n",
      "  tol, rng, random, positive)\n",
      "/home/alex/anaconda3/lib/python3.7/site-packages/sklearn/linear_model/coordinate_descent.py:471: ConvergenceWarning: Objective did not converge. You might want to increase the number of iterations. Duality gap: 595.5810388929676, tolerance: 159.91730193054792\n",
      "  tol, rng, random, positive)\n"
     ]
    },
    {
     "name": "stderr",
     "output_type": "stream",
     "text": [
      "/home/alex/anaconda3/lib/python3.7/site-packages/sklearn/linear_model/coordinate_descent.py:471: ConvergenceWarning: Objective did not converge. You might want to increase the number of iterations. Duality gap: 578.3661859985441, tolerance: 159.91730193054792\n",
      "  tol, rng, random, positive)\n",
      "/home/alex/anaconda3/lib/python3.7/site-packages/sklearn/linear_model/coordinate_descent.py:471: ConvergenceWarning: Objective did not converge. You might want to increase the number of iterations. Duality gap: 668.2278166839387, tolerance: 159.91730193054792\n",
      "  tol, rng, random, positive)\n",
      "/home/alex/anaconda3/lib/python3.7/site-packages/sklearn/linear_model/coordinate_descent.py:471: ConvergenceWarning: Objective did not converge. You might want to increase the number of iterations. Duality gap: 809.6571272362489, tolerance: 159.91730193054792\n",
      "  tol, rng, random, positive)\n",
      "/home/alex/anaconda3/lib/python3.7/site-packages/sklearn/linear_model/coordinate_descent.py:471: ConvergenceWarning: Objective did not converge. You might want to increase the number of iterations. Duality gap: 2123.145096683118, tolerance: 159.91730193054792\n",
      "  tol, rng, random, positive)\n",
      "/home/alex/anaconda3/lib/python3.7/site-packages/sklearn/linear_model/coordinate_descent.py:471: ConvergenceWarning: Objective did not converge. You might want to increase the number of iterations. Duality gap: 2152.290521308896, tolerance: 159.91730193054792\n",
      "  tol, rng, random, positive)\n",
      "/home/alex/anaconda3/lib/python3.7/site-packages/sklearn/linear_model/coordinate_descent.py:471: ConvergenceWarning: Objective did not converge. You might want to increase the number of iterations. Duality gap: 163.6606638020603, tolerance: 156.49974335142574\n",
      "  tol, rng, random, positive)\n",
      "/home/alex/anaconda3/lib/python3.7/site-packages/sklearn/linear_model/coordinate_descent.py:471: ConvergenceWarning: Objective did not converge. You might want to increase the number of iterations. Duality gap: 208.2954047723906, tolerance: 156.49974335142574\n",
      "  tol, rng, random, positive)\n",
      "/home/alex/anaconda3/lib/python3.7/site-packages/sklearn/linear_model/coordinate_descent.py:471: ConvergenceWarning: Objective did not converge. You might want to increase the number of iterations. Duality gap: 178.25043698062655, tolerance: 156.49974335142574\n",
      "  tol, rng, random, positive)\n",
      "/home/alex/anaconda3/lib/python3.7/site-packages/sklearn/linear_model/coordinate_descent.py:471: ConvergenceWarning: Objective did not converge. You might want to increase the number of iterations. Duality gap: 249.7095251348801, tolerance: 156.49974335142574\n",
      "  tol, rng, random, positive)\n",
      "/home/alex/anaconda3/lib/python3.7/site-packages/sklearn/linear_model/coordinate_descent.py:471: ConvergenceWarning: Objective did not converge. You might want to increase the number of iterations. Duality gap: 430.7732790787122, tolerance: 156.49974335142574\n",
      "  tol, rng, random, positive)\n",
      "/home/alex/anaconda3/lib/python3.7/site-packages/sklearn/linear_model/coordinate_descent.py:471: ConvergenceWarning: Objective did not converge. You might want to increase the number of iterations. Duality gap: 253.5894079277641, tolerance: 156.49974335142574\n",
      "  tol, rng, random, positive)\n",
      "/home/alex/anaconda3/lib/python3.7/site-packages/sklearn/linear_model/coordinate_descent.py:471: ConvergenceWarning: Objective did not converge. You might want to increase the number of iterations. Duality gap: 188.6297506337287, tolerance: 156.49974335142574\n",
      "  tol, rng, random, positive)\n",
      "/home/alex/anaconda3/lib/python3.7/site-packages/sklearn/linear_model/coordinate_descent.py:471: ConvergenceWarning: Objective did not converge. You might want to increase the number of iterations. Duality gap: 204.20900643192, tolerance: 156.49974335142574\n",
      "  tol, rng, random, positive)\n",
      "/home/alex/anaconda3/lib/python3.7/site-packages/sklearn/linear_model/coordinate_descent.py:471: ConvergenceWarning: Objective did not converge. You might want to increase the number of iterations. Duality gap: 238.47814570076298, tolerance: 156.49974335142574\n",
      "  tol, rng, random, positive)\n",
      "/home/alex/anaconda3/lib/python3.7/site-packages/sklearn/linear_model/coordinate_descent.py:471: ConvergenceWarning: Objective did not converge. You might want to increase the number of iterations. Duality gap: 324.8959765135078, tolerance: 156.49974335142574\n",
      "  tol, rng, random, positive)\n",
      "/home/alex/anaconda3/lib/python3.7/site-packages/sklearn/linear_model/coordinate_descent.py:471: ConvergenceWarning: Objective did not converge. You might want to increase the number of iterations. Duality gap: 344.1349165572319, tolerance: 156.49974335142574\n",
      "  tol, rng, random, positive)\n",
      "/home/alex/anaconda3/lib/python3.7/site-packages/sklearn/linear_model/coordinate_descent.py:471: ConvergenceWarning: Objective did not converge. You might want to increase the number of iterations. Duality gap: 400.6923535046517, tolerance: 156.49974335142574\n",
      "  tol, rng, random, positive)\n",
      "/home/alex/anaconda3/lib/python3.7/site-packages/sklearn/linear_model/coordinate_descent.py:471: ConvergenceWarning: Objective did not converge. You might want to increase the number of iterations. Duality gap: 596.1714085590793, tolerance: 156.49974335142574\n",
      "  tol, rng, random, positive)\n",
      "/home/alex/anaconda3/lib/python3.7/site-packages/sklearn/linear_model/coordinate_descent.py:471: ConvergenceWarning: Objective did not converge. You might want to increase the number of iterations. Duality gap: 572.8511651501758, tolerance: 156.49974335142574\n",
      "  tol, rng, random, positive)\n",
      "/home/alex/anaconda3/lib/python3.7/site-packages/sklearn/linear_model/coordinate_descent.py:471: ConvergenceWarning: Objective did not converge. You might want to increase the number of iterations. Duality gap: 640.5204020600067, tolerance: 156.49974335142574\n",
      "  tol, rng, random, positive)\n",
      "/home/alex/anaconda3/lib/python3.7/site-packages/sklearn/linear_model/coordinate_descent.py:471: ConvergenceWarning: Objective did not converge. You might want to increase the number of iterations. Duality gap: 654.7692877675872, tolerance: 156.49974335142574\n",
      "  tol, rng, random, positive)\n",
      "/home/alex/anaconda3/lib/python3.7/site-packages/sklearn/linear_model/coordinate_descent.py:471: ConvergenceWarning: Objective did not converge. You might want to increase the number of iterations. Duality gap: 654.4392152599758, tolerance: 156.49974335142574\n",
      "  tol, rng, random, positive)\n",
      "/home/alex/anaconda3/lib/python3.7/site-packages/sklearn/linear_model/coordinate_descent.py:471: ConvergenceWarning: Objective did not converge. You might want to increase the number of iterations. Duality gap: 687.965012682951, tolerance: 156.49974335142574\n",
      "  tol, rng, random, positive)\n",
      "/home/alex/anaconda3/lib/python3.7/site-packages/sklearn/linear_model/coordinate_descent.py:471: ConvergenceWarning: Objective did not converge. You might want to increase the number of iterations. Duality gap: 351.15576868574135, tolerance: 147.97222766417346\n",
      "  tol, rng, random, positive)\n",
      "/home/alex/anaconda3/lib/python3.7/site-packages/sklearn/linear_model/coordinate_descent.py:471: ConvergenceWarning: Objective did not converge. You might want to increase the number of iterations. Duality gap: 609.6922956804046, tolerance: 147.97222766417346\n",
      "  tol, rng, random, positive)\n",
      "/home/alex/anaconda3/lib/python3.7/site-packages/sklearn/linear_model/coordinate_descent.py:471: ConvergenceWarning: Objective did not converge. You might want to increase the number of iterations. Duality gap: 833.1078824688448, tolerance: 147.97222766417346\n",
      "  tol, rng, random, positive)\n",
      "/home/alex/anaconda3/lib/python3.7/site-packages/sklearn/linear_model/coordinate_descent.py:471: ConvergenceWarning: Objective did not converge. You might want to increase the number of iterations. Duality gap: 1039.3863277160563, tolerance: 147.97222766417346\n",
      "  tol, rng, random, positive)\n",
      "/home/alex/anaconda3/lib/python3.7/site-packages/sklearn/linear_model/coordinate_descent.py:471: ConvergenceWarning: Objective did not converge. You might want to increase the number of iterations. Duality gap: 176.20403294172138, tolerance: 147.97222766417346\n",
      "  tol, rng, random, positive)\n",
      "/home/alex/anaconda3/lib/python3.7/site-packages/sklearn/linear_model/coordinate_descent.py:471: ConvergenceWarning: Objective did not converge. You might want to increase the number of iterations. Duality gap: 411.71650065260474, tolerance: 147.97222766417346\n",
      "  tol, rng, random, positive)\n"
     ]
    },
    {
     "name": "stderr",
     "output_type": "stream",
     "text": [
      "/home/alex/anaconda3/lib/python3.7/site-packages/sklearn/linear_model/coordinate_descent.py:471: ConvergenceWarning: Objective did not converge. You might want to increase the number of iterations. Duality gap: 579.2751396039966, tolerance: 147.97222766417346\n",
      "  tol, rng, random, positive)\n",
      "/home/alex/anaconda3/lib/python3.7/site-packages/sklearn/linear_model/coordinate_descent.py:471: ConvergenceWarning: Objective did not converge. You might want to increase the number of iterations. Duality gap: 368.8469459376065, tolerance: 147.97222766417346\n",
      "  tol, rng, random, positive)\n",
      "/home/alex/anaconda3/lib/python3.7/site-packages/sklearn/linear_model/coordinate_descent.py:471: ConvergenceWarning: Objective did not converge. You might want to increase the number of iterations. Duality gap: 653.5011962278513, tolerance: 147.97222766417346\n",
      "  tol, rng, random, positive)\n",
      "/home/alex/anaconda3/lib/python3.7/site-packages/sklearn/linear_model/coordinate_descent.py:471: ConvergenceWarning: Objective did not converge. You might want to increase the number of iterations. Duality gap: 1658.8226380622946, tolerance: 147.97222766417346\n",
      "  tol, rng, random, positive)\n",
      "/home/alex/anaconda3/lib/python3.7/site-packages/sklearn/linear_model/coordinate_descent.py:471: ConvergenceWarning: Objective did not converge. You might want to increase the number of iterations. Duality gap: 1728.7240227364236, tolerance: 147.97222766417346\n",
      "  tol, rng, random, positive)\n",
      "/home/alex/anaconda3/lib/python3.7/site-packages/sklearn/linear_model/coordinate_descent.py:471: ConvergenceWarning: Objective did not converge. You might want to increase the number of iterations. Duality gap: 244.46189375407994, tolerance: 155.69238593448887\n",
      "  tol, rng, random, positive)\n",
      "/home/alex/anaconda3/lib/python3.7/site-packages/sklearn/linear_model/coordinate_descent.py:471: ConvergenceWarning: Objective did not converge. You might want to increase the number of iterations. Duality gap: 249.58784531679703, tolerance: 155.69238593448887\n",
      "  tol, rng, random, positive)\n",
      "/home/alex/anaconda3/lib/python3.7/site-packages/sklearn/linear_model/coordinate_descent.py:471: ConvergenceWarning: Objective did not converge. You might want to increase the number of iterations. Duality gap: 607.268471138319, tolerance: 155.69238593448887\n",
      "  tol, rng, random, positive)\n",
      "/home/alex/anaconda3/lib/python3.7/site-packages/sklearn/linear_model/coordinate_descent.py:471: ConvergenceWarning: Objective did not converge. You might want to increase the number of iterations. Duality gap: 304.1583573243115, tolerance: 155.69238593448887\n",
      "  tol, rng, random, positive)\n",
      "/home/alex/anaconda3/lib/python3.7/site-packages/sklearn/linear_model/coordinate_descent.py:471: ConvergenceWarning: Objective did not converge. You might want to increase the number of iterations. Duality gap: 695.9031021260307, tolerance: 155.69238593448887\n",
      "  tol, rng, random, positive)\n",
      "/home/alex/anaconda3/lib/python3.7/site-packages/sklearn/linear_model/coordinate_descent.py:471: ConvergenceWarning: Objective did not converge. You might want to increase the number of iterations. Duality gap: 2213.8591466561193, tolerance: 155.69238593448887\n",
      "  tol, rng, random, positive)\n",
      "/home/alex/anaconda3/lib/python3.7/site-packages/sklearn/linear_model/coordinate_descent.py:471: ConvergenceWarning: Objective did not converge. You might want to increase the number of iterations. Duality gap: 1080.9842082665418, tolerance: 155.69238593448887\n",
      "  tol, rng, random, positive)\n",
      "/home/alex/anaconda3/lib/python3.7/site-packages/sklearn/linear_model/coordinate_descent.py:471: ConvergenceWarning: Objective did not converge. You might want to increase the number of iterations. Duality gap: 201.94847324024886, tolerance: 149.16424741924004\n",
      "  tol, rng, random, positive)\n",
      "/home/alex/anaconda3/lib/python3.7/site-packages/sklearn/linear_model/coordinate_descent.py:471: ConvergenceWarning: Objective did not converge. You might want to increase the number of iterations. Duality gap: 152.2220699469908, tolerance: 149.16424741924004\n",
      "  tol, rng, random, positive)\n",
      "/home/alex/anaconda3/lib/python3.7/site-packages/sklearn/linear_model/coordinate_descent.py:471: ConvergenceWarning: Objective did not converge. You might want to increase the number of iterations. Duality gap: 156.18811566883232, tolerance: 149.16424741924004\n",
      "  tol, rng, random, positive)\n",
      "/home/alex/anaconda3/lib/python3.7/site-packages/sklearn/linear_model/coordinate_descent.py:471: ConvergenceWarning: Objective did not converge. You might want to increase the number of iterations. Duality gap: 170.65938386629568, tolerance: 149.16424741924004\n",
      "  tol, rng, random, positive)\n",
      "/home/alex/anaconda3/lib/python3.7/site-packages/sklearn/linear_model/coordinate_descent.py:471: ConvergenceWarning: Objective did not converge. You might want to increase the number of iterations. Duality gap: 269.2907435283996, tolerance: 149.16424741924004\n",
      "  tol, rng, random, positive)\n",
      "/home/alex/anaconda3/lib/python3.7/site-packages/sklearn/linear_model/coordinate_descent.py:471: ConvergenceWarning: Objective did not converge. You might want to increase the number of iterations. Duality gap: 349.0270000428427, tolerance: 149.16424741924004\n",
      "  tol, rng, random, positive)\n",
      "/home/alex/anaconda3/lib/python3.7/site-packages/sklearn/linear_model/coordinate_descent.py:471: ConvergenceWarning: Objective did not converge. You might want to increase the number of iterations. Duality gap: 182.26502913737204, tolerance: 149.16424741924004\n",
      "  tol, rng, random, positive)\n",
      "/home/alex/anaconda3/lib/python3.7/site-packages/sklearn/linear_model/coordinate_descent.py:471: ConvergenceWarning: Objective did not converge. You might want to increase the number of iterations. Duality gap: 300.55215883092023, tolerance: 149.16424741924004\n",
      "  tol, rng, random, positive)\n",
      "/home/alex/anaconda3/lib/python3.7/site-packages/sklearn/linear_model/coordinate_descent.py:471: ConvergenceWarning: Objective did not converge. You might want to increase the number of iterations. Duality gap: 350.0958780744695, tolerance: 149.16424741924004\n",
      "  tol, rng, random, positive)\n",
      "/home/alex/anaconda3/lib/python3.7/site-packages/sklearn/linear_model/coordinate_descent.py:471: ConvergenceWarning: Objective did not converge. You might want to increase the number of iterations. Duality gap: 366.5432542102644, tolerance: 149.16424741924004\n",
      "  tol, rng, random, positive)\n",
      "/home/alex/anaconda3/lib/python3.7/site-packages/sklearn/linear_model/coordinate_descent.py:471: ConvergenceWarning: Objective did not converge. You might want to increase the number of iterations. Duality gap: 363.5169639711967, tolerance: 149.16424741924004\n",
      "  tol, rng, random, positive)\n",
      "/home/alex/anaconda3/lib/python3.7/site-packages/sklearn/linear_model/coordinate_descent.py:471: ConvergenceWarning: Objective did not converge. You might want to increase the number of iterations. Duality gap: 329.4740865204367, tolerance: 149.16424741924004\n",
      "  tol, rng, random, positive)\n",
      "/home/alex/anaconda3/lib/python3.7/site-packages/sklearn/linear_model/coordinate_descent.py:471: ConvergenceWarning: Objective did not converge. You might want to increase the number of iterations. Duality gap: 233.80701428779867, tolerance: 149.16424741924004\n",
      "  tol, rng, random, positive)\n",
      "/home/alex/anaconda3/lib/python3.7/site-packages/sklearn/linear_model/coordinate_descent.py:471: ConvergenceWarning: Objective did not converge. You might want to increase the number of iterations. Duality gap: 221.7939302752493, tolerance: 149.16424741924004\n",
      "  tol, rng, random, positive)\n",
      "/home/alex/anaconda3/lib/python3.7/site-packages/sklearn/linear_model/coordinate_descent.py:471: ConvergenceWarning: Objective did not converge. You might want to increase the number of iterations. Duality gap: 336.88866728008725, tolerance: 149.16424741924004\n",
      "  tol, rng, random, positive)\n",
      "/home/alex/anaconda3/lib/python3.7/site-packages/sklearn/linear_model/coordinate_descent.py:471: ConvergenceWarning: Objective did not converge. You might want to increase the number of iterations. Duality gap: 245.78571337007452, tolerance: 149.16424741924004\n",
      "  tol, rng, random, positive)\n",
      "/home/alex/anaconda3/lib/python3.7/site-packages/sklearn/linear_model/coordinate_descent.py:471: ConvergenceWarning: Objective did not converge. You might want to increase the number of iterations. Duality gap: 367.866602488386, tolerance: 149.16424741924004\n",
      "  tol, rng, random, positive)\n"
     ]
    },
    {
     "name": "stderr",
     "output_type": "stream",
     "text": [
      "/home/alex/anaconda3/lib/python3.7/site-packages/sklearn/linear_model/coordinate_descent.py:471: ConvergenceWarning: Objective did not converge. You might want to increase the number of iterations. Duality gap: 193.6902026378084, tolerance: 150.5866673026393\n",
      "  tol, rng, random, positive)\n",
      "/home/alex/anaconda3/lib/python3.7/site-packages/sklearn/linear_model/coordinate_descent.py:471: ConvergenceWarning: Objective did not converge. You might want to increase the number of iterations. Duality gap: 292.84597284987103, tolerance: 150.5866673026393\n",
      "  tol, rng, random, positive)\n",
      "/home/alex/anaconda3/lib/python3.7/site-packages/sklearn/linear_model/coordinate_descent.py:471: ConvergenceWarning: Objective did not converge. You might want to increase the number of iterations. Duality gap: 262.4638552843826, tolerance: 150.5866673026393\n",
      "  tol, rng, random, positive)\n",
      "/home/alex/anaconda3/lib/python3.7/site-packages/sklearn/linear_model/coordinate_descent.py:471: ConvergenceWarning: Objective did not converge. You might want to increase the number of iterations. Duality gap: 286.15928590507247, tolerance: 150.5866673026393\n",
      "  tol, rng, random, positive)\n",
      "/home/alex/anaconda3/lib/python3.7/site-packages/sklearn/linear_model/coordinate_descent.py:471: ConvergenceWarning: Objective did not converge. You might want to increase the number of iterations. Duality gap: 225.56201251538005, tolerance: 150.5866673026393\n",
      "  tol, rng, random, positive)\n",
      "/home/alex/anaconda3/lib/python3.7/site-packages/sklearn/linear_model/coordinate_descent.py:471: ConvergenceWarning: Objective did not converge. You might want to increase the number of iterations. Duality gap: 256.59939746477176, tolerance: 150.5866673026393\n",
      "  tol, rng, random, positive)\n",
      "/home/alex/anaconda3/lib/python3.7/site-packages/sklearn/linear_model/coordinate_descent.py:471: ConvergenceWarning: Objective did not converge. You might want to increase the number of iterations. Duality gap: 275.98593777877977, tolerance: 150.5866673026393\n",
      "  tol, rng, random, positive)\n",
      "/home/alex/anaconda3/lib/python3.7/site-packages/sklearn/linear_model/coordinate_descent.py:471: ConvergenceWarning: Objective did not converge. You might want to increase the number of iterations. Duality gap: 335.4988371786312, tolerance: 150.5866673026393\n",
      "  tol, rng, random, positive)\n",
      "/home/alex/anaconda3/lib/python3.7/site-packages/sklearn/linear_model/coordinate_descent.py:471: ConvergenceWarning: Objective did not converge. You might want to increase the number of iterations. Duality gap: 831.1866166237742, tolerance: 150.5866673026393\n",
      "  tol, rng, random, positive)\n",
      "/home/alex/anaconda3/lib/python3.7/site-packages/sklearn/linear_model/coordinate_descent.py:471: ConvergenceWarning: Objective did not converge. You might want to increase the number of iterations. Duality gap: 1338.0646856823587, tolerance: 150.5866673026393\n",
      "  tol, rng, random, positive)\n",
      "/home/alex/anaconda3/lib/python3.7/site-packages/sklearn/linear_model/coordinate_descent.py:471: ConvergenceWarning: Objective did not converge. You might want to increase the number of iterations. Duality gap: 1208.0193656819174, tolerance: 150.5866673026393\n",
      "  tol, rng, random, positive)\n",
      "/home/alex/anaconda3/lib/python3.7/site-packages/sklearn/linear_model/coordinate_descent.py:471: ConvergenceWarning: Objective did not converge. You might want to increase the number of iterations. Duality gap: 950.7238509510644, tolerance: 150.5866673026393\n",
      "  tol, rng, random, positive)\n",
      "/home/alex/anaconda3/lib/python3.7/site-packages/sklearn/linear_model/coordinate_descent.py:471: ConvergenceWarning: Objective did not converge. You might want to increase the number of iterations. Duality gap: 853.9766323622316, tolerance: 150.5866673026393\n",
      "  tol, rng, random, positive)\n",
      "/home/alex/anaconda3/lib/python3.7/site-packages/sklearn/linear_model/coordinate_descent.py:471: ConvergenceWarning: Objective did not converge. You might want to increase the number of iterations. Duality gap: 922.7658114461228, tolerance: 150.5866673026393\n",
      "  tol, rng, random, positive)\n",
      "/home/alex/anaconda3/lib/python3.7/site-packages/sklearn/linear_model/coordinate_descent.py:471: ConvergenceWarning: Objective did not converge. You might want to increase the number of iterations. Duality gap: 902.5190619903733, tolerance: 150.5866673026393\n",
      "  tol, rng, random, positive)\n",
      "/home/alex/anaconda3/lib/python3.7/site-packages/sklearn/linear_model/coordinate_descent.py:471: ConvergenceWarning: Objective did not converge. You might want to increase the number of iterations. Duality gap: 545.7745768758468, tolerance: 150.5866673026393\n",
      "  tol, rng, random, positive)\n",
      "/home/alex/anaconda3/lib/python3.7/site-packages/sklearn/linear_model/coordinate_descent.py:471: ConvergenceWarning: Objective did not converge. You might want to increase the number of iterations. Duality gap: 753.6413060915656, tolerance: 150.5866673026393\n",
      "  tol, rng, random, positive)\n",
      "/home/alex/anaconda3/lib/python3.7/site-packages/sklearn/linear_model/coordinate_descent.py:471: ConvergenceWarning: Objective did not converge. You might want to increase the number of iterations. Duality gap: 871.0363778326428, tolerance: 150.5866673026393\n",
      "  tol, rng, random, positive)\n",
      "/home/alex/anaconda3/lib/python3.7/site-packages/sklearn/linear_model/coordinate_descent.py:471: ConvergenceWarning: Objective did not converge. You might want to increase the number of iterations. Duality gap: 2059.5967238919693, tolerance: 150.5866673026393\n",
      "  tol, rng, random, positive)\n",
      "/home/alex/anaconda3/lib/python3.7/site-packages/sklearn/linear_model/coordinate_descent.py:471: ConvergenceWarning: Objective did not converge. You might want to increase the number of iterations. Duality gap: 166.88801828143187, tolerance: 151.0112920992877\n",
      "  tol, rng, random, positive)\n",
      "/home/alex/anaconda3/lib/python3.7/site-packages/sklearn/linear_model/coordinate_descent.py:471: ConvergenceWarning: Objective did not converge. You might want to increase the number of iterations. Duality gap: 199.70215637958609, tolerance: 151.0112920992877\n",
      "  tol, rng, random, positive)\n",
      "/home/alex/anaconda3/lib/python3.7/site-packages/sklearn/linear_model/coordinate_descent.py:471: ConvergenceWarning: Objective did not converge. You might want to increase the number of iterations. Duality gap: 246.1017880779109, tolerance: 151.0112920992877\n",
      "  tol, rng, random, positive)\n",
      "/home/alex/anaconda3/lib/python3.7/site-packages/sklearn/linear_model/coordinate_descent.py:471: ConvergenceWarning: Objective did not converge. You might want to increase the number of iterations. Duality gap: 310.10457479278557, tolerance: 151.0112920992877\n",
      "  tol, rng, random, positive)\n",
      "/home/alex/anaconda3/lib/python3.7/site-packages/sklearn/linear_model/coordinate_descent.py:471: ConvergenceWarning: Objective did not converge. You might want to increase the number of iterations. Duality gap: 250.22665266069816, tolerance: 151.0112920992877\n",
      "  tol, rng, random, positive)\n",
      "/home/alex/anaconda3/lib/python3.7/site-packages/sklearn/linear_model/coordinate_descent.py:471: ConvergenceWarning: Objective did not converge. You might want to increase the number of iterations. Duality gap: 350.51182659354527, tolerance: 151.0112920992877\n",
      "  tol, rng, random, positive)\n",
      "/home/alex/anaconda3/lib/python3.7/site-packages/sklearn/linear_model/coordinate_descent.py:471: ConvergenceWarning: Objective did not converge. You might want to increase the number of iterations. Duality gap: 409.43377184995916, tolerance: 151.0112920992877\n",
      "  tol, rng, random, positive)\n",
      "/home/alex/anaconda3/lib/python3.7/site-packages/sklearn/linear_model/coordinate_descent.py:471: ConvergenceWarning: Objective did not converge. You might want to increase the number of iterations. Duality gap: 416.9419915865874, tolerance: 151.0112920992877\n",
      "  tol, rng, random, positive)\n",
      "/home/alex/anaconda3/lib/python3.7/site-packages/sklearn/linear_model/coordinate_descent.py:471: ConvergenceWarning: Objective did not converge. You might want to increase the number of iterations. Duality gap: 526.8116392929805, tolerance: 151.0112920992877\n",
      "  tol, rng, random, positive)\n"
     ]
    },
    {
     "ename": "KeyboardInterrupt",
     "evalue": "",
     "output_type": "error",
     "traceback": [
      "\u001b[0;31m---------------------------------------------------------------------------\u001b[0m",
      "\u001b[0;31mKeyboardInterrupt\u001b[0m                         Traceback (most recent call last)",
      "\u001b[0;32m<ipython-input-60-f1e3993175f4>\u001b[0m in \u001b[0;36m<module>\u001b[0;34m\u001b[0m\n\u001b[0;32m----> 1\u001b[0;31m \u001b[0mnp\u001b[0m\u001b[0;34m.\u001b[0m\u001b[0mmean\u001b[0m\u001b[0;34m(\u001b[0m\u001b[0mcross_val_score\u001b[0m\u001b[0;34m(\u001b[0m\u001b[0mlasso_model\u001b[0m\u001b[0;34m,\u001b[0m \u001b[0mX9_tr_sc\u001b[0m\u001b[0;34m,\u001b[0m \u001b[0my8_train\u001b[0m\u001b[0;34m,\u001b[0m \u001b[0mcv\u001b[0m\u001b[0;34m=\u001b[0m\u001b[0;36m5\u001b[0m\u001b[0;34m,\u001b[0m\u001b[0mscoring\u001b[0m\u001b[0;34m=\u001b[0m\u001b[0;34m'r2'\u001b[0m\u001b[0;34m)\u001b[0m\u001b[0;34m)\u001b[0m\u001b[0;34m\u001b[0m\u001b[0;34m\u001b[0m\u001b[0m\n\u001b[0m",
      "\u001b[0;32m~/anaconda3/lib/python3.7/site-packages/sklearn/model_selection/_validation.py\u001b[0m in \u001b[0;36mcross_val_score\u001b[0;34m(estimator, X, y, groups, scoring, cv, n_jobs, verbose, fit_params, pre_dispatch, error_score)\u001b[0m\n\u001b[1;32m    387\u001b[0m                                 \u001b[0mfit_params\u001b[0m\u001b[0;34m=\u001b[0m\u001b[0mfit_params\u001b[0m\u001b[0;34m,\u001b[0m\u001b[0;34m\u001b[0m\u001b[0;34m\u001b[0m\u001b[0m\n\u001b[1;32m    388\u001b[0m                                 \u001b[0mpre_dispatch\u001b[0m\u001b[0;34m=\u001b[0m\u001b[0mpre_dispatch\u001b[0m\u001b[0;34m,\u001b[0m\u001b[0;34m\u001b[0m\u001b[0;34m\u001b[0m\u001b[0m\n\u001b[0;32m--> 389\u001b[0;31m                                 error_score=error_score)\n\u001b[0m\u001b[1;32m    390\u001b[0m     \u001b[0;32mreturn\u001b[0m \u001b[0mcv_results\u001b[0m\u001b[0;34m[\u001b[0m\u001b[0;34m'test_score'\u001b[0m\u001b[0;34m]\u001b[0m\u001b[0;34m\u001b[0m\u001b[0;34m\u001b[0m\u001b[0m\n\u001b[1;32m    391\u001b[0m \u001b[0;34m\u001b[0m\u001b[0m\n",
      "\u001b[0;32m~/anaconda3/lib/python3.7/site-packages/sklearn/model_selection/_validation.py\u001b[0m in \u001b[0;36mcross_validate\u001b[0;34m(estimator, X, y, groups, scoring, cv, n_jobs, verbose, fit_params, pre_dispatch, return_train_score, return_estimator, error_score)\u001b[0m\n\u001b[1;32m    229\u001b[0m             \u001b[0mreturn_times\u001b[0m\u001b[0;34m=\u001b[0m\u001b[0;32mTrue\u001b[0m\u001b[0;34m,\u001b[0m \u001b[0mreturn_estimator\u001b[0m\u001b[0;34m=\u001b[0m\u001b[0mreturn_estimator\u001b[0m\u001b[0;34m,\u001b[0m\u001b[0;34m\u001b[0m\u001b[0;34m\u001b[0m\u001b[0m\n\u001b[1;32m    230\u001b[0m             error_score=error_score)\n\u001b[0;32m--> 231\u001b[0;31m         for train, test in cv.split(X, y, groups))\n\u001b[0m\u001b[1;32m    232\u001b[0m \u001b[0;34m\u001b[0m\u001b[0m\n\u001b[1;32m    233\u001b[0m     \u001b[0mzipped_scores\u001b[0m \u001b[0;34m=\u001b[0m \u001b[0mlist\u001b[0m\u001b[0;34m(\u001b[0m\u001b[0mzip\u001b[0m\u001b[0;34m(\u001b[0m\u001b[0;34m*\u001b[0m\u001b[0mscores\u001b[0m\u001b[0;34m)\u001b[0m\u001b[0;34m)\u001b[0m\u001b[0;34m\u001b[0m\u001b[0;34m\u001b[0m\u001b[0m\n",
      "\u001b[0;32m~/anaconda3/lib/python3.7/site-packages/joblib/parallel.py\u001b[0m in \u001b[0;36m__call__\u001b[0;34m(self, iterable)\u001b[0m\n\u001b[1;32m    922\u001b[0m                 \u001b[0mself\u001b[0m\u001b[0;34m.\u001b[0m\u001b[0m_iterating\u001b[0m \u001b[0;34m=\u001b[0m \u001b[0mself\u001b[0m\u001b[0;34m.\u001b[0m\u001b[0m_original_iterator\u001b[0m \u001b[0;32mis\u001b[0m \u001b[0;32mnot\u001b[0m \u001b[0;32mNone\u001b[0m\u001b[0;34m\u001b[0m\u001b[0;34m\u001b[0m\u001b[0m\n\u001b[1;32m    923\u001b[0m \u001b[0;34m\u001b[0m\u001b[0m\n\u001b[0;32m--> 924\u001b[0;31m             \u001b[0;32mwhile\u001b[0m \u001b[0mself\u001b[0m\u001b[0;34m.\u001b[0m\u001b[0mdispatch_one_batch\u001b[0m\u001b[0;34m(\u001b[0m\u001b[0miterator\u001b[0m\u001b[0;34m)\u001b[0m\u001b[0;34m:\u001b[0m\u001b[0;34m\u001b[0m\u001b[0;34m\u001b[0m\u001b[0m\n\u001b[0m\u001b[1;32m    925\u001b[0m                 \u001b[0;32mpass\u001b[0m\u001b[0;34m\u001b[0m\u001b[0;34m\u001b[0m\u001b[0m\n\u001b[1;32m    926\u001b[0m \u001b[0;34m\u001b[0m\u001b[0m\n",
      "\u001b[0;32m~/anaconda3/lib/python3.7/site-packages/joblib/parallel.py\u001b[0m in \u001b[0;36mdispatch_one_batch\u001b[0;34m(self, iterator)\u001b[0m\n\u001b[1;32m    757\u001b[0m                 \u001b[0;32mreturn\u001b[0m \u001b[0;32mFalse\u001b[0m\u001b[0;34m\u001b[0m\u001b[0;34m\u001b[0m\u001b[0m\n\u001b[1;32m    758\u001b[0m             \u001b[0;32melse\u001b[0m\u001b[0;34m:\u001b[0m\u001b[0;34m\u001b[0m\u001b[0;34m\u001b[0m\u001b[0m\n\u001b[0;32m--> 759\u001b[0;31m                 \u001b[0mself\u001b[0m\u001b[0;34m.\u001b[0m\u001b[0m_dispatch\u001b[0m\u001b[0;34m(\u001b[0m\u001b[0mtasks\u001b[0m\u001b[0;34m)\u001b[0m\u001b[0;34m\u001b[0m\u001b[0;34m\u001b[0m\u001b[0m\n\u001b[0m\u001b[1;32m    760\u001b[0m                 \u001b[0;32mreturn\u001b[0m \u001b[0;32mTrue\u001b[0m\u001b[0;34m\u001b[0m\u001b[0;34m\u001b[0m\u001b[0m\n\u001b[1;32m    761\u001b[0m \u001b[0;34m\u001b[0m\u001b[0m\n",
      "\u001b[0;32m~/anaconda3/lib/python3.7/site-packages/joblib/parallel.py\u001b[0m in \u001b[0;36m_dispatch\u001b[0;34m(self, batch)\u001b[0m\n\u001b[1;32m    714\u001b[0m         \u001b[0;32mwith\u001b[0m \u001b[0mself\u001b[0m\u001b[0;34m.\u001b[0m\u001b[0m_lock\u001b[0m\u001b[0;34m:\u001b[0m\u001b[0;34m\u001b[0m\u001b[0;34m\u001b[0m\u001b[0m\n\u001b[1;32m    715\u001b[0m             \u001b[0mjob_idx\u001b[0m \u001b[0;34m=\u001b[0m \u001b[0mlen\u001b[0m\u001b[0;34m(\u001b[0m\u001b[0mself\u001b[0m\u001b[0;34m.\u001b[0m\u001b[0m_jobs\u001b[0m\u001b[0;34m)\u001b[0m\u001b[0;34m\u001b[0m\u001b[0;34m\u001b[0m\u001b[0m\n\u001b[0;32m--> 716\u001b[0;31m             \u001b[0mjob\u001b[0m \u001b[0;34m=\u001b[0m \u001b[0mself\u001b[0m\u001b[0;34m.\u001b[0m\u001b[0m_backend\u001b[0m\u001b[0;34m.\u001b[0m\u001b[0mapply_async\u001b[0m\u001b[0;34m(\u001b[0m\u001b[0mbatch\u001b[0m\u001b[0;34m,\u001b[0m \u001b[0mcallback\u001b[0m\u001b[0;34m=\u001b[0m\u001b[0mcb\u001b[0m\u001b[0;34m)\u001b[0m\u001b[0;34m\u001b[0m\u001b[0;34m\u001b[0m\u001b[0m\n\u001b[0m\u001b[1;32m    717\u001b[0m             \u001b[0;31m# A job can complete so quickly than its callback is\u001b[0m\u001b[0;34m\u001b[0m\u001b[0;34m\u001b[0m\u001b[0;34m\u001b[0m\u001b[0m\n\u001b[1;32m    718\u001b[0m             \u001b[0;31m# called before we get here, causing self._jobs to\u001b[0m\u001b[0;34m\u001b[0m\u001b[0;34m\u001b[0m\u001b[0;34m\u001b[0m\u001b[0m\n",
      "\u001b[0;32m~/anaconda3/lib/python3.7/site-packages/joblib/_parallel_backends.py\u001b[0m in \u001b[0;36mapply_async\u001b[0;34m(self, func, callback)\u001b[0m\n\u001b[1;32m    180\u001b[0m     \u001b[0;32mdef\u001b[0m \u001b[0mapply_async\u001b[0m\u001b[0;34m(\u001b[0m\u001b[0mself\u001b[0m\u001b[0;34m,\u001b[0m \u001b[0mfunc\u001b[0m\u001b[0;34m,\u001b[0m \u001b[0mcallback\u001b[0m\u001b[0;34m=\u001b[0m\u001b[0;32mNone\u001b[0m\u001b[0;34m)\u001b[0m\u001b[0;34m:\u001b[0m\u001b[0;34m\u001b[0m\u001b[0;34m\u001b[0m\u001b[0m\n\u001b[1;32m    181\u001b[0m         \u001b[0;34m\"\"\"Schedule a func to be run\"\"\"\u001b[0m\u001b[0;34m\u001b[0m\u001b[0;34m\u001b[0m\u001b[0m\n\u001b[0;32m--> 182\u001b[0;31m         \u001b[0mresult\u001b[0m \u001b[0;34m=\u001b[0m \u001b[0mImmediateResult\u001b[0m\u001b[0;34m(\u001b[0m\u001b[0mfunc\u001b[0m\u001b[0;34m)\u001b[0m\u001b[0;34m\u001b[0m\u001b[0;34m\u001b[0m\u001b[0m\n\u001b[0m\u001b[1;32m    183\u001b[0m         \u001b[0;32mif\u001b[0m \u001b[0mcallback\u001b[0m\u001b[0;34m:\u001b[0m\u001b[0;34m\u001b[0m\u001b[0;34m\u001b[0m\u001b[0m\n\u001b[1;32m    184\u001b[0m             \u001b[0mcallback\u001b[0m\u001b[0;34m(\u001b[0m\u001b[0mresult\u001b[0m\u001b[0;34m)\u001b[0m\u001b[0;34m\u001b[0m\u001b[0;34m\u001b[0m\u001b[0m\n",
      "\u001b[0;32m~/anaconda3/lib/python3.7/site-packages/joblib/_parallel_backends.py\u001b[0m in \u001b[0;36m__init__\u001b[0;34m(self, batch)\u001b[0m\n\u001b[1;32m    547\u001b[0m         \u001b[0;31m# Don't delay the application, to avoid keeping the input\u001b[0m\u001b[0;34m\u001b[0m\u001b[0;34m\u001b[0m\u001b[0;34m\u001b[0m\u001b[0m\n\u001b[1;32m    548\u001b[0m         \u001b[0;31m# arguments in memory\u001b[0m\u001b[0;34m\u001b[0m\u001b[0;34m\u001b[0m\u001b[0;34m\u001b[0m\u001b[0m\n\u001b[0;32m--> 549\u001b[0;31m         \u001b[0mself\u001b[0m\u001b[0;34m.\u001b[0m\u001b[0mresults\u001b[0m \u001b[0;34m=\u001b[0m \u001b[0mbatch\u001b[0m\u001b[0;34m(\u001b[0m\u001b[0;34m)\u001b[0m\u001b[0;34m\u001b[0m\u001b[0;34m\u001b[0m\u001b[0m\n\u001b[0m\u001b[1;32m    550\u001b[0m \u001b[0;34m\u001b[0m\u001b[0m\n\u001b[1;32m    551\u001b[0m     \u001b[0;32mdef\u001b[0m \u001b[0mget\u001b[0m\u001b[0;34m(\u001b[0m\u001b[0mself\u001b[0m\u001b[0;34m)\u001b[0m\u001b[0;34m:\u001b[0m\u001b[0;34m\u001b[0m\u001b[0;34m\u001b[0m\u001b[0m\n",
      "\u001b[0;32m~/anaconda3/lib/python3.7/site-packages/joblib/parallel.py\u001b[0m in \u001b[0;36m__call__\u001b[0;34m(self)\u001b[0m\n\u001b[1;32m    223\u001b[0m         \u001b[0;32mwith\u001b[0m \u001b[0mparallel_backend\u001b[0m\u001b[0;34m(\u001b[0m\u001b[0mself\u001b[0m\u001b[0;34m.\u001b[0m\u001b[0m_backend\u001b[0m\u001b[0;34m,\u001b[0m \u001b[0mn_jobs\u001b[0m\u001b[0;34m=\u001b[0m\u001b[0mself\u001b[0m\u001b[0;34m.\u001b[0m\u001b[0m_n_jobs\u001b[0m\u001b[0;34m)\u001b[0m\u001b[0;34m:\u001b[0m\u001b[0;34m\u001b[0m\u001b[0;34m\u001b[0m\u001b[0m\n\u001b[1;32m    224\u001b[0m             return [func(*args, **kwargs)\n\u001b[0;32m--> 225\u001b[0;31m                     for func, args, kwargs in self.items]\n\u001b[0m\u001b[1;32m    226\u001b[0m \u001b[0;34m\u001b[0m\u001b[0m\n\u001b[1;32m    227\u001b[0m     \u001b[0;32mdef\u001b[0m \u001b[0m__len__\u001b[0m\u001b[0;34m(\u001b[0m\u001b[0mself\u001b[0m\u001b[0;34m)\u001b[0m\u001b[0;34m:\u001b[0m\u001b[0;34m\u001b[0m\u001b[0;34m\u001b[0m\u001b[0m\n",
      "\u001b[0;32m~/anaconda3/lib/python3.7/site-packages/joblib/parallel.py\u001b[0m in \u001b[0;36m<listcomp>\u001b[0;34m(.0)\u001b[0m\n\u001b[1;32m    223\u001b[0m         \u001b[0;32mwith\u001b[0m \u001b[0mparallel_backend\u001b[0m\u001b[0;34m(\u001b[0m\u001b[0mself\u001b[0m\u001b[0;34m.\u001b[0m\u001b[0m_backend\u001b[0m\u001b[0;34m,\u001b[0m \u001b[0mn_jobs\u001b[0m\u001b[0;34m=\u001b[0m\u001b[0mself\u001b[0m\u001b[0;34m.\u001b[0m\u001b[0m_n_jobs\u001b[0m\u001b[0;34m)\u001b[0m\u001b[0;34m:\u001b[0m\u001b[0;34m\u001b[0m\u001b[0;34m\u001b[0m\u001b[0m\n\u001b[1;32m    224\u001b[0m             return [func(*args, **kwargs)\n\u001b[0;32m--> 225\u001b[0;31m                     for func, args, kwargs in self.items]\n\u001b[0m\u001b[1;32m    226\u001b[0m \u001b[0;34m\u001b[0m\u001b[0m\n\u001b[1;32m    227\u001b[0m     \u001b[0;32mdef\u001b[0m \u001b[0m__len__\u001b[0m\u001b[0;34m(\u001b[0m\u001b[0mself\u001b[0m\u001b[0;34m)\u001b[0m\u001b[0;34m:\u001b[0m\u001b[0;34m\u001b[0m\u001b[0;34m\u001b[0m\u001b[0m\n",
      "\u001b[0;32m~/anaconda3/lib/python3.7/site-packages/sklearn/model_selection/_validation.py\u001b[0m in \u001b[0;36m_fit_and_score\u001b[0;34m(estimator, X, y, scorer, train, test, verbose, parameters, fit_params, return_train_score, return_parameters, return_n_test_samples, return_times, return_estimator, error_score)\u001b[0m\n\u001b[1;32m    512\u001b[0m             \u001b[0mestimator\u001b[0m\u001b[0;34m.\u001b[0m\u001b[0mfit\u001b[0m\u001b[0;34m(\u001b[0m\u001b[0mX_train\u001b[0m\u001b[0;34m,\u001b[0m \u001b[0;34m**\u001b[0m\u001b[0mfit_params\u001b[0m\u001b[0;34m)\u001b[0m\u001b[0;34m\u001b[0m\u001b[0;34m\u001b[0m\u001b[0m\n\u001b[1;32m    513\u001b[0m         \u001b[0;32melse\u001b[0m\u001b[0;34m:\u001b[0m\u001b[0;34m\u001b[0m\u001b[0;34m\u001b[0m\u001b[0m\n\u001b[0;32m--> 514\u001b[0;31m             \u001b[0mestimator\u001b[0m\u001b[0;34m.\u001b[0m\u001b[0mfit\u001b[0m\u001b[0;34m(\u001b[0m\u001b[0mX_train\u001b[0m\u001b[0;34m,\u001b[0m \u001b[0my_train\u001b[0m\u001b[0;34m,\u001b[0m \u001b[0;34m**\u001b[0m\u001b[0mfit_params\u001b[0m\u001b[0;34m)\u001b[0m\u001b[0;34m\u001b[0m\u001b[0;34m\u001b[0m\u001b[0m\n\u001b[0m\u001b[1;32m    515\u001b[0m \u001b[0;34m\u001b[0m\u001b[0m\n\u001b[1;32m    516\u001b[0m     \u001b[0;32mexcept\u001b[0m \u001b[0mException\u001b[0m \u001b[0;32mas\u001b[0m \u001b[0me\u001b[0m\u001b[0;34m:\u001b[0m\u001b[0;34m\u001b[0m\u001b[0;34m\u001b[0m\u001b[0m\n",
      "\u001b[0;32m~/anaconda3/lib/python3.7/site-packages/sklearn/linear_model/coordinate_descent.py\u001b[0m in \u001b[0;36mfit\u001b[0;34m(self, X, y)\u001b[0m\n\u001b[1;32m   1193\u001b[0m                 for train, test in folds)\n\u001b[1;32m   1194\u001b[0m         mse_paths = Parallel(n_jobs=self.n_jobs, verbose=self.verbose,\n\u001b[0;32m-> 1195\u001b[0;31m                              **_joblib_parallel_args(prefer=\"threads\"))(jobs)\n\u001b[0m\u001b[1;32m   1196\u001b[0m         \u001b[0mmse_paths\u001b[0m \u001b[0;34m=\u001b[0m \u001b[0mnp\u001b[0m\u001b[0;34m.\u001b[0m\u001b[0mreshape\u001b[0m\u001b[0;34m(\u001b[0m\u001b[0mmse_paths\u001b[0m\u001b[0;34m,\u001b[0m \u001b[0;34m(\u001b[0m\u001b[0mn_l1_ratio\u001b[0m\u001b[0;34m,\u001b[0m \u001b[0mlen\u001b[0m\u001b[0;34m(\u001b[0m\u001b[0mfolds\u001b[0m\u001b[0;34m)\u001b[0m\u001b[0;34m,\u001b[0m \u001b[0;34m-\u001b[0m\u001b[0;36m1\u001b[0m\u001b[0;34m)\u001b[0m\u001b[0;34m)\u001b[0m\u001b[0;34m\u001b[0m\u001b[0;34m\u001b[0m\u001b[0m\n\u001b[1;32m   1197\u001b[0m         \u001b[0mmean_mse\u001b[0m \u001b[0;34m=\u001b[0m \u001b[0mnp\u001b[0m\u001b[0;34m.\u001b[0m\u001b[0mmean\u001b[0m\u001b[0;34m(\u001b[0m\u001b[0mmse_paths\u001b[0m\u001b[0;34m,\u001b[0m \u001b[0maxis\u001b[0m\u001b[0;34m=\u001b[0m\u001b[0;36m1\u001b[0m\u001b[0;34m)\u001b[0m\u001b[0;34m\u001b[0m\u001b[0;34m\u001b[0m\u001b[0m\n",
      "\u001b[0;32m~/anaconda3/lib/python3.7/site-packages/joblib/parallel.py\u001b[0m in \u001b[0;36m__call__\u001b[0;34m(self, iterable)\u001b[0m\n\u001b[1;32m    922\u001b[0m                 \u001b[0mself\u001b[0m\u001b[0;34m.\u001b[0m\u001b[0m_iterating\u001b[0m \u001b[0;34m=\u001b[0m \u001b[0mself\u001b[0m\u001b[0;34m.\u001b[0m\u001b[0m_original_iterator\u001b[0m \u001b[0;32mis\u001b[0m \u001b[0;32mnot\u001b[0m \u001b[0;32mNone\u001b[0m\u001b[0;34m\u001b[0m\u001b[0;34m\u001b[0m\u001b[0m\n\u001b[1;32m    923\u001b[0m \u001b[0;34m\u001b[0m\u001b[0m\n\u001b[0;32m--> 924\u001b[0;31m             \u001b[0;32mwhile\u001b[0m \u001b[0mself\u001b[0m\u001b[0;34m.\u001b[0m\u001b[0mdispatch_one_batch\u001b[0m\u001b[0;34m(\u001b[0m\u001b[0miterator\u001b[0m\u001b[0;34m)\u001b[0m\u001b[0;34m:\u001b[0m\u001b[0;34m\u001b[0m\u001b[0;34m\u001b[0m\u001b[0m\n\u001b[0m\u001b[1;32m    925\u001b[0m                 \u001b[0;32mpass\u001b[0m\u001b[0;34m\u001b[0m\u001b[0;34m\u001b[0m\u001b[0m\n\u001b[1;32m    926\u001b[0m \u001b[0;34m\u001b[0m\u001b[0m\n",
      "\u001b[0;32m~/anaconda3/lib/python3.7/site-packages/joblib/parallel.py\u001b[0m in \u001b[0;36mdispatch_one_batch\u001b[0;34m(self, iterator)\u001b[0m\n\u001b[1;32m    757\u001b[0m                 \u001b[0;32mreturn\u001b[0m \u001b[0;32mFalse\u001b[0m\u001b[0;34m\u001b[0m\u001b[0;34m\u001b[0m\u001b[0m\n\u001b[1;32m    758\u001b[0m             \u001b[0;32melse\u001b[0m\u001b[0;34m:\u001b[0m\u001b[0;34m\u001b[0m\u001b[0;34m\u001b[0m\u001b[0m\n\u001b[0;32m--> 759\u001b[0;31m                 \u001b[0mself\u001b[0m\u001b[0;34m.\u001b[0m\u001b[0m_dispatch\u001b[0m\u001b[0;34m(\u001b[0m\u001b[0mtasks\u001b[0m\u001b[0;34m)\u001b[0m\u001b[0;34m\u001b[0m\u001b[0;34m\u001b[0m\u001b[0m\n\u001b[0m\u001b[1;32m    760\u001b[0m                 \u001b[0;32mreturn\u001b[0m \u001b[0;32mTrue\u001b[0m\u001b[0;34m\u001b[0m\u001b[0;34m\u001b[0m\u001b[0m\n\u001b[1;32m    761\u001b[0m \u001b[0;34m\u001b[0m\u001b[0m\n",
      "\u001b[0;32m~/anaconda3/lib/python3.7/site-packages/joblib/parallel.py\u001b[0m in \u001b[0;36m_dispatch\u001b[0;34m(self, batch)\u001b[0m\n\u001b[1;32m    714\u001b[0m         \u001b[0;32mwith\u001b[0m \u001b[0mself\u001b[0m\u001b[0;34m.\u001b[0m\u001b[0m_lock\u001b[0m\u001b[0;34m:\u001b[0m\u001b[0;34m\u001b[0m\u001b[0;34m\u001b[0m\u001b[0m\n\u001b[1;32m    715\u001b[0m             \u001b[0mjob_idx\u001b[0m \u001b[0;34m=\u001b[0m \u001b[0mlen\u001b[0m\u001b[0;34m(\u001b[0m\u001b[0mself\u001b[0m\u001b[0;34m.\u001b[0m\u001b[0m_jobs\u001b[0m\u001b[0;34m)\u001b[0m\u001b[0;34m\u001b[0m\u001b[0;34m\u001b[0m\u001b[0m\n\u001b[0;32m--> 716\u001b[0;31m             \u001b[0mjob\u001b[0m \u001b[0;34m=\u001b[0m \u001b[0mself\u001b[0m\u001b[0;34m.\u001b[0m\u001b[0m_backend\u001b[0m\u001b[0;34m.\u001b[0m\u001b[0mapply_async\u001b[0m\u001b[0;34m(\u001b[0m\u001b[0mbatch\u001b[0m\u001b[0;34m,\u001b[0m \u001b[0mcallback\u001b[0m\u001b[0;34m=\u001b[0m\u001b[0mcb\u001b[0m\u001b[0;34m)\u001b[0m\u001b[0;34m\u001b[0m\u001b[0;34m\u001b[0m\u001b[0m\n\u001b[0m\u001b[1;32m    717\u001b[0m             \u001b[0;31m# A job can complete so quickly than its callback is\u001b[0m\u001b[0;34m\u001b[0m\u001b[0;34m\u001b[0m\u001b[0;34m\u001b[0m\u001b[0m\n\u001b[1;32m    718\u001b[0m             \u001b[0;31m# called before we get here, causing self._jobs to\u001b[0m\u001b[0;34m\u001b[0m\u001b[0;34m\u001b[0m\u001b[0;34m\u001b[0m\u001b[0m\n",
      "\u001b[0;32m~/anaconda3/lib/python3.7/site-packages/joblib/_parallel_backends.py\u001b[0m in \u001b[0;36mapply_async\u001b[0;34m(self, func, callback)\u001b[0m\n\u001b[1;32m    180\u001b[0m     \u001b[0;32mdef\u001b[0m \u001b[0mapply_async\u001b[0m\u001b[0;34m(\u001b[0m\u001b[0mself\u001b[0m\u001b[0;34m,\u001b[0m \u001b[0mfunc\u001b[0m\u001b[0;34m,\u001b[0m \u001b[0mcallback\u001b[0m\u001b[0;34m=\u001b[0m\u001b[0;32mNone\u001b[0m\u001b[0;34m)\u001b[0m\u001b[0;34m:\u001b[0m\u001b[0;34m\u001b[0m\u001b[0;34m\u001b[0m\u001b[0m\n\u001b[1;32m    181\u001b[0m         \u001b[0;34m\"\"\"Schedule a func to be run\"\"\"\u001b[0m\u001b[0;34m\u001b[0m\u001b[0;34m\u001b[0m\u001b[0m\n\u001b[0;32m--> 182\u001b[0;31m         \u001b[0mresult\u001b[0m \u001b[0;34m=\u001b[0m \u001b[0mImmediateResult\u001b[0m\u001b[0;34m(\u001b[0m\u001b[0mfunc\u001b[0m\u001b[0;34m)\u001b[0m\u001b[0;34m\u001b[0m\u001b[0;34m\u001b[0m\u001b[0m\n\u001b[0m\u001b[1;32m    183\u001b[0m         \u001b[0;32mif\u001b[0m \u001b[0mcallback\u001b[0m\u001b[0;34m:\u001b[0m\u001b[0;34m\u001b[0m\u001b[0;34m\u001b[0m\u001b[0m\n\u001b[1;32m    184\u001b[0m             \u001b[0mcallback\u001b[0m\u001b[0;34m(\u001b[0m\u001b[0mresult\u001b[0m\u001b[0;34m)\u001b[0m\u001b[0;34m\u001b[0m\u001b[0;34m\u001b[0m\u001b[0m\n",
      "\u001b[0;32m~/anaconda3/lib/python3.7/site-packages/joblib/_parallel_backends.py\u001b[0m in \u001b[0;36m__init__\u001b[0;34m(self, batch)\u001b[0m\n\u001b[1;32m    547\u001b[0m         \u001b[0;31m# Don't delay the application, to avoid keeping the input\u001b[0m\u001b[0;34m\u001b[0m\u001b[0;34m\u001b[0m\u001b[0;34m\u001b[0m\u001b[0m\n\u001b[1;32m    548\u001b[0m         \u001b[0;31m# arguments in memory\u001b[0m\u001b[0;34m\u001b[0m\u001b[0;34m\u001b[0m\u001b[0;34m\u001b[0m\u001b[0m\n\u001b[0;32m--> 549\u001b[0;31m         \u001b[0mself\u001b[0m\u001b[0;34m.\u001b[0m\u001b[0mresults\u001b[0m \u001b[0;34m=\u001b[0m \u001b[0mbatch\u001b[0m\u001b[0;34m(\u001b[0m\u001b[0;34m)\u001b[0m\u001b[0;34m\u001b[0m\u001b[0;34m\u001b[0m\u001b[0m\n\u001b[0m\u001b[1;32m    550\u001b[0m \u001b[0;34m\u001b[0m\u001b[0m\n\u001b[1;32m    551\u001b[0m     \u001b[0;32mdef\u001b[0m \u001b[0mget\u001b[0m\u001b[0;34m(\u001b[0m\u001b[0mself\u001b[0m\u001b[0;34m)\u001b[0m\u001b[0;34m:\u001b[0m\u001b[0;34m\u001b[0m\u001b[0;34m\u001b[0m\u001b[0m\n",
      "\u001b[0;32m~/anaconda3/lib/python3.7/site-packages/joblib/parallel.py\u001b[0m in \u001b[0;36m__call__\u001b[0;34m(self)\u001b[0m\n\u001b[1;32m    223\u001b[0m         \u001b[0;32mwith\u001b[0m \u001b[0mparallel_backend\u001b[0m\u001b[0;34m(\u001b[0m\u001b[0mself\u001b[0m\u001b[0;34m.\u001b[0m\u001b[0m_backend\u001b[0m\u001b[0;34m,\u001b[0m \u001b[0mn_jobs\u001b[0m\u001b[0;34m=\u001b[0m\u001b[0mself\u001b[0m\u001b[0;34m.\u001b[0m\u001b[0m_n_jobs\u001b[0m\u001b[0;34m)\u001b[0m\u001b[0;34m:\u001b[0m\u001b[0;34m\u001b[0m\u001b[0;34m\u001b[0m\u001b[0m\n\u001b[1;32m    224\u001b[0m             return [func(*args, **kwargs)\n\u001b[0;32m--> 225\u001b[0;31m                     for func, args, kwargs in self.items]\n\u001b[0m\u001b[1;32m    226\u001b[0m \u001b[0;34m\u001b[0m\u001b[0m\n\u001b[1;32m    227\u001b[0m     \u001b[0;32mdef\u001b[0m \u001b[0m__len__\u001b[0m\u001b[0;34m(\u001b[0m\u001b[0mself\u001b[0m\u001b[0;34m)\u001b[0m\u001b[0;34m:\u001b[0m\u001b[0;34m\u001b[0m\u001b[0;34m\u001b[0m\u001b[0m\n",
      "\u001b[0;32m~/anaconda3/lib/python3.7/site-packages/joblib/parallel.py\u001b[0m in \u001b[0;36m<listcomp>\u001b[0;34m(.0)\u001b[0m\n\u001b[1;32m    223\u001b[0m         \u001b[0;32mwith\u001b[0m \u001b[0mparallel_backend\u001b[0m\u001b[0;34m(\u001b[0m\u001b[0mself\u001b[0m\u001b[0;34m.\u001b[0m\u001b[0m_backend\u001b[0m\u001b[0;34m,\u001b[0m \u001b[0mn_jobs\u001b[0m\u001b[0;34m=\u001b[0m\u001b[0mself\u001b[0m\u001b[0;34m.\u001b[0m\u001b[0m_n_jobs\u001b[0m\u001b[0;34m)\u001b[0m\u001b[0;34m:\u001b[0m\u001b[0;34m\u001b[0m\u001b[0;34m\u001b[0m\u001b[0m\n\u001b[1;32m    224\u001b[0m             return [func(*args, **kwargs)\n\u001b[0;32m--> 225\u001b[0;31m                     for func, args, kwargs in self.items]\n\u001b[0m\u001b[1;32m    226\u001b[0m \u001b[0;34m\u001b[0m\u001b[0m\n\u001b[1;32m    227\u001b[0m     \u001b[0;32mdef\u001b[0m \u001b[0m__len__\u001b[0m\u001b[0;34m(\u001b[0m\u001b[0mself\u001b[0m\u001b[0;34m)\u001b[0m\u001b[0;34m:\u001b[0m\u001b[0;34m\u001b[0m\u001b[0;34m\u001b[0m\u001b[0m\n",
      "\u001b[0;32m~/anaconda3/lib/python3.7/site-packages/sklearn/linear_model/coordinate_descent.py\u001b[0m in \u001b[0;36m_path_residuals\u001b[0;34m(X, y, train, test, path, path_params, alphas, l1_ratio, X_order, dtype)\u001b[0m\n\u001b[1;32m   1011\u001b[0m     \u001b[0;31m# X is copied and a reference is kept here\u001b[0m\u001b[0;34m\u001b[0m\u001b[0;34m\u001b[0m\u001b[0;34m\u001b[0m\u001b[0m\n\u001b[1;32m   1012\u001b[0m     \u001b[0mX_train\u001b[0m \u001b[0;34m=\u001b[0m \u001b[0mcheck_array\u001b[0m\u001b[0;34m(\u001b[0m\u001b[0mX_train\u001b[0m\u001b[0;34m,\u001b[0m \u001b[0;34m'csc'\u001b[0m\u001b[0;34m,\u001b[0m \u001b[0mdtype\u001b[0m\u001b[0;34m=\u001b[0m\u001b[0mdtype\u001b[0m\u001b[0;34m,\u001b[0m \u001b[0morder\u001b[0m\u001b[0;34m=\u001b[0m\u001b[0mX_order\u001b[0m\u001b[0;34m)\u001b[0m\u001b[0;34m\u001b[0m\u001b[0;34m\u001b[0m\u001b[0m\n\u001b[0;32m-> 1013\u001b[0;31m     \u001b[0malphas\u001b[0m\u001b[0;34m,\u001b[0m \u001b[0mcoefs\u001b[0m\u001b[0;34m,\u001b[0m \u001b[0m_\u001b[0m \u001b[0;34m=\u001b[0m \u001b[0mpath\u001b[0m\u001b[0;34m(\u001b[0m\u001b[0mX_train\u001b[0m\u001b[0;34m,\u001b[0m \u001b[0my_train\u001b[0m\u001b[0;34m,\u001b[0m \u001b[0;34m**\u001b[0m\u001b[0mpath_params\u001b[0m\u001b[0;34m)\u001b[0m\u001b[0;34m\u001b[0m\u001b[0;34m\u001b[0m\u001b[0m\n\u001b[0m\u001b[1;32m   1014\u001b[0m     \u001b[0;32mdel\u001b[0m \u001b[0mX_train\u001b[0m\u001b[0;34m,\u001b[0m \u001b[0my_train\u001b[0m\u001b[0;34m\u001b[0m\u001b[0;34m\u001b[0m\u001b[0m\n\u001b[1;32m   1015\u001b[0m \u001b[0;34m\u001b[0m\u001b[0m\n",
      "\u001b[0;32m~/anaconda3/lib/python3.7/site-packages/sklearn/linear_model/coordinate_descent.py\u001b[0m in \u001b[0;36mlasso_path\u001b[0;34m(X, y, eps, n_alphas, alphas, precompute, Xy, copy_X, coef_init, verbose, return_n_iter, positive, **params)\u001b[0m\n\u001b[1;32m    261\u001b[0m                      \u001b[0malphas\u001b[0m\u001b[0;34m=\u001b[0m\u001b[0malphas\u001b[0m\u001b[0;34m,\u001b[0m \u001b[0mprecompute\u001b[0m\u001b[0;34m=\u001b[0m\u001b[0mprecompute\u001b[0m\u001b[0;34m,\u001b[0m \u001b[0mXy\u001b[0m\u001b[0;34m=\u001b[0m\u001b[0mXy\u001b[0m\u001b[0;34m,\u001b[0m\u001b[0;34m\u001b[0m\u001b[0;34m\u001b[0m\u001b[0m\n\u001b[1;32m    262\u001b[0m                      \u001b[0mcopy_X\u001b[0m\u001b[0;34m=\u001b[0m\u001b[0mcopy_X\u001b[0m\u001b[0;34m,\u001b[0m \u001b[0mcoef_init\u001b[0m\u001b[0;34m=\u001b[0m\u001b[0mcoef_init\u001b[0m\u001b[0;34m,\u001b[0m \u001b[0mverbose\u001b[0m\u001b[0;34m=\u001b[0m\u001b[0mverbose\u001b[0m\u001b[0;34m,\u001b[0m\u001b[0;34m\u001b[0m\u001b[0;34m\u001b[0m\u001b[0m\n\u001b[0;32m--> 263\u001b[0;31m                      positive=positive, return_n_iter=return_n_iter, **params)\n\u001b[0m\u001b[1;32m    264\u001b[0m \u001b[0;34m\u001b[0m\u001b[0m\n\u001b[1;32m    265\u001b[0m \u001b[0;34m\u001b[0m\u001b[0m\n",
      "\u001b[0;32m~/anaconda3/lib/python3.7/site-packages/sklearn/linear_model/coordinate_descent.py\u001b[0m in \u001b[0;36menet_path\u001b[0;34m(X, y, l1_ratio, eps, n_alphas, alphas, precompute, Xy, copy_X, coef_init, verbose, return_n_iter, positive, check_input, **params)\u001b[0m\n\u001b[1;32m    469\u001b[0m             model = cd_fast.enet_coordinate_descent_gram(\n\u001b[1;32m    470\u001b[0m                 \u001b[0mcoef_\u001b[0m\u001b[0;34m,\u001b[0m \u001b[0ml1_reg\u001b[0m\u001b[0;34m,\u001b[0m \u001b[0ml2_reg\u001b[0m\u001b[0;34m,\u001b[0m \u001b[0mprecompute\u001b[0m\u001b[0;34m,\u001b[0m \u001b[0mXy\u001b[0m\u001b[0;34m,\u001b[0m \u001b[0my\u001b[0m\u001b[0;34m,\u001b[0m \u001b[0mmax_iter\u001b[0m\u001b[0;34m,\u001b[0m\u001b[0;34m\u001b[0m\u001b[0;34m\u001b[0m\u001b[0m\n\u001b[0;32m--> 471\u001b[0;31m                 tol, rng, random, positive)\n\u001b[0m\u001b[1;32m    472\u001b[0m         \u001b[0;32melif\u001b[0m \u001b[0mprecompute\u001b[0m \u001b[0;32mis\u001b[0m \u001b[0;32mFalse\u001b[0m\u001b[0;34m:\u001b[0m\u001b[0;34m\u001b[0m\u001b[0;34m\u001b[0m\u001b[0m\n\u001b[1;32m    473\u001b[0m             model = cd_fast.enet_coordinate_descent(\n",
      "\u001b[0;32msklearn/linear_model/cd_fast.pyx\u001b[0m in \u001b[0;36msklearn.linear_model.cd_fast.enet_coordinate_descent_gram\u001b[0;34m()\u001b[0m\n",
      "\u001b[0;31mKeyboardInterrupt\u001b[0m: "
     ]
    }
   ],
   "source": [
    "np.mean(cross_val_score(lasso_model, X9_tr_sc, y8_train, cv=5,scoring='r2'))"
   ]
  },
  {
   "cell_type": "code",
   "execution_count": 217,
   "metadata": {
    "ExecuteTime": {
     "end_time": "2019-10-11T05:22:44.102177Z",
     "start_time": "2019-10-11T05:22:43.657331Z"
    },
    "scrolled": true
   },
   "outputs": [
    {
     "name": "stderr",
     "output_type": "stream",
     "text": [
      "/home/alex/anaconda3/lib/python3.7/site-packages/ipykernel_launcher.py:1: RuntimeWarning: divide by zero encountered in log10\n",
      "  \"\"\"Entry point for launching an IPython kernel.\n"
     ]
    },
    {
     "data": {
      "text/plain": [
       "<matplotlib.collections.PathCollection at 0x7f46251c4a58>"
      ]
     },
     "execution_count": 217,
     "metadata": {},
     "output_type": "execute_result"
    },
    {
     "data": {
      "image/png": "[encoded data removed]",
      "text/plain": [
       "<Figure size 432x288 with 1 Axes>"
      ]
     },
     "metadata": {},
     "output_type": "display_data"
    }
   ],
   "source": [
    "plt.scatter(np.log10(df7['want_num']*df7['want_have_ratio'])**2,df7['median'])"
   ]
  },
  {
   "cell_type": "code",
   "execution_count": 295,
   "metadata": {
    "ExecuteTime": {
     "end_time": "2019-10-11T18:42:27.578836Z",
     "start_time": "2019-10-11T18:42:26.673626Z"
    },
    "scrolled": true
   },
   "outputs": [
    {
     "data": {
      "image/png": "[encoded data removed]",
      "text/plain": [
       "<Figure size 432x648 with 2 Axes>"
      ]
     },
     "metadata": {},
     "output_type": "display_data"
    }
   ],
   "source": [
    "fig, axs = plt.subplots(2,1, figsize=(6,9))\n",
    "axs[0] = sns.scatterplot(df7['have_num'],df7['median'], alpha = 0.2, ax=axs[0])\n",
    "axs[0].set_ylabel(\"\")\n",
    "axs[1] = sns.scatterplot(df7['inv_have_num'], df7['median'], alpha=0.2, ax=axs[1])\n",
    "fig.subplots_adjust(hspace=.33)\n"
   ]
  },
  {
   "cell_type": "code",
   "execution_count": 86,
   "metadata": {
    "ExecuteTime": {
     "end_time": "2019-10-14T15:14:27.713530Z",
     "start_time": "2019-10-14T15:14:27.654858Z"
    },
    "scrolled": true
   },
   "outputs": [],
   "source": [
    "df8=df7.copy()\n",
    "df8['sqrt_rating_want'] = np.sqrt(df8['rating']*df8['want_num'])\n",
    "df8['inv_rating_scaled'].replace(np.inf, 0,inplace=True)\n",
    "\n",
    "X10_train, X10_val, X10_test, y10_train, y10_val, y10_test = \\\n",
    "TrainValTest(df8.drop('median',axis=1), df8['median'])"
   ]
  },
  {
   "cell_type": "code",
   "execution_count": 87,
   "metadata": {
    "ExecuteTime": {
     "end_time": "2019-10-14T15:14:28.104515Z",
     "start_time": "2019-10-14T15:14:28.053412Z"
    },
    "scrolled": true
   },
   "outputs": [
    {
     "name": "stdout",
     "output_type": "stream",
     "text": [
      "Training score:  0.3792377372915178 \n",
      "Validation Score:  0.4452812355368857\n"
     ]
    }
   ],
   "source": [
    "lm9 = LinearRegression()\n",
    "lm9.fit(X10_train, y10_train)\n",
    "print(\"Training score: \",lm9.score(X10_train, y10_train),\\\n",
    "      \"\\nValidation Score: \",lm9.score(X10_val,y10_val))"
   ]
  },
  {
   "cell_type": "code",
   "execution_count": 88,
   "metadata": {
    "ExecuteTime": {
     "end_time": "2019-10-14T15:14:28.493249Z",
     "start_time": "2019-10-14T15:14:28.249144Z"
    },
    "scrolled": true
   },
   "outputs": [
    {
     "data": {
      "text/plain": [
       "0.38223052532856744"
      ]
     },
     "execution_count": 88,
     "metadata": {},
     "output_type": "execute_result"
    }
   ],
   "source": [
    "np.mean(cross_val_score(lm9, df8.drop('median',axis=1), df8['median'], cv=5,scoring='r2'))"
   ]
  },
  {
   "cell_type": "code",
   "execution_count": 89,
   "metadata": {
    "ExecuteTime": {
     "end_time": "2019-10-14T15:14:28.533748Z",
     "start_time": "2019-10-14T15:14:28.497028Z"
    },
    "scrolled": true
   },
   "outputs": [],
   "source": [
    "df9=df8.copy()\n",
    "df9['sqrt_wantsq/have'] = np.sqrt(df7['want_num']*df7['want_have_ratio'])\n",
    "\n",
    "X11_train, X11_val, X11_test, y11_train, y11_val, y11_test = \\\n",
    "TrainValTest(df9.drop('median',axis=1), df9['median'])\n"
   ]
  },
  {
   "cell_type": "code",
   "execution_count": 90,
   "metadata": {
    "ExecuteTime": {
     "end_time": "2019-10-14T15:14:28.776648Z",
     "start_time": "2019-10-14T15:14:28.731110Z"
    },
    "scrolled": true
   },
   "outputs": [
    {
     "name": "stdout",
     "output_type": "stream",
     "text": [
      "Training score:  0.4070523735087206 \n",
      "Validation Score:  0.45471314487274084\n"
     ]
    }
   ],
   "source": [
    "lm10 = LinearRegression()\n",
    "lm10.fit(X11_train, y11_train)\n",
    "print(\"Training score: \",lm10.score(X11_train, y11_train),\\\n",
    "      \"\\nValidation Score: \",lm10.score(X11_val,y11_val))"
   ]
  },
  {
   "cell_type": "code",
   "execution_count": 91,
   "metadata": {
    "ExecuteTime": {
     "end_time": "2019-10-14T15:14:29.015153Z",
     "start_time": "2019-10-14T15:14:28.979724Z"
    },
    "scrolled": true
   },
   "outputs": [],
   "source": [
    "df10=df9.copy()\n",
    "df10['sqrt_linknum_by_want/have'] = np.sqrt(df10['link_num']*df10['want_have_ratio'])\n",
    "\n",
    "X12_train, X12_val, X12_test, y12_train, y12_val, y12_test = \\\n",
    "TrainValTest(df10.drop('median',axis=1), df10['median'])\n"
   ]
  },
  {
   "cell_type": "code",
   "execution_count": 93,
   "metadata": {
    "ExecuteTime": {
     "end_time": "2019-10-14T15:14:32.929361Z",
     "start_time": "2019-10-14T15:14:32.885319Z"
    },
    "scrolled": true
   },
   "outputs": [
    {
     "name": "stdout",
     "output_type": "stream",
     "text": [
      "Training score:  0.42876279825974406 \n",
      "Validation Score:  0.45869284871539434\n"
     ]
    }
   ],
   "source": [
    "lm11 = LinearRegression()\n",
    "lm11.fit(X12_train, y12_train)\n",
    "print(\"Training score: \",lm11.score(X12_train, y12_train),\\\n",
    "      \"\\nValidation Score: \",lm11.score(X12_val,y12_val))"
   ]
  },
  {
   "cell_type": "code",
   "execution_count": 99,
   "metadata": {
    "ExecuteTime": {
     "end_time": "2019-10-14T15:15:52.033115Z",
     "start_time": "2019-10-14T15:15:51.416492Z"
    },
    "scrolled": true
   },
   "outputs": [
    {
     "name": "stdout",
     "output_type": "stream",
     "text": [
      "Training score:  0.42742285707436445 \n",
      "Validation Score:  0.4609372238219853\n"
     ]
    }
   ],
   "source": [
    "alphavec=np.linspace(75,90, 90)\n",
    "lm12 = RidgeCV(alphas=alphavec, store_cv_values=True)\n",
    "lm12.fit(X12_train, y12_train)\n",
    "print(\"Training score: \",lm12.score(X12_train, y12_train),\\\n",
    "      \"\\nValidation Score: \",lm12.score(X12_val,y12_val))"
   ]
  },
  {
   "cell_type": "code",
   "execution_count": 124,
   "metadata": {
    "ExecuteTime": {
     "end_time": "2019-10-14T15:36:49.326484Z",
     "start_time": "2019-10-14T15:36:49.321231Z"
    },
    "scrolled": true
   },
   "outputs": [
    {
     "data": {
      "text/plain": [
       "80.3932584269663"
      ]
     },
     "execution_count": 124,
     "metadata": {},
     "output_type": "execute_result"
    }
   ],
   "source": [
    "lm12.alpha_"
   ]
  },
  {
   "cell_type": "code",
   "execution_count": 126,
   "metadata": {
    "ExecuteTime": {
     "end_time": "2019-10-14T15:37:07.754454Z",
     "start_time": "2019-10-14T15:37:07.724751Z"
    },
    "scrolled": true
   },
   "outputs": [],
   "source": [
    "X_train_f, X_test_f, y_train_f, y_test_f =train_test_split(df10.drop('median',axis=1), df10['median'], test_size=0.2, random_state=42)"
   ]
  },
  {
   "cell_type": "code",
   "execution_count": 128,
   "metadata": {
    "ExecuteTime": {
     "end_time": "2019-10-14T15:37:15.170153Z",
     "start_time": "2019-10-14T15:37:15.123770Z"
    },
    "scrolled": true
   },
   "outputs": [
    {
     "name": "stdout",
     "output_type": "stream",
     "text": [
      "Training score:  0.4386395437319395 \n",
      "Validation Score:  0.4319022346050694\n"
     ]
    }
   ],
   "source": [
    "lm11.fit(X_train_f, y_train_f)\n",
    "print(\"Training score: \",lm11.score(X_train_f, y_train_f),\\\n",
    "      \"\\nValidation Score: \",lm11.score(X_test_f,y_test_f))"
   ]
  },
  {
   "cell_type": "code",
   "execution_count": 273,
   "metadata": {
    "ExecuteTime": {
     "end_time": "2019-10-11T18:32:12.387741Z",
     "start_time": "2019-10-11T18:32:12.172177Z"
    },
    "scrolled": true
   },
   "outputs": [
    {
     "data": {
      "text/plain": [
       "(array([160.,  61.,  15.,   8.,   3.,   1.,   0.,   0.,   0.,   1.]),\n",
       " array([  1.   ,  17.399,  33.798,  50.197,  66.596,  82.995,  99.394,\n",
       "        115.793, 132.192, 148.591, 164.99 ]),\n",
       " <a list of 10 Patch objects>)"
      ]
     },
     "execution_count": 273,
     "metadata": {},
     "output_type": "execute_result"
    },
    {
     "data": {
      "image/png": "[encoded data removed]",
      "text/plain": [
       "<Figure size 432x288 with 1 Axes>"
      ]
     },
     "metadata": {},
     "output_type": "display_data"
    }
   ],
   "source": [
    "sorted(list(zip(lm11.coef_, X_train_f.columns)),reverse=True)\n",
    "plt.hist(y_train[X_train['country_Japan']==1])"
   ]
  },
  {
   "cell_type": "code",
   "execution_count": 228,
   "metadata": {
    "ExecuteTime": {
     "end_time": "2019-10-11T05:23:08.950268Z",
     "start_time": "2019-10-11T05:23:08.943133Z"
    },
    "scrolled": true
   },
   "outputs": [],
   "source": [
    "y_hat = lm11.predict(X_test_f)"
   ]
  },
  {
   "cell_type": "markdown",
   "metadata": {},
   "source": [
    "# Visualizations"
   ]
  },
  {
   "cell_type": "code",
   "execution_count": 229,
   "metadata": {
    "ExecuteTime": {
     "end_time": "2019-10-11T05:23:12.800615Z",
     "start_time": "2019-10-11T05:23:12.794296Z"
    },
    "scrolled": true
   },
   "outputs": [],
   "source": [
    "import patsy\n",
    "import scipy.stats as stats"
   ]
  },
  {
   "cell_type": "code",
   "execution_count": 112,
   "metadata": {
    "ExecuteTime": {
     "end_time": "2019-10-11T04:48:18.563123Z",
     "start_time": "2019-10-11T04:48:18.023814Z"
    },
    "scrolled": true
   },
   "outputs": [
    {
     "data": {
      "image/png": "[encoded data removed]",
      "text/plain": [
       "<Figure size 1152x648 with 2 Axes>"
      ]
     },
     "metadata": {},
     "output_type": "display_data"
    }
   ],
   "source": [
    "matplotlib.rcParams['font.sans-serif'] = \"AnjaliOldLipi\"\n",
    "sns.set_context('talk', font_scale=1.4)\n",
    "fig, ax =plt.subplots(2,1,'col', figsize = (16,9))\n",
    "ax[0].tick_params('y', left=False, labelleft=False)\n",
    "sns.distplot(df_base['median'], ax=ax[0], axlabel=False)\n",
    "sns.boxplot(df_base['median'], ax=ax[1])\n",
    "fig.subplots_adjust(wspace=.02, hspace=.02)\n",
    "plt.suptitle(\"Median Price (log scale)\", fontsize=36, fontweight=5);\n",
    "\n",
    "plt.savefig('box_target.png')"
   ]
  },
  {
   "cell_type": "code",
   "execution_count": 253,
   "metadata": {
    "ExecuteTime": {
     "end_time": "2019-10-11T14:48:17.281082Z",
     "start_time": "2019-10-11T14:48:16.661717Z"
    },
    "scrolled": true
   },
   "outputs": [
    {
     "data": {
      "image/png": "[encoded data removed]",
      "text/plain": [
       "<Figure size 576x792 with 1 Axes>"
      ]
     },
     "metadata": {},
     "output_type": "display_data"
    }
   ],
   "source": [
    "fig = plt.figure(figsize=(8,11))\n",
    "sns.regplot(y_hat, y_test_f, scatter_kws={'alpha':0.1})\n",
    "plt.ylabel('Actual ($)')\n",
    "plt.xlabel('Predicted ($)')\n",
    "plt.title('Actual vs Predicted Price')\n",
    "plt.savefig('regplot_wo_outliers_half.png')"
   ]
  },
  {
   "cell_type": "code",
   "execution_count": null,
   "metadata": {
    "scrolled": true
   },
   "outputs": [],
   "source": [
    "sns.residplot()"
   ]
  },
  {
   "cell_type": "code",
   "execution_count": 256,
   "metadata": {
    "ExecuteTime": {
     "end_time": "2019-10-11T15:34:46.097542Z",
     "start_time": "2019-10-11T15:34:45.604529Z"
    },
    "scrolled": true
   },
   "outputs": [
    {
     "data": {
      "image/png": "[encoded data removed]",
      "text/plain": [
       "<Figure size 1224x504 with 2 Axes>"
      ]
     },
     "metadata": {},
     "output_type": "display_data"
    }
   ],
   "source": [
    "fig, axs = plt.subplots(1,2, figsize=(17,7))\n",
    "sns.scatterplot(y_hat,(y_hat-y_test_f), ax=axs[0],alpha=0.2)\n",
    "axs[0].set_title(\"Residual Plot\")\n",
    "axs[0].tick_params('y', labelleft=False)\n",
    "plt.subplot(1,2,2)\n",
    "stats.probplot(y_hat, dist=\"norm\", plot=plt)\n",
    "ax[1].set_title('Q-Q Plot')\n",
    "fig.subplots_adjust(wspace=.3)\n",
    "#fig.savefig('res_and_qq_no_outliers.png')\n"
   ]
  },
  {
   "cell_type": "code",
   "execution_count": 250,
   "metadata": {
    "ExecuteTime": {
     "end_time": "2019-10-11T11:45:42.193842Z",
     "start_time": "2019-10-11T11:45:41.565811Z"
    }
   },
   "outputs": [
    {
     "data": {
      "text/plain": [
       "<matplotlib.collections.PathCollection at 0x7f460de58d68>"
      ]
     },
     "execution_count": 250,
     "metadata": {},
     "output_type": "execute_result"
    },
    {
     "data": {
      "image/png": "[encoded data removed]",
      "text/plain": [
       "<Figure size 432x288 with 1 Axes>"
      ]
     },
     "metadata": {},
     "output_type": "display_data"
    }
   ],
   "source": [
    "plt.scatter(np.sqrt(df_base['comment_num']), df_base['median'])"
   ]
  },
  {
   "cell_type": "code",
   "execution_count": null,
   "metadata": {
    "scrolled": true
   },
   "outputs": [],
   "source": []
  }
 ],
 "metadata": {
  "kernelspec": {
   "display_name": "Python 3",
   "language": "python",
   "name": "python3"
  },
  "language_info": {
   "codemirror_mode": {
    "name": "ipython",
    "version": 3
   },
   "file_extension": ".py",
   "mimetype": "text/x-python",
   "name": "python",
   "nbconvert_exporter": "python",
   "pygments_lexer": "ipython3",
   "version": "3.7.3"
  },
  "varInspector": {
   "cols": {
    "lenName": 16,
    "lenType": 16,
    "lenVar": 40
   },
   "kernels_config": {
    "python": {
     "delete_cmd_postfix": "",
     "delete_cmd_prefix": "del ",
     "library": "var_list.py",
     "varRefreshCmd": "print(var_dic_list())"
    },
    "r": {
     "delete_cmd_postfix": ") ",
     "delete_cmd_prefix": "rm(",
     "library": "var_list.r",
     "varRefreshCmd": "cat(var_dic_list()) "
    }
   },
   "types_to_exclude": [
    "module",
    "function",
    "builtin_function_or_method",
    "instance",
    "_Feature"
   ],
   "window_display": true
  }
 },
 "nbformat": 4,
 "nbformat_minor": 2
}
